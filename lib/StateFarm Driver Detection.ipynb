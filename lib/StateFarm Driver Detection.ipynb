{
 "cells": [
  {
   "cell_type": "code",
   "execution_count": 2,
   "metadata": {
    "collapsed": true
   },
   "outputs": [],
   "source": [
    "import graphlab"
   ]
  },
  {
   "cell_type": "code",
   "execution_count": 26,
   "metadata": {
    "collapsed": false
   },
   "outputs": [
    {
     "data": {
      "text/html": [
       "<pre>Read 1720 images in 5.00054 secs\tspeed: 343.963 file/sec</pre>"
      ],
      "text/plain": [
       "Read 1720 images in 5.00054 secs\tspeed: 343.963 file/sec"
      ]
     },
     "metadata": {},
     "output_type": "display_data"
    },
    {
     "data": {
      "text/html": [
       "<pre>Read 3425 images in 10.0019 secs\tspeed: 340.904 file/sec</pre>"
      ],
      "text/plain": [
       "Read 3425 images in 10.0019 secs\tspeed: 340.904 file/sec"
      ]
     },
     "metadata": {},
     "output_type": "display_data"
    },
    {
     "data": {
      "text/html": [
       "<pre>Unsupported image format. Supported formats are JPG and PNG\t file: /Users/voelunteer/Project/Kaggle/StateFarm/data/imgs/train/.DS_Store</pre>"
      ],
      "text/plain": [
       "Unsupported image format. Supported formats are JPG and PNG\t file: /Users/voelunteer/Project/Kaggle/StateFarm/data/imgs/train/.DS_Store"
      ]
     },
     "metadata": {},
     "output_type": "display_data"
    },
    {
     "data": {
      "text/html": [
       "<pre>Read 5141 images in 15.0026 secs\tspeed: 343.155 file/sec</pre>"
      ],
      "text/plain": [
       "Read 5141 images in 15.0026 secs\tspeed: 343.155 file/sec"
      ]
     },
     "metadata": {},
     "output_type": "display_data"
    },
    {
     "data": {
      "text/html": [
       "<pre>Read 6823 images in 20.0029 secs\tspeed: 336.376 file/sec</pre>"
      ],
      "text/plain": [
       "Read 6823 images in 20.0029 secs\tspeed: 336.376 file/sec"
      ]
     },
     "metadata": {},
     "output_type": "display_data"
    },
    {
     "data": {
      "text/html": [
       "<pre>Read 8505 images in 25.0051 secs\tspeed: 336.255 file/sec</pre>"
      ],
      "text/plain": [
       "Read 8505 images in 25.0051 secs\tspeed: 336.255 file/sec"
      ]
     },
     "metadata": {},
     "output_type": "display_data"
    },
    {
     "data": {
      "text/html": [
       "<pre>Read 10184 images in 30.011 secs\tspeed: 335.402 file/sec</pre>"
      ],
      "text/plain": [
       "Read 10184 images in 30.011 secs\tspeed: 335.402 file/sec"
      ]
     },
     "metadata": {},
     "output_type": "display_data"
    },
    {
     "data": {
      "text/html": [
       "<pre>Read 11855 images in 35.0129 secs\tspeed: 334.075 file/sec</pre>"
      ],
      "text/plain": [
       "Read 11855 images in 35.0129 secs\tspeed: 334.075 file/sec"
      ]
     },
     "metadata": {},
     "output_type": "display_data"
    },
    {
     "data": {
      "text/html": [
       "<pre>Unsupported image format. Supported formats are JPG and PNG\t file: /Users/voelunteer/Project/Kaggle/StateFarm/data/imgs/train/c0/.DS_Store</pre>"
      ],
      "text/plain": [
       "Unsupported image format. Supported formats are JPG and PNG\t file: /Users/voelunteer/Project/Kaggle/StateFarm/data/imgs/train/c0/.DS_Store"
      ]
     },
     "metadata": {},
     "output_type": "display_data"
    },
    {
     "data": {
      "text/html": [
       "<pre>Unsupported image format. Supported formats are JPG and PNG\t file: /Users/voelunteer/Project/Kaggle/StateFarm/data/imgs/train/c1/.DS_Store</pre>"
      ],
      "text/plain": [
       "Unsupported image format. Supported formats are JPG and PNG\t file: /Users/voelunteer/Project/Kaggle/StateFarm/data/imgs/train/c1/.DS_Store"
      ]
     },
     "metadata": {},
     "output_type": "display_data"
    },
    {
     "data": {
      "text/html": [
       "<pre>Read 13531 images in 40.0149 secs\tspeed: 335.067 file/sec</pre>"
      ],
      "text/plain": [
       "Read 13531 images in 40.0149 secs\tspeed: 335.067 file/sec"
      ]
     },
     "metadata": {},
     "output_type": "display_data"
    },
    {
     "data": {
      "text/html": [
       "<pre>Read 15217 images in 45.0162 secs\tspeed: 337.114 file/sec</pre>"
      ],
      "text/plain": [
       "Read 15217 images in 45.0162 secs\tspeed: 337.114 file/sec"
      ]
     },
     "metadata": {},
     "output_type": "display_data"
    },
    {
     "data": {
      "text/html": [
       "<pre>Read 16853 images in 50.0174 secs\tspeed: 327.116 file/sec</pre>"
      ],
      "text/plain": [
       "Read 16853 images in 50.0174 secs\tspeed: 327.116 file/sec"
      ]
     },
     "metadata": {},
     "output_type": "display_data"
    },
    {
     "data": {
      "text/html": [
       "<pre>Read 18520 images in 55.0215 secs\tspeed: 333.128 file/sec</pre>"
      ],
      "text/plain": [
       "Read 18520 images in 55.0215 secs\tspeed: 333.128 file/sec"
      ]
     },
     "metadata": {},
     "output_type": "display_data"
    },
    {
     "data": {
      "text/html": [
       "<pre>Read 20199 images in 60.0242 secs\tspeed: 335.624 file/sec</pre>"
      ],
      "text/plain": [
       "Read 20199 images in 60.0242 secs\tspeed: 335.624 file/sec"
      ]
     },
     "metadata": {},
     "output_type": "display_data"
    },
    {
     "data": {
      "text/html": [
       "<pre>Read 21842 images in 65.0261 secs\tspeed: 328.471 file/sec</pre>"
      ],
      "text/plain": [
       "Read 21842 images in 65.0261 secs\tspeed: 328.471 file/sec"
      ]
     },
     "metadata": {},
     "output_type": "display_data"
    }
   ],
   "source": [
    "train_imgs = graphlab.image_analysis.load_images('../data/imgs/train')"
   ]
  },
  {
   "cell_type": "code",
   "execution_count": 27,
   "metadata": {
    "collapsed": false
   },
   "outputs": [
    {
     "data": {
      "text/html": [
       "<pre>Read 1753 images in 5.00342 secs\tspeed: 350.36 file/sec</pre>"
      ],
      "text/plain": [
       "Read 1753 images in 5.00342 secs\tspeed: 350.36 file/sec"
      ]
     },
     "metadata": {},
     "output_type": "display_data"
    },
    {
     "data": {
      "text/html": [
       "<pre>Read 2680 images in 10.5174 secs\tspeed: 168.117 file/sec</pre>"
      ],
      "text/plain": [
       "Read 2680 images in 10.5174 secs\tspeed: 168.117 file/sec"
      ]
     },
     "metadata": {},
     "output_type": "display_data"
    },
    {
     "data": {
      "text/html": [
       "<pre>Read 4099 images in 15.5189 secs\tspeed: 283.716 file/sec</pre>"
      ],
      "text/plain": [
       "Read 4099 images in 15.5189 secs\tspeed: 283.716 file/sec"
      ]
     },
     "metadata": {},
     "output_type": "display_data"
    },
    {
     "data": {
      "text/html": [
       "<pre>Read 5619 images in 20.5208 secs\tspeed: 303.884 file/sec</pre>"
      ],
      "text/plain": [
       "Read 5619 images in 20.5208 secs\tspeed: 303.884 file/sec"
      ]
     },
     "metadata": {},
     "output_type": "display_data"
    },
    {
     "data": {
      "text/html": [
       "<pre>Read 7105 images in 25.5252 secs\tspeed: 296.938 file/sec</pre>"
      ],
      "text/plain": [
       "Read 7105 images in 25.5252 secs\tspeed: 296.938 file/sec"
      ]
     },
     "metadata": {},
     "output_type": "display_data"
    },
    {
     "data": {
      "text/html": [
       "<pre>Read 8502 images in 30.5307 secs\tspeed: 279.093 file/sec</pre>"
      ],
      "text/plain": [
       "Read 8502 images in 30.5307 secs\tspeed: 279.093 file/sec"
      ]
     },
     "metadata": {},
     "output_type": "display_data"
    },
    {
     "data": {
      "text/html": [
       "<pre>Read 9837 images in 35.5327 secs\tspeed: 266.896 file/sec</pre>"
      ],
      "text/plain": [
       "Read 9837 images in 35.5327 secs\tspeed: 266.896 file/sec"
      ]
     },
     "metadata": {},
     "output_type": "display_data"
    },
    {
     "data": {
      "text/html": [
       "<pre>Read 11349 images in 40.5346 secs\tspeed: 302.282 file/sec</pre>"
      ],
      "text/plain": [
       "Read 11349 images in 40.5346 secs\tspeed: 302.282 file/sec"
      ]
     },
     "metadata": {},
     "output_type": "display_data"
    },
    {
     "data": {
      "text/html": [
       "<pre>Read 12830 images in 45.5348 secs\tspeed: 296.189 file/sec</pre>"
      ],
      "text/plain": [
       "Read 12830 images in 45.5348 secs\tspeed: 296.189 file/sec"
      ]
     },
     "metadata": {},
     "output_type": "display_data"
    },
    {
     "data": {
      "text/html": [
       "<pre>Read 14149 images in 50.5379 secs\tspeed: 263.636 file/sec</pre>"
      ],
      "text/plain": [
       "Read 14149 images in 50.5379 secs\tspeed: 263.636 file/sec"
      ]
     },
     "metadata": {},
     "output_type": "display_data"
    },
    {
     "data": {
      "text/html": [
       "<pre>Read 15463 images in 55.5382 secs\tspeed: 262.783 file/sec</pre>"
      ],
      "text/plain": [
       "Read 15463 images in 55.5382 secs\tspeed: 262.783 file/sec"
      ]
     },
     "metadata": {},
     "output_type": "display_data"
    },
    {
     "data": {
      "text/html": [
       "<pre>Read 16985 images in 60.5394 secs\tspeed: 304.328 file/sec</pre>"
      ],
      "text/plain": [
       "Read 16985 images in 60.5394 secs\tspeed: 304.328 file/sec"
      ]
     },
     "metadata": {},
     "output_type": "display_data"
    },
    {
     "data": {
      "text/html": [
       "<pre>Read 18498 images in 65.5412 secs\tspeed: 302.492 file/sec</pre>"
      ],
      "text/plain": [
       "Read 18498 images in 65.5412 secs\tspeed: 302.492 file/sec"
      ]
     },
     "metadata": {},
     "output_type": "display_data"
    },
    {
     "data": {
      "text/html": [
       "<pre>Read 20000 images in 70.5491 secs\tspeed: 299.927 file/sec</pre>"
      ],
      "text/plain": [
       "Read 20000 images in 70.5491 secs\tspeed: 299.927 file/sec"
      ]
     },
     "metadata": {},
     "output_type": "display_data"
    },
    {
     "data": {
      "text/html": [
       "<pre>Read 21248 images in 75.5493 secs\tspeed: 249.592 file/sec</pre>"
      ],
      "text/plain": [
       "Read 21248 images in 75.5493 secs\tspeed: 249.592 file/sec"
      ]
     },
     "metadata": {},
     "output_type": "display_data"
    },
    {
     "data": {
      "text/html": [
       "<pre>Read 22744 images in 80.5547 secs\tspeed: 298.876 file/sec</pre>"
      ],
      "text/plain": [
       "Read 22744 images in 80.5547 secs\tspeed: 298.876 file/sec"
      ]
     },
     "metadata": {},
     "output_type": "display_data"
    },
    {
     "data": {
      "text/html": [
       "<pre>Read 24235 images in 85.5555 secs\tspeed: 298.152 file/sec</pre>"
      ],
      "text/plain": [
       "Read 24235 images in 85.5555 secs\tspeed: 298.152 file/sec"
      ]
     },
     "metadata": {},
     "output_type": "display_data"
    },
    {
     "data": {
      "text/html": [
       "<pre>Read 25627 images in 90.5587 secs\tspeed: 278.222 file/sec</pre>"
      ],
      "text/plain": [
       "Read 25627 images in 90.5587 secs\tspeed: 278.222 file/sec"
      ]
     },
     "metadata": {},
     "output_type": "display_data"
    },
    {
     "data": {
      "text/html": [
       "<pre>Read 27029 images in 95.5587 secs\tspeed: 280.397 file/sec</pre>"
      ],
      "text/plain": [
       "Read 27029 images in 95.5587 secs\tspeed: 280.397 file/sec"
      ]
     },
     "metadata": {},
     "output_type": "display_data"
    },
    {
     "data": {
      "text/html": [
       "<pre>Read 28568 images in 100.567 secs\tspeed: 307.262 file/sec</pre>"
      ],
      "text/plain": [
       "Read 28568 images in 100.567 secs\tspeed: 307.262 file/sec"
      ]
     },
     "metadata": {},
     "output_type": "display_data"
    },
    {
     "data": {
      "text/html": [
       "<pre>Read 30106 images in 105.568 secs\tspeed: 307.54 file/sec</pre>"
      ],
      "text/plain": [
       "Read 30106 images in 105.568 secs\tspeed: 307.54 file/sec"
      ]
     },
     "metadata": {},
     "output_type": "display_data"
    },
    {
     "data": {
      "text/html": [
       "<pre>Read 31476 images in 110.571 secs\tspeed: 273.869 file/sec</pre>"
      ],
      "text/plain": [
       "Read 31476 images in 110.571 secs\tspeed: 273.869 file/sec"
      ]
     },
     "metadata": {},
     "output_type": "display_data"
    },
    {
     "data": {
      "text/html": [
       "<pre>Read 32808 images in 115.573 secs\tspeed: 266.262 file/sec</pre>"
      ],
      "text/plain": [
       "Read 32808 images in 115.573 secs\tspeed: 266.262 file/sec"
      ]
     },
     "metadata": {},
     "output_type": "display_data"
    },
    {
     "data": {
      "text/html": [
       "<pre>Read 33878 images in 120.575 secs\tspeed: 213.953 file/sec</pre>"
      ],
      "text/plain": [
       "Read 33878 images in 120.575 secs\tspeed: 213.953 file/sec"
      ]
     },
     "metadata": {},
     "output_type": "display_data"
    },
    {
     "data": {
      "text/html": [
       "<pre>Read 35382 images in 125.575 secs\tspeed: 300.773 file/sec</pre>"
      ],
      "text/plain": [
       "Read 35382 images in 125.575 secs\tspeed: 300.773 file/sec"
      ]
     },
     "metadata": {},
     "output_type": "display_data"
    },
    {
     "data": {
      "text/html": [
       "<pre>Read 37061 images in 130.576 secs\tspeed: 335.713 file/sec</pre>"
      ],
      "text/plain": [
       "Read 37061 images in 130.576 secs\tspeed: 335.713 file/sec"
      ]
     },
     "metadata": {},
     "output_type": "display_data"
    },
    {
     "data": {
      "text/html": [
       "<pre>Read 38288 images in 135.584 secs\tspeed: 244.999 file/sec</pre>"
      ],
      "text/plain": [
       "Read 38288 images in 135.584 secs\tspeed: 244.999 file/sec"
      ]
     },
     "metadata": {},
     "output_type": "display_data"
    },
    {
     "data": {
      "text/html": [
       "<pre>Read 39768 images in 140.588 secs\tspeed: 295.796 file/sec</pre>"
      ],
      "text/plain": [
       "Read 39768 images in 140.588 secs\tspeed: 295.796 file/sec"
      ]
     },
     "metadata": {},
     "output_type": "display_data"
    },
    {
     "data": {
      "text/html": [
       "<pre>Read 41302 images in 145.589 secs\tspeed: 306.732 file/sec</pre>"
      ],
      "text/plain": [
       "Read 41302 images in 145.589 secs\tspeed: 306.732 file/sec"
      ]
     },
     "metadata": {},
     "output_type": "display_data"
    },
    {
     "data": {
      "text/html": [
       "<pre>Read 42624 images in 150.6 secs\tspeed: 263.844 file/sec</pre>"
      ],
      "text/plain": [
       "Read 42624 images in 150.6 secs\tspeed: 263.844 file/sec"
      ]
     },
     "metadata": {},
     "output_type": "display_data"
    },
    {
     "data": {
      "text/html": [
       "<pre>Read 43969 images in 155.604 secs\tspeed: 268.774 file/sec</pre>"
      ],
      "text/plain": [
       "Read 43969 images in 155.604 secs\tspeed: 268.774 file/sec"
      ]
     },
     "metadata": {},
     "output_type": "display_data"
    },
    {
     "data": {
      "text/html": [
       "<pre>Read 45471 images in 160.605 secs\tspeed: 300.313 file/sec</pre>"
      ],
      "text/plain": [
       "Read 45471 images in 160.605 secs\tspeed: 300.313 file/sec"
      ]
     },
     "metadata": {},
     "output_type": "display_data"
    },
    {
     "data": {
      "text/html": [
       "<pre>Read 46944 images in 165.61 secs\tspeed: 294.33 file/sec</pre>"
      ],
      "text/plain": [
       "Read 46944 images in 165.61 secs\tspeed: 294.33 file/sec"
      ]
     },
     "metadata": {},
     "output_type": "display_data"
    },
    {
     "data": {
      "text/html": [
       "<pre>Read 48273 images in 170.61 secs\tspeed: 265.773 file/sec</pre>"
      ],
      "text/plain": [
       "Read 48273 images in 170.61 secs\tspeed: 265.773 file/sec"
      ]
     },
     "metadata": {},
     "output_type": "display_data"
    },
    {
     "data": {
      "text/html": [
       "<pre>Read 49634 images in 175.611 secs\tspeed: 272.159 file/sec</pre>"
      ],
      "text/plain": [
       "Read 49634 images in 175.611 secs\tspeed: 272.159 file/sec"
      ]
     },
     "metadata": {},
     "output_type": "display_data"
    },
    {
     "data": {
      "text/html": [
       "<pre>Read 51135 images in 180.613 secs\tspeed: 300.082 file/sec</pre>"
      ],
      "text/plain": [
       "Read 51135 images in 180.613 secs\tspeed: 300.082 file/sec"
      ]
     },
     "metadata": {},
     "output_type": "display_data"
    },
    {
     "data": {
      "text/html": [
       "<pre>Read 52524 images in 185.613 secs\tspeed: 277.794 file/sec</pre>"
      ],
      "text/plain": [
       "Read 52524 images in 185.613 secs\tspeed: 277.794 file/sec"
      ]
     },
     "metadata": {},
     "output_type": "display_data"
    },
    {
     "data": {
      "text/html": [
       "<pre>Read 53488 images in 190.616 secs\tspeed: 192.682 file/sec</pre>"
      ],
      "text/plain": [
       "Read 53488 images in 190.616 secs\tspeed: 192.682 file/sec"
      ]
     },
     "metadata": {},
     "output_type": "display_data"
    },
    {
     "data": {
      "text/html": [
       "<pre>Read 54923 images in 195.617 secs\tspeed: 286.928 file/sec</pre>"
      ],
      "text/plain": [
       "Read 54923 images in 195.617 secs\tspeed: 286.928 file/sec"
      ]
     },
     "metadata": {},
     "output_type": "display_data"
    },
    {
     "data": {
      "text/html": [
       "<pre>Read 56245 images in 200.619 secs\tspeed: 264.307 file/sec</pre>"
      ],
      "text/plain": [
       "Read 56245 images in 200.619 secs\tspeed: 264.307 file/sec"
      ]
     },
     "metadata": {},
     "output_type": "display_data"
    },
    {
     "data": {
      "text/html": [
       "<pre>Read 57676 images in 205.622 secs\tspeed: 286.039 file/sec</pre>"
      ],
      "text/plain": [
       "Read 57676 images in 205.622 secs\tspeed: 286.039 file/sec"
      ]
     },
     "metadata": {},
     "output_type": "display_data"
    },
    {
     "data": {
      "text/html": [
       "<pre>Read 59366 images in 210.626 secs\tspeed: 337.767 file/sec</pre>"
      ],
      "text/plain": [
       "Read 59366 images in 210.626 secs\tspeed: 337.767 file/sec"
      ]
     },
     "metadata": {},
     "output_type": "display_data"
    },
    {
     "data": {
      "text/html": [
       "<pre>Read 60993 images in 215.629 secs\tspeed: 325.186 file/sec</pre>"
      ],
      "text/plain": [
       "Read 60993 images in 215.629 secs\tspeed: 325.186 file/sec"
      ]
     },
     "metadata": {},
     "output_type": "display_data"
    },
    {
     "data": {
      "text/html": [
       "<pre>Read 62378 images in 220.633 secs\tspeed: 276.745 file/sec</pre>"
      ],
      "text/plain": [
       "Read 62378 images in 220.633 secs\tspeed: 276.745 file/sec"
      ]
     },
     "metadata": {},
     "output_type": "display_data"
    },
    {
     "data": {
      "text/html": [
       "<pre>Read 63802 images in 225.634 secs\tspeed: 284.79 file/sec</pre>"
      ],
      "text/plain": [
       "Read 63802 images in 225.634 secs\tspeed: 284.79 file/sec"
      ]
     },
     "metadata": {},
     "output_type": "display_data"
    },
    {
     "data": {
      "text/html": [
       "<pre>Read 65408 images in 230.637 secs\tspeed: 320.974 file/sec</pre>"
      ],
      "text/plain": [
       "Read 65408 images in 230.637 secs\tspeed: 320.974 file/sec"
      ]
     },
     "metadata": {},
     "output_type": "display_data"
    },
    {
     "data": {
      "text/html": [
       "<pre>Read 66706 images in 235.639 secs\tspeed: 259.487 file/sec</pre>"
      ],
      "text/plain": [
       "Read 66706 images in 235.639 secs\tspeed: 259.487 file/sec"
      ]
     },
     "metadata": {},
     "output_type": "display_data"
    },
    {
     "data": {
      "text/html": [
       "<pre>Read 68000 images in 240.642 secs\tspeed: 258.67 file/sec</pre>"
      ],
      "text/plain": [
       "Read 68000 images in 240.642 secs\tspeed: 258.67 file/sec"
      ]
     },
     "metadata": {},
     "output_type": "display_data"
    },
    {
     "data": {
      "text/html": [
       "<pre>Read 69451 images in 245.642 secs\tspeed: 290.181 file/sec</pre>"
      ],
      "text/plain": [
       "Read 69451 images in 245.642 secs\tspeed: 290.181 file/sec"
      ]
     },
     "metadata": {},
     "output_type": "display_data"
    },
    {
     "data": {
      "text/html": [
       "<pre>Read 70586 images in 250.644 secs\tspeed: 226.898 file/sec</pre>"
      ],
      "text/plain": [
       "Read 70586 images in 250.644 secs\tspeed: 226.898 file/sec"
      ]
     },
     "metadata": {},
     "output_type": "display_data"
    },
    {
     "data": {
      "text/html": [
       "<pre>Read 72040 images in 255.646 secs\tspeed: 290.689 file/sec</pre>"
      ],
      "text/plain": [
       "Read 72040 images in 255.646 secs\tspeed: 290.689 file/sec"
      ]
     },
     "metadata": {},
     "output_type": "display_data"
    },
    {
     "data": {
      "text/html": [
       "<pre>Read 73359 images in 260.649 secs\tspeed: 263.63 file/sec</pre>"
      ],
      "text/plain": [
       "Read 73359 images in 260.649 secs\tspeed: 263.63 file/sec"
      ]
     },
     "metadata": {},
     "output_type": "display_data"
    },
    {
     "data": {
      "text/html": [
       "<pre>Read 74520 images in 265.653 secs\tspeed: 232.043 file/sec</pre>"
      ],
      "text/plain": [
       "Read 74520 images in 265.653 secs\tspeed: 232.043 file/sec"
      ]
     },
     "metadata": {},
     "output_type": "display_data"
    },
    {
     "data": {
      "text/html": [
       "<pre>Read 75875 images in 270.653 secs\tspeed: 270.994 file/sec</pre>"
      ],
      "text/plain": [
       "Read 75875 images in 270.653 secs\tspeed: 270.994 file/sec"
      ]
     },
     "metadata": {},
     "output_type": "display_data"
    },
    {
     "data": {
      "text/html": [
       "<pre>Read 76841 images in 275.654 secs\tspeed: 193.163 file/sec</pre>"
      ],
      "text/plain": [
       "Read 76841 images in 275.654 secs\tspeed: 193.163 file/sec"
      ]
     },
     "metadata": {},
     "output_type": "display_data"
    },
    {
     "data": {
      "text/html": [
       "<pre>Read 78256 images in 280.663 secs\tspeed: 282.494 file/sec</pre>"
      ],
      "text/plain": [
       "Read 78256 images in 280.663 secs\tspeed: 282.494 file/sec"
      ]
     },
     "metadata": {},
     "output_type": "display_data"
    }
   ],
   "source": [
    "test_imgs = graphlab.image_analysis.load_images('../data/imgs/test')"
   ]
  },
  {
   "cell_type": "code",
   "execution_count": 31,
   "metadata": {
    "collapsed": false
   },
   "outputs": [],
   "source": [
    "train_imgs['label'] = train_imgs['path'].apply(lambda x: x.split('/')[-2]) \n",
    "test_imgs['label'] = None"
   ]
  },
  {
   "cell_type": "code",
   "execution_count": 36,
   "metadata": {
    "collapsed": false
   },
   "outputs": [],
   "source": [
    "train_imgs['img_name'] = train_imgs['path'].apply(lambda x: x.split('/')[-1]) \n",
    "test_imgs['img_name'] = test_imgs['path'].apply(lambda x: x.split('/')[-1]) "
   ]
  },
  {
   "cell_type": "code",
   "execution_count": 20,
   "metadata": {
    "collapsed": true
   },
   "outputs": [],
   "source": [
    "train_imgs = train_imgs.remove_column('path')\n",
    "test_imgs = test_imgs.remove_column('path')"
   ]
  },
  {
   "cell_type": "code",
   "execution_count": 37,
   "metadata": {
    "collapsed": false
   },
   "outputs": [],
   "source": [
    "Imagenet_net = graphlab.deeplearning.get_builtin_neuralnet('imagenet')"
   ]
  },
  {
   "cell_type": "code",
   "execution_count": 40,
   "metadata": {
    "collapsed": false
   },
   "outputs": [
    {
     "data": {
      "text/html": [
       "<pre>Downloading http://s3.amazonaws.com/GraphLab-Datasets/deeplearning/imagenet_model_iter45/dir_archive.ini to /var/tmp/graphlab-voelunteer/13164/de6c21e1-9042-463b-9b4d-cc8ec8f30202.ini</pre>"
      ],
      "text/plain": [
       "Downloading http://s3.amazonaws.com/GraphLab-Datasets/deeplearning/imagenet_model_iter45/dir_archive.ini to /var/tmp/graphlab-voelunteer/13164/de6c21e1-9042-463b-9b4d-cc8ec8f30202.ini"
      ]
     },
     "metadata": {},
     "output_type": "display_data"
    },
    {
     "data": {
      "text/html": [
       "<pre>Downloading http://s3.amazonaws.com/GraphLab-Datasets/deeplearning/imagenet_model_iter45/objects.bin to /var/tmp/graphlab-voelunteer/13164/a3c4b741-8837-4efb-b159-bb68f04f1270.bin</pre>"
      ],
      "text/plain": [
       "Downloading http://s3.amazonaws.com/GraphLab-Datasets/deeplearning/imagenet_model_iter45/objects.bin to /var/tmp/graphlab-voelunteer/13164/a3c4b741-8837-4efb-b159-bb68f04f1270.bin"
      ]
     },
     "metadata": {},
     "output_type": "display_data"
    },
    {
     "data": {
      "text/html": [
       "<pre>Images being resized.</pre>"
      ],
      "text/plain": [
       "Images being resized."
      ]
     },
     "metadata": {},
     "output_type": "display_data"
    }
   ],
   "source": [
    "deep_learning_model = graphlab.load_model('http://s3.amazonaws.com/GraphLab-Datasets/deeplearning/imagenet_model_iter45')\n",
    "train_imgs['deep_features'] = deep_learning_model.extract_features(train_imgs)"
   ]
  },
  {
   "cell_type": "code",
   "execution_count": 41,
   "metadata": {
    "collapsed": true
   },
   "outputs": [],
   "source": [
    "train_imgs.save('train_imgs.csv')"
   ]
  },
  {
   "cell_type": "code",
   "execution_count": 42,
   "metadata": {
    "collapsed": false
   },
   "outputs": [
    {
     "data": {
      "text/html": [
       "<div style=\"max-height:1000px;max-width:1500px;overflow:auto;\"><table frame=\"box\" rules=\"cols\">\n",
       "    <tr>\n",
       "        <th style=\"padding-left: 1em; padding-right: 1em; text-align: center\">path</th>\n",
       "        <th style=\"padding-left: 1em; padding-right: 1em; text-align: center\">image</th>\n",
       "        <th style=\"padding-left: 1em; padding-right: 1em; text-align: center\">label</th>\n",
       "        <th style=\"padding-left: 1em; padding-right: 1em; text-align: center\">img_name</th>\n",
       "        <th style=\"padding-left: 1em; padding-right: 1em; text-align: center\">deep_features</th>\n",
       "    </tr>\n",
       "    <tr>\n",
       "        <td style=\"padding-left: 1em; padding-right: 1em; text-align: center; vertical-align: top\">/Users/voelunteer/Project<br>/Kaggle/StateFarm/dat ...</td>\n",
       "        <td style=\"padding-left: 1em; padding-right: 1em; text-align: center; vertical-align: top\">Height: 480 Width: 640</td>\n",
       "        <td style=\"padding-left: 1em; padding-right: 1em; text-align: center; vertical-align: top\">c2</td>\n",
       "        <td style=\"padding-left: 1em; padding-right: 1em; text-align: center; vertical-align: top\">img_100246.jpg</td>\n",
       "        <td style=\"padding-left: 1em; padding-right: 1em; text-align: center; vertical-align: top\">[0.0, 3.06153178215, 0.0,<br>0.0, 0.0, 0.0, 0.0, 0.0, ...</td>\n",
       "    </tr>\n",
       "    <tr>\n",
       "        <td style=\"padding-left: 1em; padding-right: 1em; text-align: center; vertical-align: top\">/Users/voelunteer/Project<br>/Kaggle/StateFarm/dat ...</td>\n",
       "        <td style=\"padding-left: 1em; padding-right: 1em; text-align: center; vertical-align: top\">Height: 480 Width: 640</td>\n",
       "        <td style=\"padding-left: 1em; padding-right: 1em; text-align: center; vertical-align: top\">c8</td>\n",
       "        <td style=\"padding-left: 1em; padding-right: 1em; text-align: center; vertical-align: top\">img_94215.jpg</td>\n",
       "        <td style=\"padding-left: 1em; padding-right: 1em; text-align: center; vertical-align: top\">[0.0, 1.78241086006, 0.0,<br>0.229382276535, ...</td>\n",
       "    </tr>\n",
       "    <tr>\n",
       "        <td style=\"padding-left: 1em; padding-right: 1em; text-align: center; vertical-align: top\">/Users/voelunteer/Project<br>/Kaggle/StateFarm/dat ...</td>\n",
       "        <td style=\"padding-left: 1em; padding-right: 1em; text-align: center; vertical-align: top\">Height: 480 Width: 640</td>\n",
       "        <td style=\"padding-left: 1em; padding-right: 1em; text-align: center; vertical-align: top\">c4</td>\n",
       "        <td style=\"padding-left: 1em; padding-right: 1em; text-align: center; vertical-align: top\">img_23384.jpg</td>\n",
       "        <td style=\"padding-left: 1em; padding-right: 1em; text-align: center; vertical-align: top\">[0.0, 0.0, 0.0, 0.0, 0.0,<br>0.0, 0.0, 0.0, 0.0, ...</td>\n",
       "    </tr>\n",
       "    <tr>\n",
       "        <td style=\"padding-left: 1em; padding-right: 1em; text-align: center; vertical-align: top\">/Users/voelunteer/Project<br>/Kaggle/StateFarm/dat ...</td>\n",
       "        <td style=\"padding-left: 1em; padding-right: 1em; text-align: center; vertical-align: top\">Height: 480 Width: 640</td>\n",
       "        <td style=\"padding-left: 1em; padding-right: 1em; text-align: center; vertical-align: top\">c2</td>\n",
       "        <td style=\"padding-left: 1em; padding-right: 1em; text-align: center; vertical-align: top\">img_17030.jpg</td>\n",
       "        <td style=\"padding-left: 1em; padding-right: 1em; text-align: center; vertical-align: top\">[0.0, 0.0, 0.0, 0.0, 0.0,<br>0.225567221642, 0.0,  ...</td>\n",
       "    </tr>\n",
       "    <tr>\n",
       "        <td style=\"padding-left: 1em; padding-right: 1em; text-align: center; vertical-align: top\">/Users/voelunteer/Project<br>/Kaggle/StateFarm/dat ...</td>\n",
       "        <td style=\"padding-left: 1em; padding-right: 1em; text-align: center; vertical-align: top\">Height: 480 Width: 640</td>\n",
       "        <td style=\"padding-left: 1em; padding-right: 1em; text-align: center; vertical-align: top\">c3</td>\n",
       "        <td style=\"padding-left: 1em; padding-right: 1em; text-align: center; vertical-align: top\">img_1076.jpg</td>\n",
       "        <td style=\"padding-left: 1em; padding-right: 1em; text-align: center; vertical-align: top\">[0.0, 0.0, 0.0, 0.0,<br>0.746563315392, ...</td>\n",
       "    </tr>\n",
       "    <tr>\n",
       "        <td style=\"padding-left: 1em; padding-right: 1em; text-align: center; vertical-align: top\">/Users/voelunteer/Project<br>/Kaggle/StateFarm/dat ...</td>\n",
       "        <td style=\"padding-left: 1em; padding-right: 1em; text-align: center; vertical-align: top\">Height: 480 Width: 640</td>\n",
       "        <td style=\"padding-left: 1em; padding-right: 1em; text-align: center; vertical-align: top\">c6</td>\n",
       "        <td style=\"padding-left: 1em; padding-right: 1em; text-align: center; vertical-align: top\">img_77254.jpg</td>\n",
       "        <td style=\"padding-left: 1em; padding-right: 1em; text-align: center; vertical-align: top\">[0.0, 1.45297980309, 0.0,<br>0.0, 1.27614736557, ...</td>\n",
       "    </tr>\n",
       "    <tr>\n",
       "        <td style=\"padding-left: 1em; padding-right: 1em; text-align: center; vertical-align: top\">/Users/voelunteer/Project<br>/Kaggle/StateFarm/dat ...</td>\n",
       "        <td style=\"padding-left: 1em; padding-right: 1em; text-align: center; vertical-align: top\">Height: 480 Width: 640</td>\n",
       "        <td style=\"padding-left: 1em; padding-right: 1em; text-align: center; vertical-align: top\">c5</td>\n",
       "        <td style=\"padding-left: 1em; padding-right: 1em; text-align: center; vertical-align: top\">img_11197.jpg</td>\n",
       "        <td style=\"padding-left: 1em; padding-right: 1em; text-align: center; vertical-align: top\">[0.391716361046,<br>0.0801935791969, 0.0, ...</td>\n",
       "    </tr>\n",
       "    <tr>\n",
       "        <td style=\"padding-left: 1em; padding-right: 1em; text-align: center; vertical-align: top\">/Users/voelunteer/Project<br>/Kaggle/StateFarm/dat ...</td>\n",
       "        <td style=\"padding-left: 1em; padding-right: 1em; text-align: center; vertical-align: top\">Height: 480 Width: 640</td>\n",
       "        <td style=\"padding-left: 1em; padding-right: 1em; text-align: center; vertical-align: top\">c5</td>\n",
       "        <td style=\"padding-left: 1em; padding-right: 1em; text-align: center; vertical-align: top\">img_88670.jpg</td>\n",
       "        <td style=\"padding-left: 1em; padding-right: 1em; text-align: center; vertical-align: top\">[0.0, 1.69510781765, 0.0,<br>0.0, 0.0, 0.0, 0.0, 0.0, ...</td>\n",
       "    </tr>\n",
       "    <tr>\n",
       "        <td style=\"padding-left: 1em; padding-right: 1em; text-align: center; vertical-align: top\">/Users/voelunteer/Project<br>/Kaggle/StateFarm/dat ...</td>\n",
       "        <td style=\"padding-left: 1em; padding-right: 1em; text-align: center; vertical-align: top\">Height: 480 Width: 640</td>\n",
       "        <td style=\"padding-left: 1em; padding-right: 1em; text-align: center; vertical-align: top\">c5</td>\n",
       "        <td style=\"padding-left: 1em; padding-right: 1em; text-align: center; vertical-align: top\">img_22714.jpg</td>\n",
       "        <td style=\"padding-left: 1em; padding-right: 1em; text-align: center; vertical-align: top\">[0.0, 0.57923913002, 0.0,<br>0.0, 0.0, 0.465356111 ...</td>\n",
       "    </tr>\n",
       "    <tr>\n",
       "        <td style=\"padding-left: 1em; padding-right: 1em; text-align: center; vertical-align: top\">/Users/voelunteer/Project<br>/Kaggle/StateFarm/dat ...</td>\n",
       "        <td style=\"padding-left: 1em; padding-right: 1em; text-align: center; vertical-align: top\">Height: 480 Width: 640</td>\n",
       "        <td style=\"padding-left: 1em; padding-right: 1em; text-align: center; vertical-align: top\">c2</td>\n",
       "        <td style=\"padding-left: 1em; padding-right: 1em; text-align: center; vertical-align: top\">img_42748.jpg</td>\n",
       "        <td style=\"padding-left: 1em; padding-right: 1em; text-align: center; vertical-align: top\">[0.0, 1.88249158859, 0.0,<br>0.0, 0.0, 0.575049996 ...</td>\n",
       "    </tr>\n",
       "</table>\n",
       "[22424 rows x 5 columns]<br/>Note: Only the head of the SFrame is printed.<br/>You can use print_rows(num_rows=m, num_columns=n) to print more rows and columns.\n",
       "</div>"
      ],
      "text/plain": [
       "Columns:\n",
       "\tpath\tstr\n",
       "\timage\tImage\n",
       "\tlabel\tstr\n",
       "\timg_name\tstr\n",
       "\tdeep_features\tarray\n",
       "\n",
       "Rows: 22424\n",
       "\n",
       "Data:\n",
       "+-------------------------------+------------------------+-------+\n",
       "|              path             |         image          | label |\n",
       "+-------------------------------+------------------------+-------+\n",
       "| /Users/voelunteer/Project/... | Height: 480 Width: 640 |   c2  |\n",
       "| /Users/voelunteer/Project/... | Height: 480 Width: 640 |   c8  |\n",
       "| /Users/voelunteer/Project/... | Height: 480 Width: 640 |   c4  |\n",
       "| /Users/voelunteer/Project/... | Height: 480 Width: 640 |   c2  |\n",
       "| /Users/voelunteer/Project/... | Height: 480 Width: 640 |   c3  |\n",
       "| /Users/voelunteer/Project/... | Height: 480 Width: 640 |   c6  |\n",
       "| /Users/voelunteer/Project/... | Height: 480 Width: 640 |   c5  |\n",
       "| /Users/voelunteer/Project/... | Height: 480 Width: 640 |   c5  |\n",
       "| /Users/voelunteer/Project/... | Height: 480 Width: 640 |   c5  |\n",
       "| /Users/voelunteer/Project/... | Height: 480 Width: 640 |   c2  |\n",
       "+-------------------------------+------------------------+-------+\n",
       "+----------------+-------------------------------+\n",
       "|    img_name    |         deep_features         |\n",
       "+----------------+-------------------------------+\n",
       "| img_100246.jpg | [0.0, 3.06153178215, 0.0, ... |\n",
       "| img_94215.jpg  | [0.0, 1.78241086006, 0.0, ... |\n",
       "| img_23384.jpg  | [0.0, 0.0, 0.0, 0.0, 0.0, ... |\n",
       "| img_17030.jpg  | [0.0, 0.0, 0.0, 0.0, 0.0, ... |\n",
       "|  img_1076.jpg  | [0.0, 0.0, 0.0, 0.0, 0.746... |\n",
       "| img_77254.jpg  | [0.0, 1.45297980309, 0.0, ... |\n",
       "| img_11197.jpg  | [0.391716361046, 0.0801935... |\n",
       "| img_88670.jpg  | [0.0, 1.69510781765, 0.0, ... |\n",
       "| img_22714.jpg  | [0.0, 0.57923913002, 0.0, ... |\n",
       "| img_42748.jpg  | [0.0, 1.88249158859, 0.0, ... |\n",
       "+----------------+-------------------------------+\n",
       "[22424 rows x 5 columns]\n",
       "Note: Only the head of the SFrame is printed.\n",
       "You can use print_rows(num_rows=m, num_columns=n) to print more rows and columns."
      ]
     },
     "execution_count": 42,
     "metadata": {},
     "output_type": "execute_result"
    }
   ],
   "source": [
    "train_imgs"
   ]
  },
  {
   "cell_type": "code",
   "execution_count": 46,
   "metadata": {
    "collapsed": false,
    "scrolled": true
   },
   "outputs": [
    {
     "name": "stdout",
     "output_type": "stream",
     "text": [
      "PROGRESS: Creating a validation set from 5 percent of training data. This may take a while.\n",
      "          You can set ``validation_set=None`` to disable validation tracking.\n",
      "\n"
     ]
    },
    {
     "data": {
      "text/html": [
       "<pre>WARNING: Detected extremely low variance for feature(s) 'deep_features' because all entries are nearly the same.\n",
       "Proceeding with model training using all features. If the model does not provide results of adequate quality, exclude the above mentioned feature(s) from the input dataset.</pre>"
      ],
      "text/plain": [
       "WARNING: Detected extremely low variance for feature(s) 'deep_features' because all entries are nearly the same.\n",
       "Proceeding with model training using all features. If the model does not provide results of adequate quality, exclude the above mentioned feature(s) from the input dataset."
      ]
     },
     "metadata": {},
     "output_type": "display_data"
    },
    {
     "data": {
      "text/html": [
       "<pre>Logistic regression:</pre>"
      ],
      "text/plain": [
       "Logistic regression:"
      ]
     },
     "metadata": {},
     "output_type": "display_data"
    },
    {
     "data": {
      "text/html": [
       "<pre>--------------------------------------------------------</pre>"
      ],
      "text/plain": [
       "--------------------------------------------------------"
      ]
     },
     "metadata": {},
     "output_type": "display_data"
    },
    {
     "data": {
      "text/html": [
       "<pre>Number of examples          : 21384</pre>"
      ],
      "text/plain": [
       "Number of examples          : 21384"
      ]
     },
     "metadata": {},
     "output_type": "display_data"
    },
    {
     "data": {
      "text/html": [
       "<pre>Number of classes           : 10</pre>"
      ],
      "text/plain": [
       "Number of classes           : 10"
      ]
     },
     "metadata": {},
     "output_type": "display_data"
    },
    {
     "data": {
      "text/html": [
       "<pre>Number of feature columns   : 1</pre>"
      ],
      "text/plain": [
       "Number of feature columns   : 1"
      ]
     },
     "metadata": {},
     "output_type": "display_data"
    },
    {
     "data": {
      "text/html": [
       "<pre>Number of unpacked features : 4096</pre>"
      ],
      "text/plain": [
       "Number of unpacked features : 4096"
      ]
     },
     "metadata": {},
     "output_type": "display_data"
    },
    {
     "data": {
      "text/html": [
       "<pre>Number of coefficients    : 36873</pre>"
      ],
      "text/plain": [
       "Number of coefficients    : 36873"
      ]
     },
     "metadata": {},
     "output_type": "display_data"
    },
    {
     "data": {
      "text/html": [
       "<pre>Starting L-BFGS</pre>"
      ],
      "text/plain": [
       "Starting L-BFGS"
      ]
     },
     "metadata": {},
     "output_type": "display_data"
    },
    {
     "data": {
      "text/html": [
       "<pre>--------------------------------------------------------</pre>"
      ],
      "text/plain": [
       "--------------------------------------------------------"
      ]
     },
     "metadata": {},
     "output_type": "display_data"
    },
    {
     "data": {
      "text/html": [
       "<pre>+-----------+----------+-----------+--------------+-------------------+---------------------+</pre>"
      ],
      "text/plain": [
       "+-----------+----------+-----------+--------------+-------------------+---------------------+"
      ]
     },
     "metadata": {},
     "output_type": "display_data"
    },
    {
     "data": {
      "text/html": [
       "<pre>| Iteration | Passes   | Step size | Elapsed Time | Training-accuracy | Validation-accuracy |</pre>"
      ],
      "text/plain": [
       "| Iteration | Passes   | Step size | Elapsed Time | Training-accuracy | Validation-accuracy |"
      ]
     },
     "metadata": {},
     "output_type": "display_data"
    },
    {
     "data": {
      "text/html": [
       "<pre>+-----------+----------+-----------+--------------+-------------------+---------------------+</pre>"
      ],
      "text/plain": [
       "+-----------+----------+-----------+--------------+-------------------+---------------------+"
      ]
     },
     "metadata": {},
     "output_type": "display_data"
    },
    {
     "data": {
      "text/html": [
       "<pre>| 1         | 4        | 0.000023  | 70.900288    | 0.493172          | 0.489423            |</pre>"
      ],
      "text/plain": [
       "| 1         | 4        | 0.000023  | 70.900288    | 0.493172          | 0.489423            |"
      ]
     },
     "metadata": {},
     "output_type": "display_data"
    },
    {
     "data": {
      "text/html": [
       "<pre>| 2         | 6        | 1.000000  | 109.012823   | 0.569304          | 0.560577            |</pre>"
      ],
      "text/plain": [
       "| 2         | 6        | 1.000000  | 109.012823   | 0.569304          | 0.560577            |"
      ]
     },
     "metadata": {},
     "output_type": "display_data"
    },
    {
     "data": {
      "text/html": [
       "<pre>| 3         | 7        | 1.000000  | 129.807444   | 0.660961          | 0.641346            |</pre>"
      ],
      "text/plain": [
       "| 3         | 7        | 1.000000  | 129.807444   | 0.660961          | 0.641346            |"
      ]
     },
     "metadata": {},
     "output_type": "display_data"
    },
    {
     "data": {
      "text/html": [
       "<pre>| 4         | 8        | 1.000000  | 150.480552   | 0.609287          | 0.606731            |</pre>"
      ],
      "text/plain": [
       "| 4         | 8        | 1.000000  | 150.480552   | 0.609287          | 0.606731            |"
      ]
     },
     "metadata": {},
     "output_type": "display_data"
    },
    {
     "data": {
      "text/html": [
       "<pre>| 5         | 9        | 1.000000  | 171.258268   | 0.754302          | 0.746154            |</pre>"
      ],
      "text/plain": [
       "| 5         | 9        | 1.000000  | 171.258268   | 0.754302          | 0.746154            |"
      ]
     },
     "metadata": {},
     "output_type": "display_data"
    },
    {
     "data": {
      "text/html": [
       "<pre>| 6         | 10       | 1.000000  | 192.001991   | 0.766788          | 0.754808            |</pre>"
      ],
      "text/plain": [
       "| 6         | 10       | 1.000000  | 192.001991   | 0.766788          | 0.754808            |"
      ]
     },
     "metadata": {},
     "output_type": "display_data"
    },
    {
     "data": {
      "text/html": [
       "<pre>| 7         | 11       | 1.000000  | 212.727384   | 0.843528          | 0.838462            |</pre>"
      ],
      "text/plain": [
       "| 7         | 11       | 1.000000  | 212.727384   | 0.843528          | 0.838462            |"
      ]
     },
     "metadata": {},
     "output_type": "display_data"
    },
    {
     "data": {
      "text/html": [
       "<pre>| 8         | 12       | 1.000000  | 233.613478   | 0.864899          | 0.847115            |</pre>"
      ],
      "text/plain": [
       "| 8         | 12       | 1.000000  | 233.613478   | 0.864899          | 0.847115            |"
      ]
     },
     "metadata": {},
     "output_type": "display_data"
    },
    {
     "data": {
      "text/html": [
       "<pre>| 9         | 13       | 1.000000  | 254.348177   | 0.886925          | 0.876923            |</pre>"
      ],
      "text/plain": [
       "| 9         | 13       | 1.000000  | 254.348177   | 0.886925          | 0.876923            |"
      ]
     },
     "metadata": {},
     "output_type": "display_data"
    },
    {
     "data": {
      "text/html": [
       "<pre>| 10        | 14       | 1.000000  | 275.097157   | 0.910587          | 0.902885            |</pre>"
      ],
      "text/plain": [
       "| 10        | 14       | 1.000000  | 275.097157   | 0.910587          | 0.902885            |"
      ]
     },
     "metadata": {},
     "output_type": "display_data"
    },
    {
     "data": {
      "text/html": [
       "<pre>| 11        | 15       | 1.000000  | 296.238610   | 0.928872          | 0.925000            |</pre>"
      ],
      "text/plain": [
       "| 11        | 15       | 1.000000  | 296.238610   | 0.928872          | 0.925000            |"
      ]
     },
     "metadata": {},
     "output_type": "display_data"
    },
    {
     "data": {
      "text/html": [
       "<pre>| 12        | 16       | 1.000000  | 316.884028   | 0.939394          | 0.939423            |</pre>"
      ],
      "text/plain": [
       "| 12        | 16       | 1.000000  | 316.884028   | 0.939394          | 0.939423            |"
      ]
     },
     "metadata": {},
     "output_type": "display_data"
    },
    {
     "data": {
      "text/html": [
       "<pre>| 13        | 17       | 1.000000  | 337.446199   | 0.949729          | 0.952885            |</pre>"
      ],
      "text/plain": [
       "| 13        | 17       | 1.000000  | 337.446199   | 0.949729          | 0.952885            |"
      ]
     },
     "metadata": {},
     "output_type": "display_data"
    },
    {
     "data": {
      "text/html": [
       "<pre>| 14        | 18       | 1.000000  | 361.547252   | 0.954639          | 0.950962            |</pre>"
      ],
      "text/plain": [
       "| 14        | 18       | 1.000000  | 361.547252   | 0.954639          | 0.950962            |"
      ]
     },
     "metadata": {},
     "output_type": "display_data"
    },
    {
     "data": {
      "text/html": [
       "<pre>| 15        | 19       | 1.000000  | 382.814425   | 0.965067          | 0.959615            |</pre>"
      ],
      "text/plain": [
       "| 15        | 19       | 1.000000  | 382.814425   | 0.965067          | 0.959615            |"
      ]
     },
     "metadata": {},
     "output_type": "display_data"
    },
    {
     "data": {
      "text/html": [
       "<pre>| 16        | 20       | 1.000000  | 403.719313   | 0.972877          | 0.963462            |</pre>"
      ],
      "text/plain": [
       "| 16        | 20       | 1.000000  | 403.719313   | 0.972877          | 0.963462            |"
      ]
     },
     "metadata": {},
     "output_type": "display_data"
    },
    {
     "data": {
      "text/html": [
       "<pre>| 17        | 21       | 1.000000  | 425.398960   | 0.977927          | 0.969231            |</pre>"
      ],
      "text/plain": [
       "| 17        | 21       | 1.000000  | 425.398960   | 0.977927          | 0.969231            |"
      ]
     },
     "metadata": {},
     "output_type": "display_data"
    },
    {
     "data": {
      "text/html": [
       "<pre>| 18        | 22       | 1.000000  | 446.743658   | 0.982323          | 0.975962            |</pre>"
      ],
      "text/plain": [
       "| 18        | 22       | 1.000000  | 446.743658   | 0.982323          | 0.975962            |"
      ]
     },
     "metadata": {},
     "output_type": "display_data"
    },
    {
     "data": {
      "text/html": [
       "<pre>| 19        | 23       | 1.000000  | 468.479441   | 0.987000          | 0.976923            |</pre>"
      ],
      "text/plain": [
       "| 19        | 23       | 1.000000  | 468.479441   | 0.987000          | 0.976923            |"
      ]
     },
     "metadata": {},
     "output_type": "display_data"
    },
    {
     "data": {
      "text/html": [
       "<pre>| 20        | 24       | 1.000000  | 489.256251   | 0.989665          | 0.975000            |</pre>"
      ],
      "text/plain": [
       "| 20        | 24       | 1.000000  | 489.256251   | 0.989665          | 0.975000            |"
      ]
     },
     "metadata": {},
     "output_type": "display_data"
    },
    {
     "data": {
      "text/html": [
       "<pre>| 21        | 25       | 1.000000  | 510.088703   | 0.992565          | 0.976923            |</pre>"
      ],
      "text/plain": [
       "| 21        | 25       | 1.000000  | 510.088703   | 0.992565          | 0.976923            |"
      ]
     },
     "metadata": {},
     "output_type": "display_data"
    },
    {
     "data": {
      "text/html": [
       "<pre>| 22        | 26       | 1.000000  | 530.819511   | 0.994201          | 0.978846            |</pre>"
      ],
      "text/plain": [
       "| 22        | 26       | 1.000000  | 530.819511   | 0.994201          | 0.978846            |"
      ]
     },
     "metadata": {},
     "output_type": "display_data"
    },
    {
     "data": {
      "text/html": [
       "<pre>| 23        | 27       | 1.000000  | 551.542694   | 0.996773          | 0.980769            |</pre>"
      ],
      "text/plain": [
       "| 23        | 27       | 1.000000  | 551.542694   | 0.996773          | 0.980769            |"
      ]
     },
     "metadata": {},
     "output_type": "display_data"
    },
    {
     "data": {
      "text/html": [
       "<pre>| 24        | 28       | 1.000000  | 572.345209   | 0.997475          | 0.982692            |</pre>"
      ],
      "text/plain": [
       "| 24        | 28       | 1.000000  | 572.345209   | 0.997475          | 0.982692            |"
      ]
     },
     "metadata": {},
     "output_type": "display_data"
    },
    {
     "data": {
      "text/html": [
       "<pre>| 25        | 29       | 1.000000  | 593.116401   | 0.998363          | 0.982692            |</pre>"
      ],
      "text/plain": [
       "| 25        | 29       | 1.000000  | 593.116401   | 0.998363          | 0.982692            |"
      ]
     },
     "metadata": {},
     "output_type": "display_data"
    },
    {
     "data": {
      "text/html": [
       "<pre>+-----------+----------+-----------+--------------+-------------------+---------------------+</pre>"
      ],
      "text/plain": [
       "+-----------+----------+-----------+--------------+-------------------+---------------------+"
      ]
     },
     "metadata": {},
     "output_type": "display_data"
    },
    {
     "data": {
      "text/html": [
       "<pre>TERMINATED: Iteration limit reached.</pre>"
      ],
      "text/plain": [
       "TERMINATED: Iteration limit reached."
      ]
     },
     "metadata": {},
     "output_type": "display_data"
    },
    {
     "data": {
      "text/html": [
       "<pre>This model may not be optimal. To improve it, consider increasing `max_iterations`.</pre>"
      ],
      "text/plain": [
       "This model may not be optimal. To improve it, consider increasing `max_iterations`."
      ]
     },
     "metadata": {},
     "output_type": "display_data"
    }
   ],
   "source": [
    "logistic_model = graphlab.logistic_classifier.create(train_imgs, target='label', features=['deep_features'], max_iterations=25)"
   ]
  },
  {
   "cell_type": "code",
   "execution_count": null,
   "metadata": {
    "collapsed": false
   },
   "outputs": [
    {
     "data": {
      "text/html": [
       "<pre>Images being resized.</pre>"
      ],
      "text/plain": [
       "Images being resized."
      ]
     },
     "metadata": {},
     "output_type": "display_data"
    }
   ],
   "source": [
    "test_imgs['deep_features'] = deep_learning_model.extract_features(test_imgs)"
   ]
  },
  {
   "cell_type": "code",
   "execution_count": null,
   "metadata": {
    "collapsed": true
   },
   "outputs": [],
   "source": [
    "test_imgs.save('test_imgs.csv')"
   ]
  },
  {
   "cell_type": "code",
   "execution_count": null,
   "metadata": {
    "collapsed": true
   },
   "outputs": [],
   "source": []
  },
  {
   "cell_type": "code",
   "execution_count": null,
   "metadata": {
    "collapsed": true
   },
   "outputs": [],
   "source": []
  },
  {
   "cell_type": "code",
   "execution_count": null,
   "metadata": {
    "collapsed": true
   },
   "outputs": [],
   "source": []
  },
  {
   "cell_type": "code",
   "execution_count": 3,
   "metadata": {
    "collapsed": false
   },
   "outputs": [
    {
     "name": "stdout",
     "output_type": "stream",
     "text": [
      "This non-commercial license of GraphLab Create is assigned to voelunteer@gmail.com and will expire on December 23, 2016. For commercial licensing options, visit https://dato.com/buy/.\n"
     ]
    },
    {
     "name": "stderr",
     "output_type": "stream",
     "text": [
      "2016-04-25 23:10:31,407 [INFO] graphlab.cython.cy_server, 176: GraphLab Create v1.8.5 started. Logging: /tmp/graphlab_server_1461640230.log\n"
     ]
    },
    {
     "data": {
      "text/html": [
       "<pre>Unsupported image format. Supported formats are JPG and PNG\t file: /Users/voelunteer/Project/Kaggle/StateFarm/figs/Fake Images/.DS_Store</pre>"
      ],
      "text/plain": [
       "Unsupported image format. Supported formats are JPG and PNG\t file: /Users/voelunteer/Project/Kaggle/StateFarm/figs/Fake Images/.DS_Store"
      ]
     },
     "metadata": {},
     "output_type": "display_data"
    }
   ],
   "source": [
    "# Fake image feature extraction\n",
    "fake_driving_imgs = graphlab.image_analysis.load_images('../figs/Fake Images')"
   ]
  },
  {
   "cell_type": "code",
   "execution_count": 5,
   "metadata": {
    "collapsed": false
   },
   "outputs": [
    {
     "data": {
      "text/html": [
       "<pre>Downloading http://s3.amazonaws.com/GraphLab-Datasets/deeplearning/imagenet_model_iter45/dir_archive.ini to /var/tmp/graphlab-voelunteer/1865/2b67f251-4e77-4549-90d3-74d619eedaef.ini</pre>"
      ],
      "text/plain": [
       "Downloading http://s3.amazonaws.com/GraphLab-Datasets/deeplearning/imagenet_model_iter45/dir_archive.ini to /var/tmp/graphlab-voelunteer/1865/2b67f251-4e77-4549-90d3-74d619eedaef.ini"
      ]
     },
     "metadata": {},
     "output_type": "display_data"
    },
    {
     "data": {
      "text/html": [
       "<pre>Downloading http://s3.amazonaws.com/GraphLab-Datasets/deeplearning/imagenet_model_iter45/objects.bin to /var/tmp/graphlab-voelunteer/1865/f662886f-e8e3-4b05-a712-721721ae408f.bin</pre>"
      ],
      "text/plain": [
       "Downloading http://s3.amazonaws.com/GraphLab-Datasets/deeplearning/imagenet_model_iter45/objects.bin to /var/tmp/graphlab-voelunteer/1865/f662886f-e8e3-4b05-a712-721721ae408f.bin"
      ]
     },
     "metadata": {},
     "output_type": "display_data"
    },
    {
     "data": {
      "text/html": [
       "<pre>Images being resized.</pre>"
      ],
      "text/plain": [
       "Images being resized."
      ]
     },
     "metadata": {},
     "output_type": "display_data"
    }
   ],
   "source": [
    "deep_learning_model = graphlab.load_model('http://s3.amazonaws.com/GraphLab-Datasets/deeplearning/imagenet_model_iter45')\n",
    "fake_driving_imgs['deep_features'] = deep_learning_model.extract_features(fake_driving_imgs)"
   ]
  },
  {
   "cell_type": "code",
   "execution_count": 6,
   "metadata": {
    "collapsed": false
   },
   "outputs": [
    {
     "data": {
      "text/html": [
       "<div style=\"max-height:1000px;max-width:1500px;overflow:auto;\"><table frame=\"box\" rules=\"cols\">\n",
       "    <tr>\n",
       "        <th style=\"padding-left: 1em; padding-right: 1em; text-align: center\">path</th>\n",
       "        <th style=\"padding-left: 1em; padding-right: 1em; text-align: center\">image</th>\n",
       "        <th style=\"padding-left: 1em; padding-right: 1em; text-align: center\">deep_features</th>\n",
       "    </tr>\n",
       "    <tr>\n",
       "        <td style=\"padding-left: 1em; padding-right: 1em; text-align: center; vertical-align: top\">/Users/voelunteer/Project<br>/Kaggle/StateFarm/fig ...</td>\n",
       "        <td style=\"padding-left: 1em; padding-right: 1em; text-align: center; vertical-align: top\">Height: 1280 Width: 960</td>\n",
       "        <td style=\"padding-left: 1em; padding-right: 1em; text-align: center; vertical-align: top\">[0.0, 0.0, 0.0, 0.0, 0.0,<br>0.0, 0.0, 0.0, 0.0, 0.0, ...</td>\n",
       "    </tr>\n",
       "    <tr>\n",
       "        <td style=\"padding-left: 1em; padding-right: 1em; text-align: center; vertical-align: top\">/Users/voelunteer/Project<br>/Kaggle/StateFarm/fig ...</td>\n",
       "        <td style=\"padding-left: 1em; padding-right: 1em; text-align: center; vertical-align: top\">Height: 1280 Width: 960</td>\n",
       "        <td style=\"padding-left: 1em; padding-right: 1em; text-align: center; vertical-align: top\">[0.0, 0.0,<br>0.0641678571701, 0.0, ...</td>\n",
       "    </tr>\n",
       "    <tr>\n",
       "        <td style=\"padding-left: 1em; padding-right: 1em; text-align: center; vertical-align: top\">/Users/voelunteer/Project<br>/Kaggle/StateFarm/fig ...</td>\n",
       "        <td style=\"padding-left: 1em; padding-right: 1em; text-align: center; vertical-align: top\">Height: 1280 Width: 960</td>\n",
       "        <td style=\"padding-left: 1em; padding-right: 1em; text-align: center; vertical-align: top\">[0.0, 0.0, 0.0, 0.0, 0.0,<br>0.0, 0.0, 0.0, 0.0, 0.0, ...</td>\n",
       "    </tr>\n",
       "    <tr>\n",
       "        <td style=\"padding-left: 1em; padding-right: 1em; text-align: center; vertical-align: top\">/Users/voelunteer/Project<br>/Kaggle/StateFarm/fig ...</td>\n",
       "        <td style=\"padding-left: 1em; padding-right: 1em; text-align: center; vertical-align: top\">Height: 1280 Width: 960</td>\n",
       "        <td style=\"padding-left: 1em; padding-right: 1em; text-align: center; vertical-align: top\">[0.0, 0.0, 0.0, 0.0,<br>1.95960152149, 0.0, 0.0, ...</td>\n",
       "    </tr>\n",
       "    <tr>\n",
       "        <td style=\"padding-left: 1em; padding-right: 1em; text-align: center; vertical-align: top\">/Users/voelunteer/Project<br>/Kaggle/StateFarm/fig ...</td>\n",
       "        <td style=\"padding-left: 1em; padding-right: 1em; text-align: center; vertical-align: top\">Height: 1280 Width: 960</td>\n",
       "        <td style=\"padding-left: 1em; padding-right: 1em; text-align: center; vertical-align: top\">[0.0, 0.0, 2.41016578674,<br>0.0, 0.20476603508, ...</td>\n",
       "    </tr>\n",
       "    <tr>\n",
       "        <td style=\"padding-left: 1em; padding-right: 1em; text-align: center; vertical-align: top\">/Users/voelunteer/Project<br>/Kaggle/StateFarm/fig ...</td>\n",
       "        <td style=\"padding-left: 1em; padding-right: 1em; text-align: center; vertical-align: top\">Height: 1280 Width: 960</td>\n",
       "        <td style=\"padding-left: 1em; padding-right: 1em; text-align: center; vertical-align: top\">[0.0, 0.0,<br>0.0760727524757, 0.0, ...</td>\n",
       "    </tr>\n",
       "    <tr>\n",
       "        <td style=\"padding-left: 1em; padding-right: 1em; text-align: center; vertical-align: top\">/Users/voelunteer/Project<br>/Kaggle/StateFarm/fig ...</td>\n",
       "        <td style=\"padding-left: 1em; padding-right: 1em; text-align: center; vertical-align: top\">Height: 1280 Width: 960</td>\n",
       "        <td style=\"padding-left: 1em; padding-right: 1em; text-align: center; vertical-align: top\">[0.0, 0.0,<br>0.484782457352, 0.0, ...</td>\n",
       "    </tr>\n",
       "    <tr>\n",
       "        <td style=\"padding-left: 1em; padding-right: 1em; text-align: center; vertical-align: top\">/Users/voelunteer/Project<br>/Kaggle/StateFarm/fig ...</td>\n",
       "        <td style=\"padding-left: 1em; padding-right: 1em; text-align: center; vertical-align: top\">Height: 1280 Width: 960</td>\n",
       "        <td style=\"padding-left: 1em; padding-right: 1em; text-align: center; vertical-align: top\">[0.0, 0.0, 0.0, 0.0, 0.0,<br>0.0, 0.0, 0.0, 0.0, 0.0, ...</td>\n",
       "    </tr>\n",
       "    <tr>\n",
       "        <td style=\"padding-left: 1em; padding-right: 1em; text-align: center; vertical-align: top\">/Users/voelunteer/Project<br>/Kaggle/StateFarm/fig ...</td>\n",
       "        <td style=\"padding-left: 1em; padding-right: 1em; text-align: center; vertical-align: top\">Height: 1280 Width: 960</td>\n",
       "        <td style=\"padding-left: 1em; padding-right: 1em; text-align: center; vertical-align: top\">[0.0, 0.0, 0.0, 0.0,<br>0.922905087471, ...</td>\n",
       "    </tr>\n",
       "    <tr>\n",
       "        <td style=\"padding-left: 1em; padding-right: 1em; text-align: center; vertical-align: top\">/Users/voelunteer/Project<br>/Kaggle/StateFarm/fig ...</td>\n",
       "        <td style=\"padding-left: 1em; padding-right: 1em; text-align: center; vertical-align: top\">Height: 1280 Width: 960</td>\n",
       "        <td style=\"padding-left: 1em; padding-right: 1em; text-align: center; vertical-align: top\">[0.0, 0.0, 0.0, 0.0, 0.0,<br>0.0, 0.0, 0.0, 0.0, 0.0, ...</td>\n",
       "    </tr>\n",
       "</table>\n",
       "[10 rows x 3 columns]<br/>\n",
       "</div>"
      ],
      "text/plain": [
       "Columns:\n",
       "\tpath\tstr\n",
       "\timage\tImage\n",
       "\tdeep_features\tarray\n",
       "\n",
       "Rows: 10\n",
       "\n",
       "Data:\n",
       "+-------------------------------+-------------------------+\n",
       "|              path             |          image          |\n",
       "+-------------------------------+-------------------------+\n",
       "| /Users/voelunteer/Project/... | Height: 1280 Width: 960 |\n",
       "| /Users/voelunteer/Project/... | Height: 1280 Width: 960 |\n",
       "| /Users/voelunteer/Project/... | Height: 1280 Width: 960 |\n",
       "| /Users/voelunteer/Project/... | Height: 1280 Width: 960 |\n",
       "| /Users/voelunteer/Project/... | Height: 1280 Width: 960 |\n",
       "| /Users/voelunteer/Project/... | Height: 1280 Width: 960 |\n",
       "| /Users/voelunteer/Project/... | Height: 1280 Width: 960 |\n",
       "| /Users/voelunteer/Project/... | Height: 1280 Width: 960 |\n",
       "| /Users/voelunteer/Project/... | Height: 1280 Width: 960 |\n",
       "| /Users/voelunteer/Project/... | Height: 1280 Width: 960 |\n",
       "+-------------------------------+-------------------------+\n",
       "+-------------------------------+\n",
       "|         deep_features         |\n",
       "+-------------------------------+\n",
       "| [0.0, 0.0, 0.0, 0.0, 0.0, ... |\n",
       "| [0.0, 0.0, 0.0641678571701... |\n",
       "| [0.0, 0.0, 0.0, 0.0, 0.0, ... |\n",
       "| [0.0, 0.0, 0.0, 0.0, 1.959... |\n",
       "| [0.0, 0.0, 2.41016578674, ... |\n",
       "| [0.0, 0.0, 0.0760727524757... |\n",
       "| [0.0, 0.0, 0.484782457352,... |\n",
       "| [0.0, 0.0, 0.0, 0.0, 0.0, ... |\n",
       "| [0.0, 0.0, 0.0, 0.0, 0.922... |\n",
       "| [0.0, 0.0, 0.0, 0.0, 0.0, ... |\n",
       "+-------------------------------+\n",
       "[10 rows x 3 columns]"
      ]
     },
     "execution_count": 6,
     "metadata": {},
     "output_type": "execute_result"
    }
   ],
   "source": [
    "fake_driving_imgs.head()"
   ]
  },
  {
   "cell_type": "code",
   "execution_count": null,
   "metadata": {
    "collapsed": true
   },
   "outputs": [],
   "source": [
    "fake_driving_imgs = fake_driving_imgs.unpack('deep_features')"
   ]
  },
  {
   "cell_type": "code",
   "execution_count": null,
   "metadata": {
    "collapsed": true
   },
   "outputs": [],
   "source": []
  }
 ],
 "metadata": {
  "kernelspec": {
   "display_name": "Python 2",
   "language": "python",
   "name": "python2"
  },
  "language_info": {
   "codemirror_mode": {
    "name": "ipython",
    "version": 2
   },
   "file_extension": ".py",
   "mimetype": "text/x-python",
   "name": "python",
   "nbconvert_exporter": "python",
   "pygments_lexer": "ipython2",
   "version": "2.7.11"
  }
 },
 "nbformat": 4,
 "nbformat_minor": 0
}
