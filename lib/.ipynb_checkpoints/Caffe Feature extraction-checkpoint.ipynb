{
 "cells": [
  {
   "cell_type": "code",
   "execution_count": 173,
   "metadata": {
    "collapsed": true
   },
   "outputs": [],
   "source": [
    "import array"
   ]
  },
  {
   "cell_type": "code",
   "execution_count": 1,
   "metadata": {
    "collapsed": false
   },
   "outputs": [
    {
     "name": "stderr",
     "output_type": "stream",
     "text": [
      "/Users/voelunteer/anaconda/lib/python2.7/site-packages/matplotlib/font_manager.py:273: UserWarning: Matplotlib is building the font cache using fc-list. This may take a moment.\n",
      "  warnings.warn('Matplotlib is building the font cache using fc-list. This may take a moment.')\n"
     ]
    },
    {
     "name": "stdout",
     "output_type": "stream",
     "text": [
      "This non-commercial license of GraphLab Create is assigned to voelunteer@gmail.com and will expire on December 23, 2016. For commercial licensing options, visit https://dato.com/buy/.\n"
     ]
    },
    {
     "name": "stderr",
     "output_type": "stream",
     "text": [
      "2016-04-18 18:56:42,025 [INFO] graphlab.cython.cy_server, 176: GraphLab Create v1.8.5 started. Logging: /tmp/graphlab_server_1461020199.log\n"
     ]
    }
   ],
   "source": [
    "# set up Python environment: numpy for numerical routines, and matplotlib for plotting\n",
    "import numpy as np\n",
    "import matplotlib.pyplot as plt\n",
    "import graphlab\n",
    "# display plots in this notebook\n",
    "%matplotlib inline\n",
    "\n",
    "# set display defaults\n",
    "plt.rcParams['figure.figsize'] = (10, 10)        # large images\n",
    "plt.rcParams['image.interpolation'] = 'nearest'  # don't interpolate: show square pixels\n",
    "plt.rcParams['image.cmap'] = 'gray'  # use grayscale output rather than a (potentially misleading) color heatmap\n",
    "\n",
    "# Make sure that caffe is on the python path:\n",
    "caffe_root = '/Users/voelunteer/Project/caffe/'  # this file is expected to be in {caffe_root}/examples\n",
    "import sys\n",
    "sys.path.insert(0, caffe_root + 'python')\n",
    "import caffe"
   ]
  },
  {
   "cell_type": "code",
   "execution_count": 2,
   "metadata": {
    "collapsed": false
   },
   "outputs": [
    {
     "name": "stdout",
     "output_type": "stream",
     "text": [
      "CaffeNet found.\n"
     ]
    }
   ],
   "source": [
    "# Download pre-trained googlenet model\n",
    "# import os\n",
    "# if os.path.isfile('models/bvlc_googlenet/bvlc_googlenet.caffemodel'):\n",
    "#     print 'CaffeNet found.'\n",
    "# else:\n",
    "#     print 'Downloading pre-trained CaffeNet model...'\n",
    "#    !/Users/voelunteer/Project/caffe/scripts/download_model_binary.py /Users/voelunteer/Project/caffe/models/bvlc_googlenet\n",
    "import os\n",
    "if os.path.isfile(caffe_root + 'models/bvlc_reference_caffenet/bvlc_reference_caffenet.caffemodel'):\n",
    "    print 'CaffeNet found.'\n",
    "else:\n",
    "    print 'Downloading pre-trained CaffeNet model...'\n",
    "    !../scripts/download_model_binary.py ../models/bvlc_reference_caffenet"
   ]
  },
  {
   "cell_type": "code",
   "execution_count": 3,
   "metadata": {
    "collapsed": true
   },
   "outputs": [],
   "source": [
    "caffe.set_mode_cpu()\n",
    "\n",
    "model_def = caffe_root + 'models/bvlc_reference_caffenet/deploy.prototxt'\n",
    "model_weights = caffe_root + 'models/bvlc_reference_caffenet/bvlc_reference_caffenet.caffemodel'\n",
    "\n",
    "net = caffe.Net(model_def,      # defines the structure of the model\n",
    "                model_weights,  # contains the trained weights\n",
    "                caffe.TEST)     # use test mode (e.g., don't perform dropout)"
   ]
  },
  {
   "cell_type": "code",
   "execution_count": 4,
   "metadata": {
    "collapsed": false
   },
   "outputs": [],
   "source": [
    "# load the mean ImageNet image (as distributed with Caffe) for subtraction\n",
    "mu = np.load(caffe_root + 'python/caffe/imagenet/ilsvrc_2012_mean.npy')\n",
    "mu = mu.mean(1).mean(1)  # average over pixels to obtain the mean (BGR) pixel values\n",
    "#create transformer for the input called 'data'\n",
    "transformer = caffe.io.Transformer({'data': net.blobs['data'].data.shape})\n",
    "\n",
    "transformer.set_transpose('data', (2,0,1))  # move image channels to outermost dimension\n",
    "transformer.set_mean('data', mu)            # subtract the dataset-mean value in each channel\n",
    "transformer.set_raw_scale('data', 255)      # rescale from [0, 1] to [0, 255]\n",
    "transformer.set_channel_swap('data', (2,1,0))  # swap channels from RGB to BGR"
   ]
  },
  {
   "cell_type": "code",
   "execution_count": 5,
   "metadata": {
    "collapsed": true
   },
   "outputs": [],
   "source": [
    "net.blobs['data'].reshape(1,        # batch size\n",
    "                          3,         # 3-channel (BGR) images\n",
    "                          227, 227)  # image size is 227x227"
   ]
  },
  {
   "cell_type": "code",
   "execution_count": 45,
   "metadata": {
    "collapsed": false
   },
   "outputs": [
    {
     "name": "stdout",
     "output_type": "stream",
     "text": [
      "data\t(1, 3, 227, 227)\n",
      "conv1\t(10, 96, 55, 55)\n",
      "pool1\t(10, 96, 27, 27)\n",
      "norm1\t(10, 96, 27, 27)\n",
      "conv2\t(10, 256, 27, 27)\n",
      "pool2\t(10, 256, 13, 13)\n",
      "norm2\t(10, 256, 13, 13)\n",
      "conv3\t(10, 384, 13, 13)\n",
      "conv4\t(10, 384, 13, 13)\n",
      "conv5\t(10, 256, 13, 13)\n",
      "pool5\t(10, 256, 6, 6)\n",
      "fc6\t(10, 4096)\n",
      "fc7\t(10, 4096)\n",
      "fc8\t(10, 1000)\n",
      "prob\t(10, 1000)\n"
     ]
    }
   ],
   "source": [
    "for layer_name, blob in net.blobs.iteritems():\n",
    "    print layer_name + '\\t' + str(blob.data.shape)"
   ]
  },
  {
   "cell_type": "code",
   "execution_count": 227,
   "metadata": {
    "collapsed": false
   },
   "outputs": [
    {
     "data": {
      "text/html": [
       "<pre>Read 1544 images in 5.00179 secs\tspeed: 308.689 file/sec</pre>"
      ],
      "text/plain": [
       "Read 1544 images in 5.00179 secs\tspeed: 308.689 file/sec"
      ]
     },
     "metadata": {},
     "output_type": "display_data"
    },
    {
     "data": {
      "text/html": [
       "<pre>Unsupported image format. Supported formats are JPG and PNG\t file: /Users/voelunteer/Project/Kaggle/StateFarm/data/imgs/train/c0/.DS_Store</pre>"
      ],
      "text/plain": [
       "Unsupported image format. Supported formats are JPG and PNG\t file: /Users/voelunteer/Project/Kaggle/StateFarm/data/imgs/train/c0/.DS_Store"
      ]
     },
     "metadata": {},
     "output_type": "display_data"
    },
    {
     "data": {
      "text/html": [
       "<pre>Read 3136 images in 10.0106 secs\tspeed: 317.842 file/sec</pre>"
      ],
      "text/plain": [
       "Read 3136 images in 10.0106 secs\tspeed: 317.842 file/sec"
      ]
     },
     "metadata": {},
     "output_type": "display_data"
    },
    {
     "data": {
      "text/html": [
       "<pre>Read 4696 images in 15.0131 secs\tspeed: 311.839 file/sec</pre>"
      ],
      "text/plain": [
       "Read 4696 images in 15.0131 secs\tspeed: 311.839 file/sec"
      ]
     },
     "metadata": {},
     "output_type": "display_data"
    },
    {
     "data": {
      "text/html": [
       "<pre>Read 6253 images in 20.0142 secs\tspeed: 311.336 file/sec</pre>"
      ],
      "text/plain": [
       "Read 6253 images in 20.0142 secs\tspeed: 311.336 file/sec"
      ]
     },
     "metadata": {},
     "output_type": "display_data"
    },
    {
     "data": {
      "text/html": [
       "<pre>Read 7788 images in 25.0152 secs\tspeed: 306.934 file/sec</pre>"
      ],
      "text/plain": [
       "Read 7788 images in 25.0152 secs\tspeed: 306.934 file/sec"
      ]
     },
     "metadata": {},
     "output_type": "display_data"
    },
    {
     "data": {
      "text/html": [
       "<pre>Unsupported image format. Supported formats are JPG and PNG\t file: /Users/voelunteer/Project/Kaggle/StateFarm/data/imgs/train/.DS_Store</pre>"
      ],
      "text/plain": [
       "Unsupported image format. Supported formats are JPG and PNG\t file: /Users/voelunteer/Project/Kaggle/StateFarm/data/imgs/train/.DS_Store"
      ]
     },
     "metadata": {},
     "output_type": "display_data"
    },
    {
     "data": {
      "text/html": [
       "<pre>Read 9356 images in 30.017 secs\tspeed: 313.487 file/sec</pre>"
      ],
      "text/plain": [
       "Read 9356 images in 30.017 secs\tspeed: 313.487 file/sec"
      ]
     },
     "metadata": {},
     "output_type": "display_data"
    },
    {
     "data": {
      "text/html": [
       "<pre>Read 10879 images in 35.0178 secs\tspeed: 304.553 file/sec</pre>"
      ],
      "text/plain": [
       "Read 10879 images in 35.0178 secs\tspeed: 304.553 file/sec"
      ]
     },
     "metadata": {},
     "output_type": "display_data"
    },
    {
     "data": {
      "text/html": [
       "<pre>Read 12412 images in 40.019 secs\tspeed: 306.529 file/sec</pre>"
      ],
      "text/plain": [
       "Read 12412 images in 40.019 secs\tspeed: 306.529 file/sec"
      ]
     },
     "metadata": {},
     "output_type": "display_data"
    },
    {
     "data": {
      "text/html": [
       "<pre>Read 13944 images in 45.0298 secs\tspeed: 305.736 file/sec</pre>"
      ],
      "text/plain": [
       "Read 13944 images in 45.0298 secs\tspeed: 305.736 file/sec"
      ]
     },
     "metadata": {},
     "output_type": "display_data"
    },
    {
     "data": {
      "text/html": [
       "<pre>Read 15477 images in 50.03 secs\tspeed: 306.591 file/sec</pre>"
      ],
      "text/plain": [
       "Read 15477 images in 50.03 secs\tspeed: 306.591 file/sec"
      ]
     },
     "metadata": {},
     "output_type": "display_data"
    },
    {
     "data": {
      "text/html": [
       "<pre>Read 17024 images in 55.0362 secs\tspeed: 309.014 file/sec</pre>"
      ],
      "text/plain": [
       "Read 17024 images in 55.0362 secs\tspeed: 309.014 file/sec"
      ]
     },
     "metadata": {},
     "output_type": "display_data"
    },
    {
     "data": {
      "text/html": [
       "<pre>Read 18558 images in 60.0376 secs\tspeed: 306.714 file/sec</pre>"
      ],
      "text/plain": [
       "Read 18558 images in 60.0376 secs\tspeed: 306.714 file/sec"
      ]
     },
     "metadata": {},
     "output_type": "display_data"
    },
    {
     "data": {
      "text/html": [
       "<pre>Read 20048 images in 65.0428 secs\tspeed: 297.692 file/sec</pre>"
      ],
      "text/plain": [
       "Read 20048 images in 65.0428 secs\tspeed: 297.692 file/sec"
      ]
     },
     "metadata": {},
     "output_type": "display_data"
    },
    {
     "data": {
      "text/html": [
       "<pre>Unsupported image format. Supported formats are JPG and PNG\t file: /Users/voelunteer/Project/Kaggle/StateFarm/data/imgs/train/c1/.DS_Store</pre>"
      ],
      "text/plain": [
       "Unsupported image format. Supported formats are JPG and PNG\t file: /Users/voelunteer/Project/Kaggle/StateFarm/data/imgs/train/c1/.DS_Store"
      ]
     },
     "metadata": {},
     "output_type": "display_data"
    },
    {
     "data": {
      "text/html": [
       "<pre>Read 21579 images in 70.0435 secs\tspeed: 306.159 file/sec</pre>"
      ],
      "text/plain": [
       "Read 21579 images in 70.0435 secs\tspeed: 306.159 file/sec"
      ]
     },
     "metadata": {},
     "output_type": "display_data"
    }
   ],
   "source": [
    "train_imgs = graphlab.image_analysis.load_images('../data/imgs/train')"
   ]
  },
  {
   "cell_type": "code",
   "execution_count": 7,
   "metadata": {
    "collapsed": false
   },
   "outputs": [
    {
     "data": {
      "text/html": [
       "<pre>Read 1723 images in 5.00047 secs\tspeed: 344.568 file/sec</pre>"
      ],
      "text/plain": [
       "Read 1723 images in 5.00047 secs\tspeed: 344.568 file/sec"
      ]
     },
     "metadata": {},
     "output_type": "display_data"
    },
    {
     "data": {
      "text/html": [
       "<pre>Read 3088 images in 10.002 secs\tspeed: 272.915 file/sec</pre>"
      ],
      "text/plain": [
       "Read 3088 images in 10.002 secs\tspeed: 272.915 file/sec"
      ]
     },
     "metadata": {},
     "output_type": "display_data"
    },
    {
     "data": {
      "text/html": [
       "<pre>Read 4599 images in 15.0045 secs\tspeed: 302.049 file/sec</pre>"
      ],
      "text/plain": [
       "Read 4599 images in 15.0045 secs\tspeed: 302.049 file/sec"
      ]
     },
     "metadata": {},
     "output_type": "display_data"
    },
    {
     "data": {
      "text/html": [
       "<pre>Read 6117 images in 20.0061 secs\tspeed: 303.504 file/sec</pre>"
      ],
      "text/plain": [
       "Read 6117 images in 20.0061 secs\tspeed: 303.504 file/sec"
      ]
     },
     "metadata": {},
     "output_type": "display_data"
    },
    {
     "data": {
      "text/html": [
       "<pre>Read 7640 images in 25.0082 secs\tspeed: 304.473 file/sec</pre>"
      ],
      "text/plain": [
       "Read 7640 images in 25.0082 secs\tspeed: 304.473 file/sec"
      ]
     },
     "metadata": {},
     "output_type": "display_data"
    },
    {
     "data": {
      "text/html": [
       "<pre>Read 9175 images in 30.0099 secs\tspeed: 306.895 file/sec</pre>"
      ],
      "text/plain": [
       "Read 9175 images in 30.0099 secs\tspeed: 306.895 file/sec"
      ]
     },
     "metadata": {},
     "output_type": "display_data"
    },
    {
     "data": {
      "text/html": [
       "<pre>Read 10711 images in 35.0108 secs\tspeed: 307.147 file/sec</pre>"
      ],
      "text/plain": [
       "Read 10711 images in 35.0108 secs\tspeed: 307.147 file/sec"
      ]
     },
     "metadata": {},
     "output_type": "display_data"
    },
    {
     "data": {
      "text/html": [
       "<pre>Read 12214 images in 40.0128 secs\tspeed: 300.475 file/sec</pre>"
      ],
      "text/plain": [
       "Read 12214 images in 40.0128 secs\tspeed: 300.475 file/sec"
      ]
     },
     "metadata": {},
     "output_type": "display_data"
    },
    {
     "data": {
      "text/html": [
       "<pre>Read 13714 images in 45.0129 secs\tspeed: 299.997 file/sec</pre>"
      ],
      "text/plain": [
       "Read 13714 images in 45.0129 secs\tspeed: 299.997 file/sec"
      ]
     },
     "metadata": {},
     "output_type": "display_data"
    },
    {
     "data": {
      "text/html": [
       "<pre>Read 15212 images in 50.0148 secs\tspeed: 299.483 file/sec</pre>"
      ],
      "text/plain": [
       "Read 15212 images in 50.0148 secs\tspeed: 299.483 file/sec"
      ]
     },
     "metadata": {},
     "output_type": "display_data"
    },
    {
     "data": {
      "text/html": [
       "<pre>Read 16713 images in 55.0171 secs\tspeed: 300.067 file/sec</pre>"
      ],
      "text/plain": [
       "Read 16713 images in 55.0171 secs\tspeed: 300.067 file/sec"
      ]
     },
     "metadata": {},
     "output_type": "display_data"
    },
    {
     "data": {
      "text/html": [
       "<pre>Read 18224 images in 60.0191 secs\tspeed: 302.077 file/sec</pre>"
      ],
      "text/plain": [
       "Read 18224 images in 60.0191 secs\tspeed: 302.077 file/sec"
      ]
     },
     "metadata": {},
     "output_type": "display_data"
    },
    {
     "data": {
      "text/html": [
       "<pre>Read 19762 images in 65.0204 secs\tspeed: 307.519 file/sec</pre>"
      ],
      "text/plain": [
       "Read 19762 images in 65.0204 secs\tspeed: 307.519 file/sec"
      ]
     },
     "metadata": {},
     "output_type": "display_data"
    },
    {
     "data": {
      "text/html": [
       "<pre>Read 21275 images in 70.0229 secs\tspeed: 302.45 file/sec</pre>"
      ],
      "text/plain": [
       "Read 21275 images in 70.0229 secs\tspeed: 302.45 file/sec"
      ]
     },
     "metadata": {},
     "output_type": "display_data"
    },
    {
     "data": {
      "text/html": [
       "<pre>Read 22778 images in 75.0251 secs\tspeed: 300.47 file/sec</pre>"
      ],
      "text/plain": [
       "Read 22778 images in 75.0251 secs\tspeed: 300.47 file/sec"
      ]
     },
     "metadata": {},
     "output_type": "display_data"
    },
    {
     "data": {
      "text/html": [
       "<pre>Read 24305 images in 80.0272 secs\tspeed: 305.272 file/sec</pre>"
      ],
      "text/plain": [
       "Read 24305 images in 80.0272 secs\tspeed: 305.272 file/sec"
      ]
     },
     "metadata": {},
     "output_type": "display_data"
    },
    {
     "data": {
      "text/html": [
       "<pre>Read 25825 images in 85.0323 secs\tspeed: 303.686 file/sec</pre>"
      ],
      "text/plain": [
       "Read 25825 images in 85.0323 secs\tspeed: 303.686 file/sec"
      ]
     },
     "metadata": {},
     "output_type": "display_data"
    },
    {
     "data": {
      "text/html": [
       "<pre>Read 27336 images in 90.0398 secs\tspeed: 301.749 file/sec</pre>"
      ],
      "text/plain": [
       "Read 27336 images in 90.0398 secs\tspeed: 301.749 file/sec"
      ]
     },
     "metadata": {},
     "output_type": "display_data"
    },
    {
     "data": {
      "text/html": [
       "<pre>Read 28862 images in 95.0411 secs\tspeed: 305.123 file/sec</pre>"
      ],
      "text/plain": [
       "Read 28862 images in 95.0411 secs\tspeed: 305.123 file/sec"
      ]
     },
     "metadata": {},
     "output_type": "display_data"
    },
    {
     "data": {
      "text/html": [
       "<pre>Read 30399 images in 100.043 secs\tspeed: 307.302 file/sec</pre>"
      ],
      "text/plain": [
       "Read 30399 images in 100.043 secs\tspeed: 307.302 file/sec"
      ]
     },
     "metadata": {},
     "output_type": "display_data"
    },
    {
     "data": {
      "text/html": [
       "<pre>Read 31936 images in 105.048 secs\tspeed: 307.047 file/sec</pre>"
      ],
      "text/plain": [
       "Read 31936 images in 105.048 secs\tspeed: 307.047 file/sec"
      ]
     },
     "metadata": {},
     "output_type": "display_data"
    },
    {
     "data": {
      "text/html": [
       "<pre>Read 33468 images in 110.049 secs\tspeed: 306.375 file/sec</pre>"
      ],
      "text/plain": [
       "Read 33468 images in 110.049 secs\tspeed: 306.375 file/sec"
      ]
     },
     "metadata": {},
     "output_type": "display_data"
    },
    {
     "data": {
      "text/html": [
       "<pre>Read 35034 images in 115.05 secs\tspeed: 313.095 file/sec</pre>"
      ],
      "text/plain": [
       "Read 35034 images in 115.05 secs\tspeed: 313.095 file/sec"
      ]
     },
     "metadata": {},
     "output_type": "display_data"
    },
    {
     "data": {
      "text/html": [
       "<pre>Read 36568 images in 120.054 secs\tspeed: 306.566 file/sec</pre>"
      ],
      "text/plain": [
       "Read 36568 images in 120.054 secs\tspeed: 306.566 file/sec"
      ]
     },
     "metadata": {},
     "output_type": "display_data"
    },
    {
     "data": {
      "text/html": [
       "<pre>Read 38091 images in 125.056 secs\tspeed: 304.506 file/sec</pre>"
      ],
      "text/plain": [
       "Read 38091 images in 125.056 secs\tspeed: 304.506 file/sec"
      ]
     },
     "metadata": {},
     "output_type": "display_data"
    },
    {
     "data": {
      "text/html": [
       "<pre>Read 39613 images in 130.058 secs\tspeed: 304.295 file/sec</pre>"
      ],
      "text/plain": [
       "Read 39613 images in 130.058 secs\tspeed: 304.295 file/sec"
      ]
     },
     "metadata": {},
     "output_type": "display_data"
    },
    {
     "data": {
      "text/html": [
       "<pre>Read 41168 images in 135.068 secs\tspeed: 310.377 file/sec</pre>"
      ],
      "text/plain": [
       "Read 41168 images in 135.068 secs\tspeed: 310.377 file/sec"
      ]
     },
     "metadata": {},
     "output_type": "display_data"
    },
    {
     "data": {
      "text/html": [
       "<pre>Read 42680 images in 140.071 secs\tspeed: 302.195 file/sec</pre>"
      ],
      "text/plain": [
       "Read 42680 images in 140.071 secs\tspeed: 302.195 file/sec"
      ]
     },
     "metadata": {},
     "output_type": "display_data"
    },
    {
     "data": {
      "text/html": [
       "<pre>Read 44216 images in 145.079 secs\tspeed: 306.702 file/sec</pre>"
      ],
      "text/plain": [
       "Read 44216 images in 145.079 secs\tspeed: 306.702 file/sec"
      ]
     },
     "metadata": {},
     "output_type": "display_data"
    },
    {
     "data": {
      "text/html": [
       "<pre>Read 45744 images in 150.08 secs\tspeed: 305.558 file/sec</pre>"
      ],
      "text/plain": [
       "Read 45744 images in 150.08 secs\tspeed: 305.558 file/sec"
      ]
     },
     "metadata": {},
     "output_type": "display_data"
    },
    {
     "data": {
      "text/html": [
       "<pre>Read 47214 images in 155.082 secs\tspeed: 293.853 file/sec</pre>"
      ],
      "text/plain": [
       "Read 47214 images in 155.082 secs\tspeed: 293.853 file/sec"
      ]
     },
     "metadata": {},
     "output_type": "display_data"
    },
    {
     "data": {
      "text/html": [
       "<pre>Read 48703 images in 160.083 secs\tspeed: 297.748 file/sec</pre>"
      ],
      "text/plain": [
       "Read 48703 images in 160.083 secs\tspeed: 297.748 file/sec"
      ]
     },
     "metadata": {},
     "output_type": "display_data"
    },
    {
     "data": {
      "text/html": [
       "<pre>Read 50187 images in 165.084 secs\tspeed: 296.732 file/sec</pre>"
      ],
      "text/plain": [
       "Read 50187 images in 165.084 secs\tspeed: 296.732 file/sec"
      ]
     },
     "metadata": {},
     "output_type": "display_data"
    },
    {
     "data": {
      "text/html": [
       "<pre>Read 51677 images in 170.084 secs\tspeed: 297.995 file/sec</pre>"
      ],
      "text/plain": [
       "Read 51677 images in 170.084 secs\tspeed: 297.995 file/sec"
      ]
     },
     "metadata": {},
     "output_type": "display_data"
    },
    {
     "data": {
      "text/html": [
       "<pre>Read 53160 images in 175.089 secs\tspeed: 296.346 file/sec</pre>"
      ],
      "text/plain": [
       "Read 53160 images in 175.089 secs\tspeed: 296.346 file/sec"
      ]
     },
     "metadata": {},
     "output_type": "display_data"
    },
    {
     "data": {
      "text/html": [
       "<pre>Read 54648 images in 180.092 secs\tspeed: 297.425 file/sec</pre>"
      ],
      "text/plain": [
       "Read 54648 images in 180.092 secs\tspeed: 297.425 file/sec"
      ]
     },
     "metadata": {},
     "output_type": "display_data"
    },
    {
     "data": {
      "text/html": [
       "<pre>Read 56152 images in 185.094 secs\tspeed: 300.647 file/sec</pre>"
      ],
      "text/plain": [
       "Read 56152 images in 185.094 secs\tspeed: 300.647 file/sec"
      ]
     },
     "metadata": {},
     "output_type": "display_data"
    },
    {
     "data": {
      "text/html": [
       "<pre>Read 57632 images in 190.099 secs\tspeed: 295.692 file/sec</pre>"
      ],
      "text/plain": [
       "Read 57632 images in 190.099 secs\tspeed: 295.692 file/sec"
      ]
     },
     "metadata": {},
     "output_type": "display_data"
    },
    {
     "data": {
      "text/html": [
       "<pre>Read 59063 images in 195.1 secs\tspeed: 286.185 file/sec</pre>"
      ],
      "text/plain": [
       "Read 59063 images in 195.1 secs\tspeed: 286.185 file/sec"
      ]
     },
     "metadata": {},
     "output_type": "display_data"
    },
    {
     "data": {
      "text/html": [
       "<pre>Read 60480 images in 200.106 secs\tspeed: 283.062 file/sec</pre>"
      ],
      "text/plain": [
       "Read 60480 images in 200.106 secs\tspeed: 283.062 file/sec"
      ]
     },
     "metadata": {},
     "output_type": "display_data"
    },
    {
     "data": {
      "text/html": [
       "<pre>Read 61926 images in 205.106 secs\tspeed: 289.188 file/sec</pre>"
      ],
      "text/plain": [
       "Read 61926 images in 205.106 secs\tspeed: 289.188 file/sec"
      ]
     },
     "metadata": {},
     "output_type": "display_data"
    },
    {
     "data": {
      "text/html": [
       "<pre>Read 63364 images in 210.109 secs\tspeed: 287.419 file/sec</pre>"
      ],
      "text/plain": [
       "Read 63364 images in 210.109 secs\tspeed: 287.419 file/sec"
      ]
     },
     "metadata": {},
     "output_type": "display_data"
    },
    {
     "data": {
      "text/html": [
       "<pre>Read 64822 images in 215.111 secs\tspeed: 291.489 file/sec</pre>"
      ],
      "text/plain": [
       "Read 64822 images in 215.111 secs\tspeed: 291.489 file/sec"
      ]
     },
     "metadata": {},
     "output_type": "display_data"
    },
    {
     "data": {
      "text/html": [
       "<pre>Read 66296 images in 220.118 secs\tspeed: 294.385 file/sec</pre>"
      ],
      "text/plain": [
       "Read 66296 images in 220.118 secs\tspeed: 294.385 file/sec"
      ]
     },
     "metadata": {},
     "output_type": "display_data"
    },
    {
     "data": {
      "text/html": [
       "<pre>Read 67775 images in 225.119 secs\tspeed: 295.708 file/sec</pre>"
      ],
      "text/plain": [
       "Read 67775 images in 225.119 secs\tspeed: 295.708 file/sec"
      ]
     },
     "metadata": {},
     "output_type": "display_data"
    },
    {
     "data": {
      "text/html": [
       "<pre>Unsupported image format. Supported formats are JPG and PNG\t file: /Users/voelunteer/Project/Kaggle/StateFarm/data/imgs/test/.DS_Store</pre>"
      ],
      "text/plain": [
       "Unsupported image format. Supported formats are JPG and PNG\t file: /Users/voelunteer/Project/Kaggle/StateFarm/data/imgs/test/.DS_Store"
      ]
     },
     "metadata": {},
     "output_type": "display_data"
    },
    {
     "data": {
      "text/html": [
       "<pre>Read 69247 images in 230.12 secs\tspeed: 294.399 file/sec</pre>"
      ],
      "text/plain": [
       "Read 69247 images in 230.12 secs\tspeed: 294.399 file/sec"
      ]
     },
     "metadata": {},
     "output_type": "display_data"
    },
    {
     "data": {
      "text/html": [
       "<pre>Read 70752 images in 235.127 secs\tspeed: 300.563 file/sec</pre>"
      ],
      "text/plain": [
       "Read 70752 images in 235.127 secs\tspeed: 300.563 file/sec"
      ]
     },
     "metadata": {},
     "output_type": "display_data"
    },
    {
     "data": {
      "text/html": [
       "<pre>Read 72240 images in 240.131 secs\tspeed: 297.35 file/sec</pre>"
      ],
      "text/plain": [
       "Read 72240 images in 240.131 secs\tspeed: 297.35 file/sec"
      ]
     },
     "metadata": {},
     "output_type": "display_data"
    },
    {
     "data": {
      "text/html": [
       "<pre>Read 73704 images in 245.138 secs\tspeed: 292.383 file/sec</pre>"
      ],
      "text/plain": [
       "Read 73704 images in 245.138 secs\tspeed: 292.383 file/sec"
      ]
     },
     "metadata": {},
     "output_type": "display_data"
    },
    {
     "data": {
      "text/html": [
       "<pre>Read 75165 images in 250.139 secs\tspeed: 292.143 file/sec</pre>"
      ],
      "text/plain": [
       "Read 75165 images in 250.139 secs\tspeed: 292.143 file/sec"
      ]
     },
     "metadata": {},
     "output_type": "display_data"
    },
    {
     "data": {
      "text/html": [
       "<pre>Read 76584 images in 255.144 secs\tspeed: 283.509 file/sec</pre>"
      ],
      "text/plain": [
       "Read 76584 images in 255.144 secs\tspeed: 283.509 file/sec"
      ]
     },
     "metadata": {},
     "output_type": "display_data"
    },
    {
     "data": {
      "text/html": [
       "<pre>Read 78024 images in 260.148 secs\tspeed: 287.79 file/sec</pre>"
      ],
      "text/plain": [
       "Read 78024 images in 260.148 secs\tspeed: 287.79 file/sec"
      ]
     },
     "metadata": {},
     "output_type": "display_data"
    },
    {
     "data": {
      "text/html": [
       "<pre>Read 79490 images in 265.15 secs\tspeed: 293.093 file/sec</pre>"
      ],
      "text/plain": [
       "Read 79490 images in 265.15 secs\tspeed: 293.093 file/sec"
      ]
     },
     "metadata": {},
     "output_type": "display_data"
    }
   ],
   "source": [
    "test_imgs = graphlab.image_analysis.load_images('../data/imgs/test')"
   ]
  },
  {
   "cell_type": "code",
   "execution_count": 182,
   "metadata": {
    "collapsed": true
   },
   "outputs": [],
   "source": [
    "train_imgs['label'] = train_imgs['path'].apply(lambda x: x.split('/')[-2]) \n",
    "test_imgs['label'] = None"
   ]
  },
  {
   "cell_type": "code",
   "execution_count": 183,
   "metadata": {
    "collapsed": true
   },
   "outputs": [],
   "source": [
    "train_imgs['img_name'] = train_imgs['path'].apply(lambda x: x.split('/')[-1]) \n",
    "test_imgs['img_name'] = test_imgs['path'].apply(lambda x: x.split('/')[-1]) "
   ]
  },
  {
   "cell_type": "code",
   "execution_count": 78,
   "metadata": {
    "collapsed": true
   },
   "outputs": [],
   "source": [
    "def is_number(s):\n",
    "    try:\n",
    "        n=str(float(s))\n",
    "        if n == \"nan\" or n==\"inf\" or n==\"-inf\" : return False\n",
    "    except ValueError:\n",
    "        try:\n",
    "            complex(s) # for complex\n",
    "        except ValueError:\n",
    "            return False\n",
    "    return True"
   ]
  },
  {
   "cell_type": "code",
   "execution_count": 184,
   "metadata": {
    "collapsed": true
   },
   "outputs": [],
   "source": [
    "def feature_extraction(path, node):\n",
    "    image = caffe.io.load_image(path)\n",
    "    net.blobs['data'].data[...] = transformer.preprocess('data', image)\n",
    "    net.forward()\n",
    "    feature_lists = net.blobs[node].data[0]\n",
    "    feature = array.array('d', [item for list in feature_lists for sublist in list for item in sublist if is_number(item)])\n",
    "    return feature"
   ]
  },
  {
   "cell_type": "code",
   "execution_count": 185,
   "metadata": {
    "collapsed": true
   },
   "outputs": [],
   "source": [
    "def vis_square(data):\n",
    "    \"\"\"Take an array of shape (n, height, width) or (n, height, width, 3)\n",
    "       and visualize each (height, width) thing in a grid of size approx. sqrt(n) by sqrt(n)\"\"\"\n",
    "    \n",
    "    # normalize data for display\n",
    "    data = (data - data.min()) / (data.max() - data.min())\n",
    "    \n",
    "    # force the number of filters to be square\n",
    "    n = int(np.ceil(np.sqrt(data.shape[0])))\n",
    "    padding = (((0, n ** 2 - data.shape[0]),\n",
    "               (0, 1), (0, 1))                 # add some space between filters\n",
    "               + ((0, 0),) * (data.ndim - 3))  # don't pad the last dimension (if there is one)\n",
    "    data = np.pad(data, padding, mode='constant', constant_values=1)  # pad with ones (white)\n",
    "    \n",
    "    # tile the filters into an image\n",
    "    data = data.reshape((n, n) + data.shape[1:]).transpose((0, 2, 1, 3) + tuple(range(4, data.ndim + 1)))\n",
    "    data = data.reshape((n * data.shape[1], n * data.shape[3]) + data.shape[4:])\n",
    "    \n",
    "    plt.imshow(data); plt.axis('off')"
   ]
  },
  {
   "cell_type": "code",
   "execution_count": 225,
   "metadata": {
    "collapsed": false
   },
   "outputs": [],
   "source": [
    "features = []\n",
    "for img_file in train_imgs:\n",
    "    features.append(feature_extraction(img_file['path'], 'conv5'))\n",
    "\n",
    "train_img_conv5 = graphlab.SFrame({'img_name': train_imgs['img_name'], 'conv5': features})\n",
    "train_imgs = train_img.join(train_img_conv5, on='img_name')\n",
    "\n",
    "\n"
   ]
  },
  {
   "cell_type": "code",
   "execution_count": 226,
   "metadata": {
    "collapsed": false
   },
   "outputs": [
    {
     "data": {
      "text/html": [
       "<div style=\"max-height:1000px;max-width:1500px;overflow:auto;\"><table frame=\"box\" rules=\"cols\">\n",
       "    <tr>\n",
       "        <th style=\"padding-left: 1em; padding-right: 1em; text-align: center\">path</th>\n",
       "        <th style=\"padding-left: 1em; padding-right: 1em; text-align: center\">image</th>\n",
       "        <th style=\"padding-left: 1em; padding-right: 1em; text-align: center\">label</th>\n",
       "        <th style=\"padding-left: 1em; padding-right: 1em; text-align: center\">img_name</th>\n",
       "        <th style=\"padding-left: 1em; padding-right: 1em; text-align: center\">conv5</th>\n",
       "    </tr>\n",
       "    <tr>\n",
       "        <td style=\"padding-left: 1em; padding-right: 1em; text-align: center; vertical-align: top\">/Users/voelunteer/Project<br>/Kaggle/StateFarm/dat ...</td>\n",
       "        <td style=\"padding-left: 1em; padding-right: 1em; text-align: center; vertical-align: top\">Height: 480 Width: 640</td>\n",
       "        <td style=\"padding-left: 1em; padding-right: 1em; text-align: center; vertical-align: top\">c6</td>\n",
       "        <td style=\"padding-left: 1em; padding-right: 1em; text-align: center; vertical-align: top\">img_52659.jpg</td>\n",
       "        <td style=\"padding-left: 1em; padding-right: 1em; text-align: center; vertical-align: top\">[0.0, 0.0, 0.0, 0.0, 0.0,<br>0.0, 0.0, 13.992606163, ...</td>\n",
       "    </tr>\n",
       "    <tr>\n",
       "        <td style=\"padding-left: 1em; padding-right: 1em; text-align: center; vertical-align: top\">/Users/voelunteer/Project<br>/Kaggle/StateFarm/dat ...</td>\n",
       "        <td style=\"padding-left: 1em; padding-right: 1em; text-align: center; vertical-align: top\">Height: 480 Width: 640</td>\n",
       "        <td style=\"padding-left: 1em; padding-right: 1em; text-align: center; vertical-align: top\">c3</td>\n",
       "        <td style=\"padding-left: 1em; padding-right: 1em; text-align: center; vertical-align: top\">img_40278.jpg</td>\n",
       "        <td style=\"padding-left: 1em; padding-right: 1em; text-align: center; vertical-align: top\">[0.0, 0.0, 0.0, 0.0, 0.0,<br>0.0, 0.0, 0.0, ...</td>\n",
       "    </tr>\n",
       "    <tr>\n",
       "        <td style=\"padding-left: 1em; padding-right: 1em; text-align: center; vertical-align: top\">/Users/voelunteer/Project<br>/Kaggle/StateFarm/dat ...</td>\n",
       "        <td style=\"padding-left: 1em; padding-right: 1em; text-align: center; vertical-align: top\">Height: 480 Width: 640</td>\n",
       "        <td style=\"padding-left: 1em; padding-right: 1em; text-align: center; vertical-align: top\">c3</td>\n",
       "        <td style=\"padding-left: 1em; padding-right: 1em; text-align: center; vertical-align: top\">img_44764.jpg</td>\n",
       "        <td style=\"padding-left: 1em; padding-right: 1em; text-align: center; vertical-align: top\">[0.0, 4.00793409348, 0.0,<br>0.0, 0.0, 0.0, 0.0, 0.0, ...</td>\n",
       "    </tr>\n",
       "    <tr>\n",
       "        <td style=\"padding-left: 1em; padding-right: 1em; text-align: center; vertical-align: top\">/Users/voelunteer/Project<br>/Kaggle/StateFarm/dat ...</td>\n",
       "        <td style=\"padding-left: 1em; padding-right: 1em; text-align: center; vertical-align: top\">Height: 480 Width: 640</td>\n",
       "        <td style=\"padding-left: 1em; padding-right: 1em; text-align: center; vertical-align: top\">c5</td>\n",
       "        <td style=\"padding-left: 1em; padding-right: 1em; text-align: center; vertical-align: top\">img_82112.jpg</td>\n",
       "        <td style=\"padding-left: 1em; padding-right: 1em; text-align: center; vertical-align: top\">[0.0, 0.0, 0.0, 0.0, 0.0,<br>0.0, 0.0, 0.0, 0.0, 0.0, ...</td>\n",
       "    </tr>\n",
       "    <tr>\n",
       "        <td style=\"padding-left: 1em; padding-right: 1em; text-align: center; vertical-align: top\">/Users/voelunteer/Project<br>/Kaggle/StateFarm/dat ...</td>\n",
       "        <td style=\"padding-left: 1em; padding-right: 1em; text-align: center; vertical-align: top\">Height: 480 Width: 640</td>\n",
       "        <td style=\"padding-left: 1em; padding-right: 1em; text-align: center; vertical-align: top\">c6</td>\n",
       "        <td style=\"padding-left: 1em; padding-right: 1em; text-align: center; vertical-align: top\">img_17196.jpg</td>\n",
       "        <td style=\"padding-left: 1em; padding-right: 1em; text-align: center; vertical-align: top\">[0.0, 0.0, 0.0, 0.0, 0.0,<br>0.0, 18.5250263214, ...</td>\n",
       "    </tr>\n",
       "    <tr>\n",
       "        <td style=\"padding-left: 1em; padding-right: 1em; text-align: center; vertical-align: top\">/Users/voelunteer/Project<br>/Kaggle/StateFarm/dat ...</td>\n",
       "        <td style=\"padding-left: 1em; padding-right: 1em; text-align: center; vertical-align: top\">Height: 480 Width: 640</td>\n",
       "        <td style=\"padding-left: 1em; padding-right: 1em; text-align: center; vertical-align: top\">c0</td>\n",
       "        <td style=\"padding-left: 1em; padding-right: 1em; text-align: center; vertical-align: top\">img_100312.jpg</td>\n",
       "        <td style=\"padding-left: 1em; padding-right: 1em; text-align: center; vertical-align: top\">[0.0, 0.0, 0.0, 0.0, 0.0,<br>0.0, 0.0, 0.0, ...</td>\n",
       "    </tr>\n",
       "    <tr>\n",
       "        <td style=\"padding-left: 1em; padding-right: 1em; text-align: center; vertical-align: top\">/Users/voelunteer/Project<br>/Kaggle/StateFarm/dat ...</td>\n",
       "        <td style=\"padding-left: 1em; padding-right: 1em; text-align: center; vertical-align: top\">Height: 480 Width: 640</td>\n",
       "        <td style=\"padding-left: 1em; padding-right: 1em; text-align: center; vertical-align: top\">c5</td>\n",
       "        <td style=\"padding-left: 1em; padding-right: 1em; text-align: center; vertical-align: top\">img_28478.jpg</td>\n",
       "        <td style=\"padding-left: 1em; padding-right: 1em; text-align: center; vertical-align: top\">[0.0, 0.0, 0.0, 0.0, 0.0,<br>0.0, 0.0, 0.0, 0.0, ...</td>\n",
       "    </tr>\n",
       "    <tr>\n",
       "        <td style=\"padding-left: 1em; padding-right: 1em; text-align: center; vertical-align: top\">/Users/voelunteer/Project<br>/Kaggle/StateFarm/dat ...</td>\n",
       "        <td style=\"padding-left: 1em; padding-right: 1em; text-align: center; vertical-align: top\">Height: 480 Width: 640</td>\n",
       "        <td style=\"padding-left: 1em; padding-right: 1em; text-align: center; vertical-align: top\">c8</td>\n",
       "        <td style=\"padding-left: 1em; padding-right: 1em; text-align: center; vertical-align: top\">img_56891.jpg</td>\n",
       "        <td style=\"padding-left: 1em; padding-right: 1em; text-align: center; vertical-align: top\">[0.0, 1.91837847233, 0.0,<br>0.0, 0.0, 0.0, 0.0, 0.0, ...</td>\n",
       "    </tr>\n",
       "    <tr>\n",
       "        <td style=\"padding-left: 1em; padding-right: 1em; text-align: center; vertical-align: top\">/Users/voelunteer/Project<br>/Kaggle/StateFarm/dat ...</td>\n",
       "        <td style=\"padding-left: 1em; padding-right: 1em; text-align: center; vertical-align: top\">Height: 480 Width: 640</td>\n",
       "        <td style=\"padding-left: 1em; padding-right: 1em; text-align: center; vertical-align: top\">c0</td>\n",
       "        <td style=\"padding-left: 1em; padding-right: 1em; text-align: center; vertical-align: top\">img_95056.jpg</td>\n",
       "        <td style=\"padding-left: 1em; padding-right: 1em; text-align: center; vertical-align: top\">[0.0, 14.4701318741, 0.0,<br>0.0, 0.0, 0.0, 0.0, 0.0, ...</td>\n",
       "    </tr>\n",
       "    <tr>\n",
       "        <td style=\"padding-left: 1em; padding-right: 1em; text-align: center; vertical-align: top\">/Users/voelunteer/Project<br>/Kaggle/StateFarm/dat ...</td>\n",
       "        <td style=\"padding-left: 1em; padding-right: 1em; text-align: center; vertical-align: top\">Height: 480 Width: 640</td>\n",
       "        <td style=\"padding-left: 1em; padding-right: 1em; text-align: center; vertical-align: top\">c4</td>\n",
       "        <td style=\"padding-left: 1em; padding-right: 1em; text-align: center; vertical-align: top\">img_23123.jpg</td>\n",
       "        <td style=\"padding-left: 1em; padding-right: 1em; text-align: center; vertical-align: top\">[0.0, 0.0, 0.0, 0.0, 0.0,<br>0.0, 3.87563991547, 0.0, ...</td>\n",
       "    </tr>\n",
       "</table>\n",
       "[100 rows x 5 columns]<br/>Note: Only the head of the SFrame is printed.<br/>You can use print_rows(num_rows=m, num_columns=n) to print more rows and columns.\n",
       "</div>"
      ],
      "text/plain": [
       "Columns:\n",
       "\tpath\tstr\n",
       "\timage\tImage\n",
       "\tlabel\tstr\n",
       "\timg_name\tstr\n",
       "\tconv5\tarray\n",
       "\n",
       "Rows: 100\n",
       "\n",
       "Data:\n",
       "+-------------------------------+------------------------+-------+\n",
       "|              path             |         image          | label |\n",
       "+-------------------------------+------------------------+-------+\n",
       "| /Users/voelunteer/Project/... | Height: 480 Width: 640 |   c6  |\n",
       "| /Users/voelunteer/Project/... | Height: 480 Width: 640 |   c3  |\n",
       "| /Users/voelunteer/Project/... | Height: 480 Width: 640 |   c3  |\n",
       "| /Users/voelunteer/Project/... | Height: 480 Width: 640 |   c5  |\n",
       "| /Users/voelunteer/Project/... | Height: 480 Width: 640 |   c6  |\n",
       "| /Users/voelunteer/Project/... | Height: 480 Width: 640 |   c0  |\n",
       "| /Users/voelunteer/Project/... | Height: 480 Width: 640 |   c5  |\n",
       "| /Users/voelunteer/Project/... | Height: 480 Width: 640 |   c8  |\n",
       "| /Users/voelunteer/Project/... | Height: 480 Width: 640 |   c0  |\n",
       "| /Users/voelunteer/Project/... | Height: 480 Width: 640 |   c4  |\n",
       "+-------------------------------+------------------------+-------+\n",
       "+----------------+-------------------------------+\n",
       "|    img_name    |             conv5             |\n",
       "+----------------+-------------------------------+\n",
       "| img_52659.jpg  | [0.0, 0.0, 0.0, 0.0, 0.0, ... |\n",
       "| img_40278.jpg  | [0.0, 0.0, 0.0, 0.0, 0.0, ... |\n",
       "| img_44764.jpg  | [0.0, 4.00793409348, 0.0, ... |\n",
       "| img_82112.jpg  | [0.0, 0.0, 0.0, 0.0, 0.0, ... |\n",
       "| img_17196.jpg  | [0.0, 0.0, 0.0, 0.0, 0.0, ... |\n",
       "| img_100312.jpg | [0.0, 0.0, 0.0, 0.0, 0.0, ... |\n",
       "| img_28478.jpg  | [0.0, 0.0, 0.0, 0.0, 0.0, ... |\n",
       "| img_56891.jpg  | [0.0, 1.91837847233, 0.0, ... |\n",
       "| img_95056.jpg  | [0.0, 14.4701318741, 0.0, ... |\n",
       "| img_23123.jpg  | [0.0, 0.0, 0.0, 0.0, 0.0, ... |\n",
       "+----------------+-------------------------------+\n",
       "[100 rows x 5 columns]\n",
       "Note: Only the head of the SFrame is printed.\n",
       "You can use print_rows(num_rows=m, num_columns=n) to print more rows and columns."
      ]
     },
     "execution_count": 226,
     "metadata": {},
     "output_type": "execute_result"
    }
   ],
   "source": [
    "train_imgs.save('../output/train_imgs_conv5.csv')"
   ]
  },
  {
   "cell_type": "code",
   "execution_count": null,
   "metadata": {
    "collapsed": true
   },
   "outputs": [],
   "source": [
    "features = []\n",
    "for img_file in test_imgs:\n",
    "    features.append(feature_extraction(img_file['path'], 'conv5'))\n",
    "\n",
    "test_img_conv5 = graphlab.SFrame({'img_name': test_imgs['img_name'], 'conv5': features})\n",
    "test_imgs = test_imgs.join(train_img_conv5, on='img_name')"
   ]
  },
  {
   "cell_type": "code",
   "execution_count": null,
   "metadata": {
    "collapsed": true
   },
   "outputs": [],
   "source": [
    "test_imgs.save('../output/test_imgs_conv5.csv')"
   ]
  }
 ],
 "metadata": {
  "kernelspec": {
   "display_name": "Python 2",
   "language": "python",
   "name": "python2"
  },
  "language_info": {
   "codemirror_mode": {
    "name": "ipython",
    "version": 2
   },
   "file_extension": ".py",
   "mimetype": "text/x-python",
   "name": "python",
   "nbconvert_exporter": "python",
   "pygments_lexer": "ipython2",
   "version": "2.7.11"
  }
 },
 "nbformat": 4,
 "nbformat_minor": 0
}
