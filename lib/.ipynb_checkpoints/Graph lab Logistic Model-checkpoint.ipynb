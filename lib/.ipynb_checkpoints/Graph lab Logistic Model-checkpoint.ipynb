{
 "cells": [
  {
   "cell_type": "code",
   "execution_count": null,
   "metadata": {
    "collapsed": true
   },
   "outputs": [],
   "source": [
    "import graphlab"
   ]
  },
  {
   "cell_type": "code",
   "execution_count": 2,
   "metadata": {
    "collapsed": false
   },
   "outputs": [
    {
     "name": "stderr",
     "output_type": "stream",
     "text": [
      "2016-04-19 14:12:05,970 [INFO] graphlab.cython.cy_server, 176: GraphLab Create v1.8.5 started. Logging: /tmp/graphlab_server_1461089524.log\n"
     ]
    },
    {
     "name": "stdout",
     "output_type": "stream",
     "text": [
      "This non-commercial license of GraphLab Create is assigned to voelunteer@gmail.com and will expire on December 23, 2016. For commercial licensing options, visit https://dato.com/buy/.\n"
     ]
    },
    {
     "data": {
      "text/html": [
       "<pre>Read 1464 images in 5.00366 secs\tspeed: 292.586 file/sec</pre>"
      ],
      "text/plain": [
       "Read 1464 images in 5.00366 secs\tspeed: 292.586 file/sec"
      ]
     },
     "metadata": {},
     "output_type": "display_data"
    },
    {
     "data": {
      "text/html": [
       "<pre>Read 3032 images in 10.0057 secs\tspeed: 313.472 file/sec</pre>"
      ],
      "text/plain": [
       "Read 3032 images in 10.0057 secs\tspeed: 313.472 file/sec"
      ]
     },
     "metadata": {},
     "output_type": "display_data"
    },
    {
     "data": {
      "text/html": [
       "<pre>Read 4545 images in 15.0059 secs\tspeed: 302.588 file/sec</pre>"
      ],
      "text/plain": [
       "Read 4545 images in 15.0059 secs\tspeed: 302.588 file/sec"
      ]
     },
     "metadata": {},
     "output_type": "display_data"
    },
    {
     "data": {
      "text/html": [
       "<pre>Unsupported image format. Supported formats are JPG and PNG\t file: /Users/voelunteer/Project/Kaggle/StateFarm/data/imgs/train/.DS_Store</pre>"
      ],
      "text/plain": [
       "Unsupported image format. Supported formats are JPG and PNG\t file: /Users/voelunteer/Project/Kaggle/StateFarm/data/imgs/train/.DS_Store"
      ]
     },
     "metadata": {},
     "output_type": "display_data"
    },
    {
     "data": {
      "text/html": [
       "<pre>Read 6040 images in 20.0094 secs\tspeed: 298.791 file/sec</pre>"
      ],
      "text/plain": [
       "Read 6040 images in 20.0094 secs\tspeed: 298.791 file/sec"
      ]
     },
     "metadata": {},
     "output_type": "display_data"
    },
    {
     "data": {
      "text/html": [
       "<pre>Read 7564 images in 25.0105 secs\tspeed: 304.733 file/sec</pre>"
      ],
      "text/plain": [
       "Read 7564 images in 25.0105 secs\tspeed: 304.733 file/sec"
      ]
     },
     "metadata": {},
     "output_type": "display_data"
    },
    {
     "data": {
      "text/html": [
       "<pre>Read 9118 images in 30.0119 secs\tspeed: 310.712 file/sec</pre>"
      ],
      "text/plain": [
       "Read 9118 images in 30.0119 secs\tspeed: 310.712 file/sec"
      ]
     },
     "metadata": {},
     "output_type": "display_data"
    },
    {
     "data": {
      "text/html": [
       "<pre>Unsupported image format. Supported formats are JPG and PNG\t file: /Users/voelunteer/Project/Kaggle/StateFarm/data/imgs/train/c0/.DS_Store</pre>"
      ],
      "text/plain": [
       "Unsupported image format. Supported formats are JPG and PNG\t file: /Users/voelunteer/Project/Kaggle/StateFarm/data/imgs/train/c0/.DS_Store"
      ]
     },
     "metadata": {},
     "output_type": "display_data"
    },
    {
     "data": {
      "text/html": [
       "<pre>Read 10584 images in 35.0187 secs\tspeed: 292.8 file/sec</pre>"
      ],
      "text/plain": [
       "Read 10584 images in 35.0187 secs\tspeed: 292.8 file/sec"
      ]
     },
     "metadata": {},
     "output_type": "display_data"
    },
    {
     "data": {
      "text/html": [
       "<pre>Read 12177 images in 40.0203 secs\tspeed: 318.499 file/sec</pre>"
      ],
      "text/plain": [
       "Read 12177 images in 40.0203 secs\tspeed: 318.499 file/sec"
      ]
     },
     "metadata": {},
     "output_type": "display_data"
    },
    {
     "data": {
      "text/html": [
       "<pre>Read 13751 images in 45.0212 secs\tspeed: 314.744 file/sec</pre>"
      ],
      "text/plain": [
       "Read 13751 images in 45.0212 secs\tspeed: 314.744 file/sec"
      ]
     },
     "metadata": {},
     "output_type": "display_data"
    },
    {
     "data": {
      "text/html": [
       "<pre>Unsupported image format. Supported formats are JPG and PNG\t file: /Users/voelunteer/Project/Kaggle/StateFarm/data/imgs/train/c1/.DS_Store</pre>"
      ],
      "text/plain": [
       "Unsupported image format. Supported formats are JPG and PNG\t file: /Users/voelunteer/Project/Kaggle/StateFarm/data/imgs/train/c1/.DS_Store"
      ]
     },
     "metadata": {},
     "output_type": "display_data"
    },
    {
     "data": {
      "text/html": [
       "<pre>Read 15224 images in 50.0237 secs\tspeed: 294.452 file/sec</pre>"
      ],
      "text/plain": [
       "Read 15224 images in 50.0237 secs\tspeed: 294.452 file/sec"
      ]
     },
     "metadata": {},
     "output_type": "display_data"
    },
    {
     "data": {
      "text/html": [
       "<pre>Read 16848 images in 55.0274 secs\tspeed: 324.562 file/sec</pre>"
      ],
      "text/plain": [
       "Read 16848 images in 55.0274 secs\tspeed: 324.562 file/sec"
      ]
     },
     "metadata": {},
     "output_type": "display_data"
    },
    {
     "data": {
      "text/html": [
       "<pre>Read 18406 images in 60.0289 secs\tspeed: 311.505 file/sec</pre>"
      ],
      "text/plain": [
       "Read 18406 images in 60.0289 secs\tspeed: 311.505 file/sec"
      ]
     },
     "metadata": {},
     "output_type": "display_data"
    },
    {
     "data": {
      "text/html": [
       "<pre>Read 20000 images in 65.0332 secs\tspeed: 318.525 file/sec</pre>"
      ],
      "text/plain": [
       "Read 20000 images in 65.0332 secs\tspeed: 318.525 file/sec"
      ]
     },
     "metadata": {},
     "output_type": "display_data"
    },
    {
     "data": {
      "text/html": [
       "<pre>Read 21591 images in 70.0336 secs\tspeed: 318.173 file/sec</pre>"
      ],
      "text/plain": [
       "Read 21591 images in 70.0336 secs\tspeed: 318.173 file/sec"
      ]
     },
     "metadata": {},
     "output_type": "display_data"
    }
   ],
   "source": [
    "#train_imgs = graphlab.image_analysis.load_images('../data/imgs/train')"
   ]
  },
  {
   "cell_type": "code",
   "execution_count": 3,
   "metadata": {
    "collapsed": false
   },
   "outputs": [
    {
     "data": {
      "text/html": [
       "<pre>Read 1597 images in 5.00085 secs\tspeed: 319.346 file/sec</pre>"
      ],
      "text/plain": [
       "Read 1597 images in 5.00085 secs\tspeed: 319.346 file/sec"
      ]
     },
     "metadata": {},
     "output_type": "display_data"
    },
    {
     "data": {
      "text/html": [
       "<pre>Read 2859 images in 10.0017 secs\tspeed: 252.357 file/sec</pre>"
      ],
      "text/plain": [
       "Read 2859 images in 10.0017 secs\tspeed: 252.357 file/sec"
      ]
     },
     "metadata": {},
     "output_type": "display_data"
    },
    {
     "data": {
      "text/html": [
       "<pre>Read 4352 images in 15.0031 secs\tspeed: 298.518 file/sec</pre>"
      ],
      "text/plain": [
       "Read 4352 images in 15.0031 secs\tspeed: 298.518 file/sec"
      ]
     },
     "metadata": {},
     "output_type": "display_data"
    },
    {
     "data": {
      "text/html": [
       "<pre>Read 5835 images in 20.0039 secs\tspeed: 296.549 file/sec</pre>"
      ],
      "text/plain": [
       "Read 5835 images in 20.0039 secs\tspeed: 296.549 file/sec"
      ]
     },
     "metadata": {},
     "output_type": "display_data"
    },
    {
     "data": {
      "text/html": [
       "<pre>Read 7215 images in 25.0054 secs\tspeed: 275.921 file/sec</pre>"
      ],
      "text/plain": [
       "Read 7215 images in 25.0054 secs\tspeed: 275.921 file/sec"
      ]
     },
     "metadata": {},
     "output_type": "display_data"
    },
    {
     "data": {
      "text/html": [
       "<pre>Read 8662 images in 30.0058 secs\tspeed: 289.374 file/sec</pre>"
      ],
      "text/plain": [
       "Read 8662 images in 30.0058 secs\tspeed: 289.374 file/sec"
      ]
     },
     "metadata": {},
     "output_type": "display_data"
    },
    {
     "data": {
      "text/html": [
       "<pre>Read 10116 images in 35.0082 secs\tspeed: 290.662 file/sec</pre>"
      ],
      "text/plain": [
       "Read 10116 images in 35.0082 secs\tspeed: 290.662 file/sec"
      ]
     },
     "metadata": {},
     "output_type": "display_data"
    },
    {
     "data": {
      "text/html": [
       "<pre>Read 11560 images in 40.0172 secs\tspeed: 288.28 file/sec</pre>"
      ],
      "text/plain": [
       "Read 11560 images in 40.0172 secs\tspeed: 288.28 file/sec"
      ]
     },
     "metadata": {},
     "output_type": "display_data"
    },
    {
     "data": {
      "text/html": [
       "<pre>Read 13009 images in 45.0176 secs\tspeed: 289.781 file/sec</pre>"
      ],
      "text/plain": [
       "Read 13009 images in 45.0176 secs\tspeed: 289.781 file/sec"
      ]
     },
     "metadata": {},
     "output_type": "display_data"
    },
    {
     "data": {
      "text/html": [
       "<pre>Read 14480 images in 50.0245 secs\tspeed: 293.794 file/sec</pre>"
      ],
      "text/plain": [
       "Read 14480 images in 50.0245 secs\tspeed: 293.794 file/sec"
      ]
     },
     "metadata": {},
     "output_type": "display_data"
    },
    {
     "data": {
      "text/html": [
       "<pre>Read 15920 images in 55.0255 secs\tspeed: 287.938 file/sec</pre>"
      ],
      "text/plain": [
       "Read 15920 images in 55.0255 secs\tspeed: 287.938 file/sec"
      ]
     },
     "metadata": {},
     "output_type": "display_data"
    },
    {
     "data": {
      "text/html": [
       "<pre>Read 17352 images in 60.0357 secs\tspeed: 285.818 file/sec</pre>"
      ],
      "text/plain": [
       "Read 17352 images in 60.0357 secs\tspeed: 285.818 file/sec"
      ]
     },
     "metadata": {},
     "output_type": "display_data"
    },
    {
     "data": {
      "text/html": [
       "<pre>Read 18808 images in 65.0365 secs\tspeed: 291.153 file/sec</pre>"
      ],
      "text/plain": [
       "Read 18808 images in 65.0365 secs\tspeed: 291.153 file/sec"
      ]
     },
     "metadata": {},
     "output_type": "display_data"
    },
    {
     "data": {
      "text/html": [
       "<pre>Read 20260 images in 70.0378 secs\tspeed: 290.326 file/sec</pre>"
      ],
      "text/plain": [
       "Read 20260 images in 70.0378 secs\tspeed: 290.326 file/sec"
      ]
     },
     "metadata": {},
     "output_type": "display_data"
    },
    {
     "data": {
      "text/html": [
       "<pre>Read 21691 images in 75.0396 secs\tspeed: 286.096 file/sec</pre>"
      ],
      "text/plain": [
       "Read 21691 images in 75.0396 secs\tspeed: 286.096 file/sec"
      ]
     },
     "metadata": {},
     "output_type": "display_data"
    },
    {
     "data": {
      "text/html": [
       "<pre>Read 23129 images in 80.0404 secs\tspeed: 287.555 file/sec</pre>"
      ],
      "text/plain": [
       "Read 23129 images in 80.0404 secs\tspeed: 287.555 file/sec"
      ]
     },
     "metadata": {},
     "output_type": "display_data"
    },
    {
     "data": {
      "text/html": [
       "<pre>Read 24512 images in 85.045 secs\tspeed: 276.346 file/sec</pre>"
      ],
      "text/plain": [
       "Read 24512 images in 85.045 secs\tspeed: 276.346 file/sec"
      ]
     },
     "metadata": {},
     "output_type": "display_data"
    },
    {
     "data": {
      "text/html": [
       "<pre>Read 25944 images in 90.0521 secs\tspeed: 285.995 file/sec</pre>"
      ],
      "text/plain": [
       "Read 25944 images in 90.0521 secs\tspeed: 285.995 file/sec"
      ]
     },
     "metadata": {},
     "output_type": "display_data"
    },
    {
     "data": {
      "text/html": [
       "<pre>Read 27400 images in 95.0578 secs\tspeed: 290.869 file/sec</pre>"
      ],
      "text/plain": [
       "Read 27400 images in 95.0578 secs\tspeed: 290.869 file/sec"
      ]
     },
     "metadata": {},
     "output_type": "display_data"
    },
    {
     "data": {
      "text/html": [
       "<pre>Read 28864 images in 100.067 secs\tspeed: 292.264 file/sec</pre>"
      ],
      "text/plain": [
       "Read 28864 images in 100.067 secs\tspeed: 292.264 file/sec"
      ]
     },
     "metadata": {},
     "output_type": "display_data"
    },
    {
     "data": {
      "text/html": [
       "<pre>Read 30330 images in 105.068 secs\tspeed: 293.13 file/sec</pre>"
      ],
      "text/plain": [
       "Read 30330 images in 105.068 secs\tspeed: 293.13 file/sec"
      ]
     },
     "metadata": {},
     "output_type": "display_data"
    },
    {
     "data": {
      "text/html": [
       "<pre>Read 31792 images in 110.077 secs\tspeed: 291.89 file/sec</pre>"
      ],
      "text/plain": [
       "Read 31792 images in 110.077 secs\tspeed: 291.89 file/sec"
      ]
     },
     "metadata": {},
     "output_type": "display_data"
    },
    {
     "data": {
      "text/html": [
       "<pre>Read 33216 images in 115.084 secs\tspeed: 284.385 file/sec</pre>"
      ],
      "text/plain": [
       "Read 33216 images in 115.084 secs\tspeed: 284.385 file/sec"
      ]
     },
     "metadata": {},
     "output_type": "display_data"
    },
    {
     "data": {
      "text/html": [
       "<pre>Read 34671 images in 120.085 secs\tspeed: 290.937 file/sec</pre>"
      ],
      "text/plain": [
       "Read 34671 images in 120.085 secs\tspeed: 290.937 file/sec"
      ]
     },
     "metadata": {},
     "output_type": "display_data"
    },
    {
     "data": {
      "text/html": [
       "<pre>Read 36128 images in 125.093 secs\tspeed: 290.973 file/sec</pre>"
      ],
      "text/plain": [
       "Read 36128 images in 125.093 secs\tspeed: 290.973 file/sec"
      ]
     },
     "metadata": {},
     "output_type": "display_data"
    },
    {
     "data": {
      "text/html": [
       "<pre>Read 37576 images in 130.1 secs\tspeed: 289.191 file/sec</pre>"
      ],
      "text/plain": [
       "Read 37576 images in 130.1 secs\tspeed: 289.191 file/sec"
      ]
     },
     "metadata": {},
     "output_type": "display_data"
    },
    {
     "data": {
      "text/html": [
       "<pre>Read 39014 images in 135.101 secs\tspeed: 287.503 file/sec</pre>"
      ],
      "text/plain": [
       "Read 39014 images in 135.101 secs\tspeed: 287.503 file/sec"
      ]
     },
     "metadata": {},
     "output_type": "display_data"
    },
    {
     "data": {
      "text/html": [
       "<pre>Read 40471 images in 140.103 secs\tspeed: 291.278 file/sec</pre>"
      ],
      "text/plain": [
       "Read 40471 images in 140.103 secs\tspeed: 291.278 file/sec"
      ]
     },
     "metadata": {},
     "output_type": "display_data"
    },
    {
     "data": {
      "text/html": [
       "<pre>Read 41908 images in 145.104 secs\tspeed: 287.35 file/sec</pre>"
      ],
      "text/plain": [
       "Read 41908 images in 145.104 secs\tspeed: 287.35 file/sec"
      ]
     },
     "metadata": {},
     "output_type": "display_data"
    },
    {
     "data": {
      "text/html": [
       "<pre>Read 43440 images in 150.113 secs\tspeed: 305.883 file/sec</pre>"
      ],
      "text/plain": [
       "Read 43440 images in 150.113 secs\tspeed: 305.883 file/sec"
      ]
     },
     "metadata": {},
     "output_type": "display_data"
    },
    {
     "data": {
      "text/html": [
       "<pre>Read 44931 images in 155.118 secs\tspeed: 297.883 file/sec</pre>"
      ],
      "text/plain": [
       "Read 44931 images in 155.118 secs\tspeed: 297.883 file/sec"
      ]
     },
     "metadata": {},
     "output_type": "display_data"
    },
    {
     "data": {
      "text/html": [
       "<pre>Read 46286 images in 160.119 secs\tspeed: 270.964 file/sec</pre>"
      ],
      "text/plain": [
       "Read 46286 images in 160.119 secs\tspeed: 270.964 file/sec"
      ]
     },
     "metadata": {},
     "output_type": "display_data"
    },
    {
     "data": {
      "text/html": [
       "<pre>Read 47753 images in 165.119 secs\tspeed: 293.374 file/sec</pre>"
      ],
      "text/plain": [
       "Read 47753 images in 165.119 secs\tspeed: 293.374 file/sec"
      ]
     },
     "metadata": {},
     "output_type": "display_data"
    },
    {
     "data": {
      "text/html": [
       "<pre>Read 49224 images in 170.129 secs\tspeed: 293.616 file/sec</pre>"
      ],
      "text/plain": [
       "Read 49224 images in 170.129 secs\tspeed: 293.616 file/sec"
      ]
     },
     "metadata": {},
     "output_type": "display_data"
    },
    {
     "data": {
      "text/html": [
       "<pre>Read 50663 images in 175.129 secs\tspeed: 287.795 file/sec</pre>"
      ],
      "text/plain": [
       "Read 50663 images in 175.129 secs\tspeed: 287.795 file/sec"
      ]
     },
     "metadata": {},
     "output_type": "display_data"
    },
    {
     "data": {
      "text/html": [
       "<pre>Read 52152 images in 180.134 secs\tspeed: 297.506 file/sec</pre>"
      ],
      "text/plain": [
       "Read 52152 images in 180.134 secs\tspeed: 297.506 file/sec"
      ]
     },
     "metadata": {},
     "output_type": "display_data"
    },
    {
     "data": {
      "text/html": [
       "<pre>Read 53656 images in 185.137 secs\tspeed: 300.61 file/sec</pre>"
      ],
      "text/plain": [
       "Read 53656 images in 185.137 secs\tspeed: 300.61 file/sec"
      ]
     },
     "metadata": {},
     "output_type": "display_data"
    },
    {
     "data": {
      "text/html": [
       "<pre>Read 55128 images in 190.14 secs\tspeed: 294.218 file/sec</pre>"
      ],
      "text/plain": [
       "Read 55128 images in 190.14 secs\tspeed: 294.218 file/sec"
      ]
     },
     "metadata": {},
     "output_type": "display_data"
    },
    {
     "data": {
      "text/html": [
       "<pre>Read 56560 images in 195.147 secs\tspeed: 286.005 file/sec</pre>"
      ],
      "text/plain": [
       "Read 56560 images in 195.147 secs\tspeed: 286.005 file/sec"
      ]
     },
     "metadata": {},
     "output_type": "display_data"
    },
    {
     "data": {
      "text/html": [
       "<pre>Read 57985 images in 200.149 secs\tspeed: 284.915 file/sec</pre>"
      ],
      "text/plain": [
       "Read 57985 images in 200.149 secs\tspeed: 284.915 file/sec"
      ]
     },
     "metadata": {},
     "output_type": "display_data"
    },
    {
     "data": {
      "text/html": [
       "<pre>Read 59392 images in 205.157 secs\tspeed: 280.962 file/sec</pre>"
      ],
      "text/plain": [
       "Read 59392 images in 205.157 secs\tspeed: 280.962 file/sec"
      ]
     },
     "metadata": {},
     "output_type": "display_data"
    },
    {
     "data": {
      "text/html": [
       "<pre>Read 60824 images in 210.17 secs\tspeed: 285.632 file/sec</pre>"
      ],
      "text/plain": [
       "Read 60824 images in 210.17 secs\tspeed: 285.632 file/sec"
      ]
     },
     "metadata": {},
     "output_type": "display_data"
    },
    {
     "data": {
      "text/html": [
       "<pre>Read 62296 images in 215.179 secs\tspeed: 293.891 file/sec</pre>"
      ],
      "text/plain": [
       "Read 62296 images in 215.179 secs\tspeed: 293.891 file/sec"
      ]
     },
     "metadata": {},
     "output_type": "display_data"
    },
    {
     "data": {
      "text/html": [
       "<pre>Read 63699 images in 220.179 secs\tspeed: 280.561 file/sec</pre>"
      ],
      "text/plain": [
       "Read 63699 images in 220.179 secs\tspeed: 280.561 file/sec"
      ]
     },
     "metadata": {},
     "output_type": "display_data"
    },
    {
     "data": {
      "text/html": [
       "<pre>Read 65144 images in 225.185 secs\tspeed: 288.678 file/sec</pre>"
      ],
      "text/plain": [
       "Read 65144 images in 225.185 secs\tspeed: 288.678 file/sec"
      ]
     },
     "metadata": {},
     "output_type": "display_data"
    },
    {
     "data": {
      "text/html": [
       "<pre>Read 66558 images in 230.185 secs\tspeed: 282.78 file/sec</pre>"
      ],
      "text/plain": [
       "Read 66558 images in 230.185 secs\tspeed: 282.78 file/sec"
      ]
     },
     "metadata": {},
     "output_type": "display_data"
    },
    {
     "data": {
      "text/html": [
       "<pre>Unsupported image format. Supported formats are JPG and PNG\t file: /Users/voelunteer/Project/Kaggle/StateFarm/data/imgs/test/.DS_Store</pre>"
      ],
      "text/plain": [
       "Unsupported image format. Supported formats are JPG and PNG\t file: /Users/voelunteer/Project/Kaggle/StateFarm/data/imgs/test/.DS_Store"
      ]
     },
     "metadata": {},
     "output_type": "display_data"
    },
    {
     "data": {
      "text/html": [
       "<pre>Read 67967 images in 235.188 secs\tspeed: 281.67 file/sec</pre>"
      ],
      "text/plain": [
       "Read 67967 images in 235.188 secs\tspeed: 281.67 file/sec"
      ]
     },
     "metadata": {},
     "output_type": "display_data"
    },
    {
     "data": {
      "text/html": [
       "<pre>Read 69433 images in 240.189 secs\tspeed: 293.097 file/sec</pre>"
      ],
      "text/plain": [
       "Read 69433 images in 240.189 secs\tspeed: 293.097 file/sec"
      ]
     },
     "metadata": {},
     "output_type": "display_data"
    },
    {
     "data": {
      "text/html": [
       "<pre>Read 70848 images in 245.2 secs\tspeed: 282.391 file/sec</pre>"
      ],
      "text/plain": [
       "Read 70848 images in 245.2 secs\tspeed: 282.391 file/sec"
      ]
     },
     "metadata": {},
     "output_type": "display_data"
    },
    {
     "data": {
      "text/html": [
       "<pre>Read 72313 images in 250.201 secs\tspeed: 292.947 file/sec</pre>"
      ],
      "text/plain": [
       "Read 72313 images in 250.201 secs\tspeed: 292.947 file/sec"
      ]
     },
     "metadata": {},
     "output_type": "display_data"
    },
    {
     "data": {
      "text/html": [
       "<pre>Read 73717 images in 255.202 secs\tspeed: 280.775 file/sec</pre>"
      ],
      "text/plain": [
       "Read 73717 images in 255.202 secs\tspeed: 280.775 file/sec"
      ]
     },
     "metadata": {},
     "output_type": "display_data"
    },
    {
     "data": {
      "text/html": [
       "<pre>Read 75166 images in 260.203 secs\tspeed: 289.729 file/sec</pre>"
      ],
      "text/plain": [
       "Read 75166 images in 260.203 secs\tspeed: 289.729 file/sec"
      ]
     },
     "metadata": {},
     "output_type": "display_data"
    },
    {
     "data": {
      "text/html": [
       "<pre>Read 76530 images in 265.205 secs\tspeed: 272.673 file/sec</pre>"
      ],
      "text/plain": [
       "Read 76530 images in 265.205 secs\tspeed: 272.673 file/sec"
      ]
     },
     "metadata": {},
     "output_type": "display_data"
    },
    {
     "data": {
      "text/html": [
       "<pre>Read 77947 images in 270.207 secs\tspeed: 283.291 file/sec</pre>"
      ],
      "text/plain": [
       "Read 77947 images in 270.207 secs\tspeed: 283.291 file/sec"
      ]
     },
     "metadata": {},
     "output_type": "display_data"
    },
    {
     "data": {
      "text/html": [
       "<pre>Read 79344 images in 275.216 secs\tspeed: 278.918 file/sec</pre>"
      ],
      "text/plain": [
       "Read 79344 images in 275.216 secs\tspeed: 278.918 file/sec"
      ]
     },
     "metadata": {},
     "output_type": "display_data"
    }
   ],
   "source": [
    "#test_imgs = graphlab.image_analysis.load_images('../data/imgs/test')"
   ]
  },
  {
   "cell_type": "code",
   "execution_count": 4,
   "metadata": {
    "collapsed": true
   },
   "outputs": [],
   "source": [
    "#train_imgs['label'] = train_imgs['path'].apply(lambda x: x.split('/')[-2]) \n",
    "#test_imgs['label'] = None"
   ]
  },
  {
   "cell_type": "code",
   "execution_count": 5,
   "metadata": {
    "collapsed": true
   },
   "outputs": [],
   "source": [
    "#train_imgs['img_name'] = train_imgs['path'].apply(lambda x: x.split('/')[-1]) \n",
    "#test_imgs['img_name'] = test_imgs['path'].apply(lambda x: x.split('/')[-1])"
   ]
  },
  {
   "cell_type": "code",
   "execution_count": 6,
   "metadata": {
    "collapsed": true
   },
   "outputs": [],
   "source": [
    "#train_imgs = train_imgs.remove_column('path')\n",
    "#test_imgs = test_imgs.remove_column('path')"
   ]
  },
  {
   "cell_type": "code",
   "execution_count": null,
   "metadata": {
    "collapsed": false
   },
   "outputs": [],
   "source": [
    "train_feature = graphlabphlab.SFrame('../output/train_imgs.csv')\n",
    "test_feature = graphlab.SFrame('../output/test_imgs.csv')"
   ]
  },
  {
   "cell_type": "code",
   "execution_count": 8,
   "metadata": {
    "collapsed": false
   },
   "outputs": [
    {
     "data": {
      "text/html": [
       "<div style=\"max-height:1000px;max-width:1500px;overflow:auto;\"><table frame=\"box\" rules=\"cols\">\n",
       "    <tr>\n",
       "        <th style=\"padding-left: 1em; padding-right: 1em; text-align: center\">path</th>\n",
       "        <th style=\"padding-left: 1em; padding-right: 1em; text-align: center\">image</th>\n",
       "        <th style=\"padding-left: 1em; padding-right: 1em; text-align: center\">label</th>\n",
       "        <th style=\"padding-left: 1em; padding-right: 1em; text-align: center\">img_name</th>\n",
       "        <th style=\"padding-left: 1em; padding-right: 1em; text-align: center\">deep_features</th>\n",
       "    </tr>\n",
       "    <tr>\n",
       "        <td style=\"padding-left: 1em; padding-right: 1em; text-align: center; vertical-align: top\">/Users/voelunteer/Project<br>/Kaggle/StateFarm/dat ...</td>\n",
       "        <td style=\"padding-left: 1em; padding-right: 1em; text-align: center; vertical-align: top\">Height: 480 Width: 640</td>\n",
       "        <td style=\"padding-left: 1em; padding-right: 1em; text-align: center; vertical-align: top\">c2</td>\n",
       "        <td style=\"padding-left: 1em; padding-right: 1em; text-align: center; vertical-align: top\">img_100246.jpg</td>\n",
       "        <td style=\"padding-left: 1em; padding-right: 1em; text-align: center; vertical-align: top\">[0.0, 3.06153, 0.0, 0.0,<br>0.0, 0.0, 0.0, 0.0, 0.0, ...</td>\n",
       "    </tr>\n",
       "    <tr>\n",
       "        <td style=\"padding-left: 1em; padding-right: 1em; text-align: center; vertical-align: top\">/Users/voelunteer/Project<br>/Kaggle/StateFarm/dat ...</td>\n",
       "        <td style=\"padding-left: 1em; padding-right: 1em; text-align: center; vertical-align: top\">Height: 480 Width: 640</td>\n",
       "        <td style=\"padding-left: 1em; padding-right: 1em; text-align: center; vertical-align: top\">c8</td>\n",
       "        <td style=\"padding-left: 1em; padding-right: 1em; text-align: center; vertical-align: top\">img_94215.jpg</td>\n",
       "        <td style=\"padding-left: 1em; padding-right: 1em; text-align: center; vertical-align: top\">[0.0, 1.78241, 0.0,<br>0.229382, 0.044082, 0.0, ...</td>\n",
       "    </tr>\n",
       "    <tr>\n",
       "        <td style=\"padding-left: 1em; padding-right: 1em; text-align: center; vertical-align: top\">/Users/voelunteer/Project<br>/Kaggle/StateFarm/dat ...</td>\n",
       "        <td style=\"padding-left: 1em; padding-right: 1em; text-align: center; vertical-align: top\">Height: 480 Width: 640</td>\n",
       "        <td style=\"padding-left: 1em; padding-right: 1em; text-align: center; vertical-align: top\">c4</td>\n",
       "        <td style=\"padding-left: 1em; padding-right: 1em; text-align: center; vertical-align: top\">img_23384.jpg</td>\n",
       "        <td style=\"padding-left: 1em; padding-right: 1em; text-align: center; vertical-align: top\">[0.0, 0.0, 0.0, 0.0, 0.0,<br>0.0, 0.0, 0.0, 0.0, ...</td>\n",
       "    </tr>\n",
       "    <tr>\n",
       "        <td style=\"padding-left: 1em; padding-right: 1em; text-align: center; vertical-align: top\">/Users/voelunteer/Project<br>/Kaggle/StateFarm/dat ...</td>\n",
       "        <td style=\"padding-left: 1em; padding-right: 1em; text-align: center; vertical-align: top\">Height: 480 Width: 640</td>\n",
       "        <td style=\"padding-left: 1em; padding-right: 1em; text-align: center; vertical-align: top\">c2</td>\n",
       "        <td style=\"padding-left: 1em; padding-right: 1em; text-align: center; vertical-align: top\">img_17030.jpg</td>\n",
       "        <td style=\"padding-left: 1em; padding-right: 1em; text-align: center; vertical-align: top\">[0.0, 0.0, 0.0, 0.0, 0.0,<br>0.225567, 0.0, 0.0, 0.0, ...</td>\n",
       "    </tr>\n",
       "    <tr>\n",
       "        <td style=\"padding-left: 1em; padding-right: 1em; text-align: center; vertical-align: top\">/Users/voelunteer/Project<br>/Kaggle/StateFarm/dat ...</td>\n",
       "        <td style=\"padding-left: 1em; padding-right: 1em; text-align: center; vertical-align: top\">Height: 480 Width: 640</td>\n",
       "        <td style=\"padding-left: 1em; padding-right: 1em; text-align: center; vertical-align: top\">c3</td>\n",
       "        <td style=\"padding-left: 1em; padding-right: 1em; text-align: center; vertical-align: top\">img_1076.jpg</td>\n",
       "        <td style=\"padding-left: 1em; padding-right: 1em; text-align: center; vertical-align: top\">[0.0, 0.0, 0.0, 0.0,<br>0.746563, 1.59016, 0.0, ...</td>\n",
       "    </tr>\n",
       "    <tr>\n",
       "        <td style=\"padding-left: 1em; padding-right: 1em; text-align: center; vertical-align: top\">/Users/voelunteer/Project<br>/Kaggle/StateFarm/dat ...</td>\n",
       "        <td style=\"padding-left: 1em; padding-right: 1em; text-align: center; vertical-align: top\">Height: 480 Width: 640</td>\n",
       "        <td style=\"padding-left: 1em; padding-right: 1em; text-align: center; vertical-align: top\">c6</td>\n",
       "        <td style=\"padding-left: 1em; padding-right: 1em; text-align: center; vertical-align: top\">img_77254.jpg</td>\n",
       "        <td style=\"padding-left: 1em; padding-right: 1em; text-align: center; vertical-align: top\">[0.0, 1.45298, 0.0, 0.0,<br>1.27615, 0.878854, 0.0, ...</td>\n",
       "    </tr>\n",
       "    <tr>\n",
       "        <td style=\"padding-left: 1em; padding-right: 1em; text-align: center; vertical-align: top\">/Users/voelunteer/Project<br>/Kaggle/StateFarm/dat ...</td>\n",
       "        <td style=\"padding-left: 1em; padding-right: 1em; text-align: center; vertical-align: top\">Height: 480 Width: 640</td>\n",
       "        <td style=\"padding-left: 1em; padding-right: 1em; text-align: center; vertical-align: top\">c5</td>\n",
       "        <td style=\"padding-left: 1em; padding-right: 1em; text-align: center; vertical-align: top\">img_11197.jpg</td>\n",
       "        <td style=\"padding-left: 1em; padding-right: 1em; text-align: center; vertical-align: top\">[0.391716, 0.0801936,<br>0.0, 0.0, 0.0, 0.850901, ...</td>\n",
       "    </tr>\n",
       "    <tr>\n",
       "        <td style=\"padding-left: 1em; padding-right: 1em; text-align: center; vertical-align: top\">/Users/voelunteer/Project<br>/Kaggle/StateFarm/dat ...</td>\n",
       "        <td style=\"padding-left: 1em; padding-right: 1em; text-align: center; vertical-align: top\">Height: 480 Width: 640</td>\n",
       "        <td style=\"padding-left: 1em; padding-right: 1em; text-align: center; vertical-align: top\">c5</td>\n",
       "        <td style=\"padding-left: 1em; padding-right: 1em; text-align: center; vertical-align: top\">img_88670.jpg</td>\n",
       "        <td style=\"padding-left: 1em; padding-right: 1em; text-align: center; vertical-align: top\">[0.0, 1.69511, 0.0, 0.0,<br>0.0, 0.0, 0.0, 0.0, 0.0, ...</td>\n",
       "    </tr>\n",
       "    <tr>\n",
       "        <td style=\"padding-left: 1em; padding-right: 1em; text-align: center; vertical-align: top\">/Users/voelunteer/Project<br>/Kaggle/StateFarm/dat ...</td>\n",
       "        <td style=\"padding-left: 1em; padding-right: 1em; text-align: center; vertical-align: top\">Height: 480 Width: 640</td>\n",
       "        <td style=\"padding-left: 1em; padding-right: 1em; text-align: center; vertical-align: top\">c5</td>\n",
       "        <td style=\"padding-left: 1em; padding-right: 1em; text-align: center; vertical-align: top\">img_22714.jpg</td>\n",
       "        <td style=\"padding-left: 1em; padding-right: 1em; text-align: center; vertical-align: top\">[0.0, 0.579239, 0.0, 0.0,<br>0.0, 0.465356, 0.0, 0.0, ...</td>\n",
       "    </tr>\n",
       "    <tr>\n",
       "        <td style=\"padding-left: 1em; padding-right: 1em; text-align: center; vertical-align: top\">/Users/voelunteer/Project<br>/Kaggle/StateFarm/dat ...</td>\n",
       "        <td style=\"padding-left: 1em; padding-right: 1em; text-align: center; vertical-align: top\">Height: 480 Width: 640</td>\n",
       "        <td style=\"padding-left: 1em; padding-right: 1em; text-align: center; vertical-align: top\">c2</td>\n",
       "        <td style=\"padding-left: 1em; padding-right: 1em; text-align: center; vertical-align: top\">img_42748.jpg</td>\n",
       "        <td style=\"padding-left: 1em; padding-right: 1em; text-align: center; vertical-align: top\">[0.0, 1.88249, 0.0, 0.0,<br>0.0, 0.57505, 0.0, 0.0, ...</td>\n",
       "    </tr>\n",
       "</table>\n",
       "[10 rows x 5 columns]<br/>\n",
       "</div>"
      ],
      "text/plain": [
       "Columns:\n",
       "\tpath\tstr\n",
       "\timage\tstr\n",
       "\tlabel\tstr\n",
       "\timg_name\tstr\n",
       "\tdeep_features\tarray\n",
       "\n",
       "Rows: 10\n",
       "\n",
       "Data:\n",
       "+-------------------------------+------------------------+-------+\n",
       "|              path             |         image          | label |\n",
       "+-------------------------------+------------------------+-------+\n",
       "| /Users/voelunteer/Project/... | Height: 480 Width: 640 |   c2  |\n",
       "| /Users/voelunteer/Project/... | Height: 480 Width: 640 |   c8  |\n",
       "| /Users/voelunteer/Project/... | Height: 480 Width: 640 |   c4  |\n",
       "| /Users/voelunteer/Project/... | Height: 480 Width: 640 |   c2  |\n",
       "| /Users/voelunteer/Project/... | Height: 480 Width: 640 |   c3  |\n",
       "| /Users/voelunteer/Project/... | Height: 480 Width: 640 |   c6  |\n",
       "| /Users/voelunteer/Project/... | Height: 480 Width: 640 |   c5  |\n",
       "| /Users/voelunteer/Project/... | Height: 480 Width: 640 |   c5  |\n",
       "| /Users/voelunteer/Project/... | Height: 480 Width: 640 |   c5  |\n",
       "| /Users/voelunteer/Project/... | Height: 480 Width: 640 |   c2  |\n",
       "+-------------------------------+------------------------+-------+\n",
       "+----------------+-------------------------------+\n",
       "|    img_name    |         deep_features         |\n",
       "+----------------+-------------------------------+\n",
       "| img_100246.jpg | [0.0, 3.06153, 0.0, 0.0, 0... |\n",
       "| img_94215.jpg  | [0.0, 1.78241, 0.0, 0.2293... |\n",
       "| img_23384.jpg  | [0.0, 0.0, 0.0, 0.0, 0.0, ... |\n",
       "| img_17030.jpg  | [0.0, 0.0, 0.0, 0.0, 0.0, ... |\n",
       "|  img_1076.jpg  | [0.0, 0.0, 0.0, 0.0, 0.746... |\n",
       "| img_77254.jpg  | [0.0, 1.45298, 0.0, 0.0, 1... |\n",
       "| img_11197.jpg  | [0.391716, 0.0801936, 0.0,... |\n",
       "| img_88670.jpg  | [0.0, 1.69511, 0.0, 0.0, 0... |\n",
       "| img_22714.jpg  | [0.0, 0.579239, 0.0, 0.0, ... |\n",
       "| img_42748.jpg  | [0.0, 1.88249, 0.0, 0.0, 0... |\n",
       "+----------------+-------------------------------+\n",
       "[10 rows x 5 columns]"
      ]
     },
     "execution_count": 8,
     "metadata": {},
     "output_type": "execute_result"
    }
   ],
   "source": [
    "train_feature.head()"
   ]
  },
  {
   "cell_type": "code",
   "execution_count": null,
   "metadata": {
    "collapsed": false
   },
   "outputs": [],
   "source": [
    "logistic_model = graphlab.logistic_classifier.create(train_feature, target='label', features=['deep_features'], max_iterations=35)"
   ]
  },
  {
   "cell_type": "code",
   "execution_count": null,
   "metadata": {
    "collapsed": true
   },
   "outputs": [],
   "source": []
  }
 ],
 "metadata": {
  "kernelspec": {
   "display_name": "Python 2",
   "language": "python",
   "name": "python2"
  },
  "language_info": {
   "codemirror_mode": {
    "name": "ipython",
    "version": 2
   },
   "file_extension": ".py",
   "mimetype": "text/x-python",
   "name": "python",
   "nbconvert_exporter": "python",
   "pygments_lexer": "ipython2",
   "version": "2.7.11"
  }
 },
 "nbformat": 4,
 "nbformat_minor": 0
}
