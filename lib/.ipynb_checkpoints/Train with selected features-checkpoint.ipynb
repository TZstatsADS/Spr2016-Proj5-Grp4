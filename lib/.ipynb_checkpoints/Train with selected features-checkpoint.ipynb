{
 "cells": [
  {
   "cell_type": "code",
   "execution_count": 1,
   "metadata": {
    "collapsed": true
   },
   "outputs": [],
   "source": [
    "import graphlab\n",
    "import pandas as pd"
   ]
  },
  {
   "cell_type": "code",
   "execution_count": 2,
   "metadata": {
    "collapsed": false
   },
   "outputs": [
    {
     "name": "stderr",
     "output_type": "stream",
     "text": [
      "2016-04-23 20:43:33,373 [INFO] graphlab.cython.cy_server, 176: GraphLab Create v1.8.5 started. Logging: /tmp/graphlab_server_1461458611.log\n"
     ]
    },
    {
     "name": "stdout",
     "output_type": "stream",
     "text": [
      "This non-commercial license of GraphLab Create is assigned to voelunteer@gmail.com and will expire on December 23, 2016. For commercial licensing options, visit https://dato.com/buy/.\n"
     ]
    },
    {
     "data": {
      "text/html": [
       "<pre>Finished parsing file /Users/voelunteer/Project/Kaggle/StateFarm/output/feature_select.csv</pre>"
      ],
      "text/plain": [
       "Finished parsing file /Users/voelunteer/Project/Kaggle/StateFarm/output/feature_select.csv"
      ]
     },
     "metadata": {},
     "output_type": "display_data"
    },
    {
     "data": {
      "text/html": [
       "<pre>Parsing completed. Parsed 100 lines in 0.04816 secs.</pre>"
      ],
      "text/plain": [
       "Parsing completed. Parsed 100 lines in 0.04816 secs."
      ]
     },
     "metadata": {},
     "output_type": "display_data"
    },
    {
     "name": "stdout",
     "output_type": "stream",
     "text": [
      "------------------------------------------------------\n",
      "Inferred types from first line of file as \n",
      "column_type_hints=[int,str,float]\n",
      "If parsing fails due to incorrect types, you can correct\n",
      "the inferred type list above and pass it to read_csv in\n",
      "the column_type_hints argument\n",
      "------------------------------------------------------\n"
     ]
    },
    {
     "data": {
      "text/html": [
       "<pre>Finished parsing file /Users/voelunteer/Project/Kaggle/StateFarm/output/feature_select.csv</pre>"
      ],
      "text/plain": [
       "Finished parsing file /Users/voelunteer/Project/Kaggle/StateFarm/output/feature_select.csv"
      ]
     },
     "metadata": {},
     "output_type": "display_data"
    },
    {
     "data": {
      "text/html": [
       "<pre>Parsing completed. Parsed 593 lines in 0.018759 secs.</pre>"
      ],
      "text/plain": [
       "Parsing completed. Parsed 593 lines in 0.018759 secs."
      ]
     },
     "metadata": {},
     "output_type": "display_data"
    }
   ],
   "source": [
    "select_features = graphlab.SFrame('../output/feature_select.csv')"
   ]
  },
  {
   "cell_type": "code",
   "execution_count": 3,
   "metadata": {
    "collapsed": false
   },
   "outputs": [
    {
     "data": {
      "text/html": [
       "<pre>Finished parsing file /Users/voelunteer/Project/Kaggle/StateFarm/output/train_imgs_unpack.csv</pre>"
      ],
      "text/plain": [
       "Finished parsing file /Users/voelunteer/Project/Kaggle/StateFarm/output/train_imgs_unpack.csv"
      ]
     },
     "metadata": {},
     "output_type": "display_data"
    },
    {
     "data": {
      "text/html": [
       "<pre>Parsing completed. Parsed 100 lines in 1.98909 secs.</pre>"
      ],
      "text/plain": [
       "Parsing completed. Parsed 100 lines in 1.98909 secs."
      ]
     },
     "metadata": {},
     "output_type": "display_data"
    },
    {
     "name": "stdout",
     "output_type": "stream",
     "text": [
      "------------------------------------------------------\n",
      "Inferred types from first line of file as \n",
      "column_type_hints=[str,str,str,str,float,float,float,float,float,float,int,float,float,float,float,float,int,float,float,float,float,float,float,float,int,float,float,float,float,float,float,float,float,float,float,int,float,float,float,float,float,float,float,float,int,float,float,int,float,float,float,float,float,float,int,float,float,float,float,int,float,float,float,float,float,float,int,float,float,float,int,float,float,float,int,float,float,float,float,float,float,float,float,float,float,float,float,float,float,float,float,float,float,float,int,float,float,float,float,float,float,int,float,float,float,float,float,float,float,float,float,float,float,float,float,float,float,float,float,float,float,float,float,float,float,float,float,float,float,float,float,float,int,float,float,float,float,float,float,float,float,float,float,float,float,float,float,float,float,float,float,float,float,float,float,float,float,float,float,float,int,float,float,float,float,float,float,float,float,float,float,float,float,float,float,float,float,float,int,float,float,float,int,int,float,float,float,float,float,float,float,float,float,float,float,float,float,float,float,float,float,float,float,float,int,float,float,float,float,int,float,float,float,float,float,float,float,float,float,float,float,float,float,float,int,float,float,float,float,float,float,float,float,float,float,float,float,float,float,float,float,float,float,float,float,float,int,float,float,float,float,float,float,float,float,float,float,float,float,float,float,float,float,float,float,float,float,float,float,float,float,float,float,float,float,float,float,float,float,int,float,float,int,float,float,float,int,int,float,float,float,float,float,int,float,float,float,int,float,float,float,float,float,float,float,float,float,float,float,float,float,float,float,float,float,float,float,int,float,float,float,float,int,int,float,float,float,float,float,float,float,float,float,float,float,float,int,float,float,float,float,float,int,float,int,float,float,float,float,float,float,int,float,float,float,float,int,int,float,float,float,float,float,int,float,float,float,float,int,float,float,float,float,float,int,float,float,int,float,float,float,int,float,int,float,float,float,float,float,float,int,float,float,float,float,float,float,float,float,float,float,float,float,float,float,float,float,float,float,float,float,float,float,float,float,float,float,float,float,float,float,float,float,float,float,float,float,float,float,float,float,float,float,float,int,float,float,float,float,float,float,float,float,float,float,float,float,float,float,float,float,float,float,float,float,int,float,float,float,float,float,float,float,float,float,float,float,float,float,float,float,float,float,float,int,float,int,float,float,float,float,float,float,float,float,float,float,float,float,float,float,float,float,int,float,float,float,float,float,float,float,float,float,float,float,float,float,int,float,float,float,float,float,float,float,int,float,float,float,float,float,float,float,float,float,float,float,float,float,float,float,int,float,float,float,float,float,float,float,float,int,float,int,float,float,int,float,float,float,float,float,float,float,float,float,float,float,float,float,float,float,float,float,float,float,float,float,float,float,float,float,float,float,float,float,float,float,float,float,float,float,float,float,float,float,float,float,float,float,float,float,float,float,int,float,float,float,float,int,float,float,int,float,float,float,float,float,float,int,float,int,float,float,float,float,float,float,float,float,float,float,float,int,float,float,float,float,float,float,float,float,float,float,float,float,float,float,float,float,int,float,int,float,float,float,float,float,int,float,float,float,float,float,float,float,float,float,float,float,float,float,float,float,float,float,float,float,float,float,float,float,float,float,int,float,float,float,float,float,float,float,float,float,float,float,float,float,float,float,float,int,float,float,float,float,float,float,float,float,int,float,float,float,float,int,int,float,float,float,float,float,float,float,float,int,float,float,float,float,float,float,float,float,float,float,float,float,float,float,float,float,float,float,float,float,float,float,float,float,float,float,float,float,float,float,int,float,int,float,float,float,float,float,float,int,float,float,float,float,float,float,float,float,float,float,float,float,int,int,float,float,float,float,float,float,int,int,float,float,float,int,float,float,float,float,int,float,float,float,float,float,float,float,float,float,float,float,float,float,float,float,float,float,float,float,float,float,float,float,float,float,float,float,float,float,float,float,float,float,float,float,float,float,float,float,float,float,float,float,float,float,float,float,int,int,float,float,float,float,float,int,float,float,float,float,int,float,float,float,float,float,float,float,float,float,float,float,float,float,float,float,int,float,float,float,float,float,int,float,float,float,float,float,float,float,float,float,float,float,int,float,float,float,float,float,float,float,float,float,float,float,int,float,float,float,float,float,float,float,float,float,float,float,float,float,float,int,float,float,float,float,float,float,float,float,float,float,float,float,float,float,float,float,float,float,float,int,float,float,float,int,float,int,float,float,float,float,float,float,float,float,float,float,float,float,float,float,float,float,float,float,float,float,float,float,float,float,float,float,int,float,float,float,float,float,int,float,float,float,float,float,float,float,int,float,float,float,float,float,int,float,float,float,float,float,float,float,float,float,float,float,float,float,float,float,float,float,float,float,float,int,float,float,float,float,float,float,float,float,float,float,float,float,float,float,float,float,float,int,float,float,float,float,int,float,float,float,float,float,float,float,float,float,float,int,float,float,float,float,float,float,float,float,float,int,float,float,float,float,float,float,float,float,float,float,float,float,float,int,float,float,float,float,float,float,float,float,float,float,float,float,float,float,float,float,float,int,float,float,float,float,float,float,float,float,float,int,int,float,float,float,float,float,float,float,float,float,float,float,float,float,float,float,float,int,float,float,float,float,float,float,int,float,int,float,float,float,float,float,float,float,float,float,float,float,float,int,float,float,float,float,int,float,int,float,float,float,float,float,float,float,float,float,float,float,float,float,float,float,float,float,float,float,float,float,float,float,float,float,float,float,float,float,float,float,float,float,float,float,float,int,float,float,float,float,float,float,float,float,float,float,float,float,float,float,float,float,int,float,float,float,float,float,float,float,float,float,float,float,float,float,float,int,int,float,float,float,float,float,float,float,float,float,float,float,float,float,int,float,float,float,float,float,float,int,float,float,float,float,float,float,float,float,float,int,float,float,float,float,float,float,float,float,float,float,int,float,float,float,float,float,float,float,int,float,int,float,float,float,float,float,float,float,float,float,float,float,float,float,int,float,float,float,float,float,float,float,int,float,float,float,float,float,float,float,float,float,float,float,float,float,float,float,float,int,float,int,float,float,float,float,float,int,float,float,float,float,float,float,int,float,float,float,float,float,float,int,float,float,float,float,float,float,float,float,float,float,float,float,float,int,float,float,float,float,float,float,float,float,float,float,float,int,float,float,float,float,float,float,float,float,float,float,float,float,float,float,float,float,float,int,float,float,float,float,float,float,int,float,float,float,float,float,float,float,float,float,float,int,float,float,float,float,float,float,int,float,int,float,float,float,float,float,float,float,float,float,int,float,float,float,float,float,float,float,float,float,float,float,float,float,float,float,float,float,float,float,float,int,int,float,float,float,float,float,float,float,float,float,float,float,float,float,float,float,float,float,float,float,float,float,float,float,float,float,float,float,float,float,float,float,float,float,float,int,float,float,float,float,float,float,float,float,float,float,float,float,float,float,float,float,float,float,float,float,float,float,float,float,int,float,float,float,float,float,float,float,float,float,float,float,float,float,float,float,float,float,float,float,float,float,float,float,float,float,float,int,float,float,float,float,float,float,float,float,float,float,float,float,float,float,float,float,float,int,float,float,float,float,float,float,float,float,float,float,float,float,float,float,float,float,float,float,float,float,float,float,float,float,float,float,float,float,float,float,float,float,float,float,float,float,float,float,float,float,float,float,float,float,float,float,float,int,float,float,float,float,int,float,float,float,int,float,float,float,float,float,float,float,float,int,float,float,float,float,float,float,float,float,float,float,float,float,float,float,float,float,float,float,float,float,float,float,float,int,float,float,float,float,float,float,float,float,int,float,float,float,float,float,float,float,float,float,float,float,float,float,float,float,float,float,float,float,float,float,float,float,float,float,float,float,float,float,float,int,float,float,float,float,float,float,float,float,float,float,float,float,float,float,float,int,int,float,int,int,float,float,float,float,float,float,float,float,float,float,float,float,float,float,float,float,int,float,float,float,float,float,int,float,float,float,float,float,float,float,float,float,float,float,float,float,float,float,float,float,float,float,float,float,float,float,float,float,float,int,float,float,float,float,float,int,float,float,float,float,float,float,float,float,float,float,float,float,float,float,float,int,float,float,float,float,float,float,float,float,float,float,float,int,float,float,float,float,float,float,float,float,float,float,float,float,float,float,float,float,float,float,float,float,float,float,float,float,float,float,float,float,float,float,float,int,float,float,float,float,float,float,int,float,float,float,float,float,int,float,float,float,float,int,float,float,float,float,float,float,float,float,float,float,float,float,float,float,float,float,float,float,float,float,float,float,float,float,float,float,float,float,float,float,int,int,float,float,float,float,float,float,float,float,float,float,float,int,float,float,float,float,float,float,float,float,int,float,int,float,float,float,float,float,float,float,float,float,float,float,float,float,float,float,float,float,float,int,float,float,float,float,float,float,int,float,float,float,float,float,float,float,float,float,float,float,float,float,int,float,float,float,float,int,float,float,float,float,float,float,float,float,float,float,float,float,float,float,float,float,float,float,float,float,float,float,float,float,float,float,float,float,float,float,float,float,float,float,float,float,float,int,float,float,float,float,float,int,int,float,float,float,float,float,float,float,float,float,float,float,float,float,float,float,float,float,float,float,float,float,float,float,float,float,int,float,float,float,float,float,int,float,float,float,float,float,float,float,float,float,float,float,float,float,float,float,float,float,float,int,float,float,float,float,float,float,int,float,float,int,float,float,float,float,int,float,int,float,float,float,float,float,float,float,float,float,float,int,float,float,float,float,float,float,float,float,float,float,float,int,float,float,float,float,float,float,float,float,float,float,float,float,float,float,float,int,float,float,float,float,float,float,float,float,float,float,float,float,float,float,int,float,float,float,int,float,int,float,float,float,float,int,float,float,int,float,float,int,float,float,float,float,float,float,float,float,float,float,float,float,float,float,float,float,float,float,float,float,float,float,int,float,float,float,float,int,float,float,float,float,int,float,int,float,int,float,int,float,float,float,float,float,float,float,float,int,float,float,float,float,float,float,float,float,float,float,float,float,float,float,float,int,float,float,float,float,float,float,float,float,float,float,float,float,float,float,float,float,float,float,float,float,float,float,float,float,float,float,float,float,float,float,float,float,float,float,float,float,float,int,float,float,float,float,float,float,float,float,float,float,float,int,float,float,float,float,float,float,float,int,float,float,float,float,float,float,float,float,float,float,float,float,int,float,float,float,float,float,float,float,float,float,int,float,int,int,float,float,float,float,float,float,float,float,float,float,int,float,float,int,float,float,float,float,float,float,float,float,float,float,float,float,float,float,float,float,float,float,float,float,float,float,float,float,int,float,float,int,float,int,float,float,float,float,float,float,float,float,float,float,float,float,float,float,int,float,float,float,float,float,float,float,float,float,float,float,float,float,float,float,float,float,float,float,float,float,int,float,float,int,float,float,float,float,float,float,float,float,int,float,float,float,float,float,float,float,float,float,float,float,float,float,float,int,float,float,float,float,float,float,int,float,float,float,float,float,int,float,int,float,float,float,float,float,float,float,float,float,float,float,float,float,float,float,float,float,float,float,float,float,float,float,float,float,int,float,int,float,float,float,float,float,float,float,float,float,float,float,float,float,float,float,float,float,float,float,float,float,float,float,float,float,float,int,float,float,int,float,float,float,float,float,float,float,float,float,float,float,float,float,int,float,float,float,float,float,int,float,float,float,float,float,float,float,float,float,float,float,float,float,int,float,float,float,float,int,float,float,float,float,int,float,float,float,float,float,float,int,float,float,int,float,float,int,float,float,float,int,float,int,float,float,float,float,float,float,float,float,float,float,float,float,float,float,int,float,float,float,float,float,float,float,float,float,float,float,float,float,float,float,float,float,int,float,float,float,float,float,float,float,float,float,float,float,float,float,float,float,float,float,float,float,float,int,float,float,int,float,float,float,float,float,float,float,float,float,float,float,float,float,float,float,float,int,float,float,float,float,float,float,float,float,float,float,float,int,float,float,float,float,float,float,float,float,float,float,float,float,float,float,float,float,float,float,float,float,float,float,float,float,float,float,float,float,float,float,float,float,float,float,float,float,float,float,float,int,float,float,float,float,float,float,float,float,float,float,float,float,float,float,float,float,float,float,float,float,float,float,float,float,float,float,float,float,float,float,int,float,float,float,int,float,float,float,float,float,float,float,float,float,float,float,float,float,float,float,int,float,float,float,float,float,int,float,float,float,float,float,float,float,float,float,float,float,float,int,float,float,float,float,int,float,float,float,float,float,float,int,float,float,float,float,float,float,int,float,float,float,int,float,float,float,float,float,int,int,float,float,int,float,float,int,float,float,float,float,float,float,float,float,float,float,float,float,float,float,float,float,float,float,float,float,float,float,float,float,float,float,float,float,float,float,float,float,float,float,float,float,float,float,float,float,float,float,float,float,float,float,float,float,float,float,float,float,float,float,float,float,float,float,float,float,float,float,float,float,float,float,float,float,float,float,float,float,float,float,float,float,float,float,float,float,float,float,float,float,float,float,float,float,float,float,float,float,float,float,float,float,float,int,float,float,float,float,float,float,float,int,float,float,float,float,float,float,float,float,float,float,float,float,float,float,float,int,float,float,float,float,float,float,float,float,float,float,int,float,float,float,float,float,float,float,float,float,float,float,float,float,float,int,float,float,float,float,float,float,float,float,float,float,float,float,float,float,float,float,float,float,float,float,float,float,int,float,float,float,float,float,float,float,float,float,float,float,int,float,float,float,float,float,float,float,float,float,float,float,float,float,float,float,float,float,float,float,float,float,float,float,float,float,float,float,float,float,float,float,float,float,float,float,float,float,float,float,float,float,float,float,float,float,float,float,float,float,float,float,int,float,float,int,float,float,float,float,float,float,float,float,float,float,int,float,float,float,int,float,float,float,float,float,float,int,float,float,float,float,float,float,float,int,float,int,float,int,float,float,float,float,float,float,float,float,float,float,float,float,int,float,float,float,int,float,float,float,float,float,float,float,float,float,float,float,float,float,float,float,float,float,float,float,float,float,float,float,float,float,float,float,float,float,float,int,float,float,float,float,int,float,float,float,float,float,float,float,float,float,float,float,float,float,float,float,float,float,float,float,float,float,float,int,float,float,float,int,float,float,float,float,int,float,float,float,float,float,float,float,float,float,float,float,float,float,float,float,float,float,float,float,float,float,float,float,float,float,float,float,float,int,float,float,int,float,float,float,float,float,float,float,float,float,float,float,float,float,float,float,float,float,float,float,float,float,float,float,float,float,float,float,int,float,float,float,float,int,float,float,float,int,int,float,float,float,float,float,float,float,float,float,float,float,float,float,float,float,float,float,float,int,float,float,float,float,float,float,float,int,float,float,float,int,float,float,float,float,float,float,float,float,float,float,float,float,float,float,float,float,float,int,float,float,float,float,float,float,float,float,float,float,float,int,float,float,float,float,float,float,float,float,float,float,float,float,float,int,int,float,int,float,float,float,int,float,float,float,float,float,float,float,float,float,float,float,float,float,float,float,float,float,float,float,int,float,float,float,float,float,float,float,int,float,float,float,float,float,float,float,float,int,float,float,float,float,float,float,float,float,float,float,float,float,float,float,float,float,float,float,int,float,float,float,float,float,float,float,float,float,int,float,float,float,float,float,float,float,float,int,float,float,float,float,float,int,float,float,float,float,float,float,int,float,float,float,float,float,float,float,float,float,float,float,float,float,float,int,float,float,float,float,float,float,float,float,float,float,float,float,float,float,float,float,float,float,float,float,float,float,float,float,float,float,float,float,float,int,float,float,float,float,float,float,float,float,int,float,int,int,float,float,float,float,float,float,int,float,float,float,float,float,float,float,float,float,int,float,float,float,float,float,int,float,float,float,float,float,float,float,float,float,float,float,float,float,float,float,float,float,int,float,float,float,float,float,float,int,float,float,float,float,float,int,float,float,float,float,float,int,float,int,float,float,float,float,float,float,float,float,float,float,float,float,float,int,float,float,float,float,float,float,float,float,float,float,float,float,int,float,float,float,int,float,float,float,int,float,float,float,float,float,float,float,float,float,float,float,float,float,float,float,float,float,float,float,float,float,float,float,float,float,float,float,float,float,float,float,float,int,int,float,int,float,float,int,float,float,float,float,float,float,float,float,float,float,float,float,float,int,float,float,int,float,float,float,float,float,float,float,float,float,float,float,float,float,float,float,float,float,float,float,float,float,float,float,float,float,float,float,float,float,float,float,float,float,float,float,float,float,float,float,int,float,float,float,float,float,float,float,float,float,int,float,float,float,float,float,float,float,float,float,float,float,float,float,float,float,int,float,float,float,float,int,float,float,float,float,float,float,float,float,float,float,float,float,float,float,float,float,float,float,int,float,float,float,float,float,float,float,float,float,float,float,float,float,float,float,int,float,float,float,float,float,float,float,float,float,float,float,float,float,float,float,float,float,float,float,float,float,float,float,float,float,float,float,float,int,float,float,float,int,float,float,int,float,float,float,float,float,float,float,float,float,float,float,float,float,float,float,float,float,float,float,float,float,float,float,float,float,float,float,float,float,float,float,float,float,float,float,float,int,float,float,float,float,float,float,float,float,float,float,float,float,int,int,float,float,int,float,int,float,float,float,float,float,float,float,float,float,float,int,float,float,float,float,float,float,float,float,float,float,float,float,int,float,float,float,float,float,float,float,float,float,float,float,float,float,float,float,float,float,int,float,float,float,float,float,float,float,float,float,float,float,float,int,float,float,float,int,float,float,float,float,float,int,float,int,float,int,float,float,float,int,float,float,float,float,float,float,float,float,float,float,float,float,float,float,float,float,float,float,float,float,float,float,float,float,float,float,float,float,float,float,float,float,float,float,float,float,float,float,float,float,float,float,float,int,float,float,float,float,float,float,float,int,int,float,float,float,int,float,float,int,float,float,float,float,int,float,float,float,float,float,float,float,float,float,float,float,float,float,float,float,float,float,float,float,float,float,float,float,float,float,float,float,int,float,float,float,float,float,float,int,float,float,int,float,float,float,float,float,float,float,float,float,float,int,float,float,float,float,int,int,float,int,float,float,float,float,float,int,float,float,float,float,float,float,float,float,float,float,float,float,float,float,float,int,float,float,float,float,float,float,float,float,float,float,float,float,float,int,float,float,float,float,int,float,float,float,float,float,float,int,float,float,float,float,float,float,float,float,float,float,float,float,float,float,float,float,float,float,float,int,float,float,float,float,float,float,int,float,float,float,float,float,float,float,float,int,float,float,float,float,float,int,float,float,float,float,float,float,float,float,float,float,float,int,float,int,float,float,float,float,float,float,float,float,float,float,float,float,float,float,float,float,float,float,int,float,float,float,float,float,float,float,float,float,float,float,float,float,float,int,float,float,float,float,float,float,float,int,float,float,float,float,float,float,float,float,float,float,float,float,int,float,float,float,float,float,float,float,float,float,float,float,float,float,float,float,int,float,float,float,float,float,float,float,float]\n",
      "If parsing fails due to incorrect types, you can correct\n",
      "the inferred type list above and pass it to read_csv in\n",
      "the column_type_hints argument\n",
      "------------------------------------------------------\n"
     ]
    },
    {
     "data": {
      "text/html": [
       "<pre>Read 3258 lines. Lines per second: 917.634</pre>"
      ],
      "text/plain": [
       "Read 3258 lines. Lines per second: 917.634"
      ]
     },
     "metadata": {},
     "output_type": "display_data"
    },
    {
     "data": {
      "text/html": [
       "<pre>Read 9781 lines. Lines per second: 812.516</pre>"
      ],
      "text/plain": [
       "Read 9781 lines. Lines per second: 812.516"
      ]
     },
     "metadata": {},
     "output_type": "display_data"
    },
    {
     "data": {
      "text/html": [
       "<pre>Read 19571 lines. Lines per second: 967.934</pre>"
      ],
      "text/plain": [
       "Read 19571 lines. Lines per second: 967.934"
      ]
     },
     "metadata": {},
     "output_type": "display_data"
    },
    {
     "data": {
      "text/html": [
       "<pre>Finished parsing file /Users/voelunteer/Project/Kaggle/StateFarm/output/train_imgs_unpack.csv</pre>"
      ],
      "text/plain": [
       "Finished parsing file /Users/voelunteer/Project/Kaggle/StateFarm/output/train_imgs_unpack.csv"
      ]
     },
     "metadata": {},
     "output_type": "display_data"
    },
    {
     "data": {
      "text/html": [
       "<pre>Parsing completed. Parsed 22424 lines in 20.8567 secs.</pre>"
      ],
      "text/plain": [
       "Parsing completed. Parsed 22424 lines in 20.8567 secs."
      ]
     },
     "metadata": {},
     "output_type": "display_data"
    }
   ],
   "source": [
    "train_imgs = graphlab.SFrame('../output/train_imgs_unpack.csv')"
   ]
  },
  {
   "cell_type": "code",
   "execution_count": 4,
   "metadata": {
    "collapsed": false,
    "scrolled": false
   },
   "outputs": [],
   "source": [
    "# test_imgs = graphlab.SFrame('../output/test_imgs_unpack.csv')"
   ]
  },
  {
   "cell_type": "code",
   "execution_count": 5,
   "metadata": {
    "collapsed": false
   },
   "outputs": [],
   "source": [
    "features = list(select_features['feature']) + ['label', 'img_name']"
   ]
  },
  {
   "cell_type": "code",
   "execution_count": 6,
   "metadata": {
    "collapsed": true
   },
   "outputs": [],
   "source": [
    "train_imgs = train_imgs.select_columns(features)"
   ]
  },
  {
   "cell_type": "code",
   "execution_count": 7,
   "metadata": {
    "collapsed": true
   },
   "outputs": [],
   "source": [
    "# test_imgs = test_imgs.select_columns(features)"
   ]
  },
  {
   "cell_type": "code",
   "execution_count": 8,
   "metadata": {
    "collapsed": false
   },
   "outputs": [],
   "source": [
    "#train_imgs"
   ]
  },
  {
   "cell_type": "code",
   "execution_count": 9,
   "metadata": {
    "collapsed": false
   },
   "outputs": [],
   "source": [
    "# test_imgs"
   ]
  },
  {
   "cell_type": "code",
   "execution_count": 10,
   "metadata": {
    "collapsed": true
   },
   "outputs": [],
   "source": [
    "# train_imgs.save('../output/train_imgs_selected_features.csv')"
   ]
  },
  {
   "cell_type": "code",
   "execution_count": 11,
   "metadata": {
    "collapsed": true
   },
   "outputs": [],
   "source": [
    "# test_imgs.save('../output/test_imgs_selected_features.csv')"
   ]
  },
  {
   "cell_type": "code",
   "execution_count": 12,
   "metadata": {
    "collapsed": false
   },
   "outputs": [],
   "source": [
    "# produce dummy variable\n",
    "c0_list = []\n",
    "c1_list = []\n",
    "c2_list = []\n",
    "c3_list = []\n",
    "c4_list = []\n",
    "c5_list = []\n",
    "c6_list = []\n",
    "c7_list = []\n",
    "c8_list = []\n",
    "c9_list = []\n",
    "for label in train_imgs['label']:\n",
    "    if label == 'c0':\n",
    "        c0_list.append(1)\n",
    "        c1_list.append(0)\n",
    "        c2_list.append(0)\n",
    "        c3_list.append(0)\n",
    "        c4_list.append(0)\n",
    "        c5_list.append(0)        \n",
    "        c6_list.append(0)\n",
    "        c7_list.append(0)\n",
    "        c8_list.append(0)     \n",
    "        c9_list.append(0)\n",
    "    elif label == 'c1':\n",
    "        c0_list.append(0)\n",
    "        c1_list.append(1)\n",
    "        c2_list.append(0)\n",
    "        c3_list.append(0)\n",
    "        c4_list.append(0)\n",
    "        c5_list.append(0)        \n",
    "        c6_list.append(0)\n",
    "        c7_list.append(0)\n",
    "        c8_list.append(0)     \n",
    "        c9_list.append(0)\n",
    "    elif label == 'c2':\n",
    "        c0_list.append(0)\n",
    "        c1_list.append(0)\n",
    "        c2_list.append(1)\n",
    "        c3_list.append(0)\n",
    "        c4_list.append(0)\n",
    "        c5_list.append(0)        \n",
    "        c6_list.append(0)\n",
    "        c7_list.append(0)\n",
    "        c8_list.append(0)     \n",
    "        c9_list.append(0)\n",
    "    elif label == 'c3':\n",
    "        c0_list.append(0)\n",
    "        c1_list.append(0)\n",
    "        c2_list.append(0)\n",
    "        c3_list.append(1)\n",
    "        c4_list.append(0)\n",
    "        c5_list.append(0)        \n",
    "        c6_list.append(0)\n",
    "        c7_list.append(0)\n",
    "        c8_list.append(0)     \n",
    "        c9_list.append(0)\n",
    "    elif label == 'c4':\n",
    "        c0_list.append(0)\n",
    "        c1_list.append(0)\n",
    "        c2_list.append(0)\n",
    "        c3_list.append(0)\n",
    "        c4_list.append(1)\n",
    "        c5_list.append(0)        \n",
    "        c6_list.append(0)\n",
    "        c7_list.append(0)\n",
    "        c8_list.append(0)     \n",
    "        c9_list.append(0)\n",
    "    elif label == 'c5':\n",
    "        c0_list.append(0)\n",
    "        c1_list.append(0)\n",
    "        c2_list.append(0)\n",
    "        c3_list.append(0)\n",
    "        c4_list.append(0)\n",
    "        c5_list.append(1)        \n",
    "        c6_list.append(0)\n",
    "        c7_list.append(0)\n",
    "        c8_list.append(0)     \n",
    "        c9_list.append(0)\n",
    "    elif label == 'c6':\n",
    "        c0_list.append(0)\n",
    "        c1_list.append(0)\n",
    "        c2_list.append(0)\n",
    "        c3_list.append(0)\n",
    "        c4_list.append(0)\n",
    "        c5_list.append(0)        \n",
    "        c6_list.append(1)\n",
    "        c7_list.append(0)\n",
    "        c8_list.append(0)     \n",
    "        c9_list.append(0)\n",
    "    elif label == 'c7':\n",
    "        c0_list.append(0)\n",
    "        c1_list.append(0)\n",
    "        c2_list.append(0)\n",
    "        c3_list.append(0)\n",
    "        c4_list.append(0)\n",
    "        c5_list.append(0)        \n",
    "        c6_list.append(0)\n",
    "        c7_list.append(1)\n",
    "        c8_list.append(0)     \n",
    "        c9_list.append(0)\n",
    "    elif label == 'c8':\n",
    "        c0_list.append(0)\n",
    "        c1_list.append(0)\n",
    "        c2_list.append(0)\n",
    "        c3_list.append(0)\n",
    "        c4_list.append(0)\n",
    "        c5_list.append(0)        \n",
    "        c6_list.append(0)\n",
    "        c7_list.append(0)\n",
    "        c8_list.append(1)     \n",
    "        c9_list.append(0)\n",
    "    elif label == 'c9':\n",
    "        c0_list.append(0)\n",
    "        c1_list.append(0)\n",
    "        c2_list.append(0)\n",
    "        c3_list.append(0)\n",
    "        c4_list.append(0)\n",
    "        c5_list.append(0)        \n",
    "        c6_list.append(0)\n",
    "        c7_list.append(0)\n",
    "        c8_list.append(0)     \n",
    "        c9_list.append(1)\n",
    "    else:\n",
    "        print 'error'"
   ]
  },
  {
   "cell_type": "code",
   "execution_count": 13,
   "metadata": {
    "collapsed": false
   },
   "outputs": [],
   "source": [
    "dummy_variable_sf = graphlab.SFrame({'c0':c0_list, 'c1':c1_list, 'c2':c2_list, 'c3':c3_list, 'c4':c4_list, 'c5':c5_list,\n",
    "                                    'c6':c6_list, 'c7':c7_list, 'c8':c8_list, 'c9':c9_list})"
   ]
  },
  {
   "cell_type": "code",
   "execution_count": 14,
   "metadata": {
    "collapsed": false
   },
   "outputs": [],
   "source": [
    "train_imgs_df = train_imgs.add_columns(dummy_variable_sf)"
   ]
  },
  {
   "cell_type": "code",
   "execution_count": 15,
   "metadata": {
    "collapsed": true
   },
   "outputs": [],
   "source": [
    "train_features = list(select_features['feature'])"
   ]
  },
  {
   "cell_type": "code",
   "execution_count": 34,
   "metadata": {
    "collapsed": false
   },
   "outputs": [
    {
     "name": "stdout",
     "output_type": "stream",
     "text": [
      "PROGRESS: Creating a validation set from 5 percent of training data. This may take a while.\n",
      "          You can set ``validation_set=None`` to disable validation tracking.\n",
      "\n"
     ]
    },
    {
     "data": {
      "text/html": [
       "<pre>Boosted trees classifier:</pre>"
      ],
      "text/plain": [
       "Boosted trees classifier:"
      ]
     },
     "metadata": {},
     "output_type": "display_data"
    },
    {
     "data": {
      "text/html": [
       "<pre>--------------------------------------------------------</pre>"
      ],
      "text/plain": [
       "--------------------------------------------------------"
      ]
     },
     "metadata": {},
     "output_type": "display_data"
    },
    {
     "data": {
      "text/html": [
       "<pre>Number of examples          : 21301</pre>"
      ],
      "text/plain": [
       "Number of examples          : 21301"
      ]
     },
     "metadata": {},
     "output_type": "display_data"
    },
    {
     "data": {
      "text/html": [
       "<pre>Number of classes           : 2</pre>"
      ],
      "text/plain": [
       "Number of classes           : 2"
      ]
     },
     "metadata": {},
     "output_type": "display_data"
    },
    {
     "data": {
      "text/html": [
       "<pre>Number of feature columns   : 593</pre>"
      ],
      "text/plain": [
       "Number of feature columns   : 593"
      ]
     },
     "metadata": {},
     "output_type": "display_data"
    },
    {
     "data": {
      "text/html": [
       "<pre>Number of unpacked features : 593</pre>"
      ],
      "text/plain": [
       "Number of unpacked features : 593"
      ]
     },
     "metadata": {},
     "output_type": "display_data"
    },
    {
     "data": {
      "text/html": [
       "<pre>+-----------+--------------+-------------------+---------------------+</pre>"
      ],
      "text/plain": [
       "+-----------+--------------+-------------------+---------------------+"
      ]
     },
     "metadata": {},
     "output_type": "display_data"
    },
    {
     "data": {
      "text/html": [
       "<pre>| Iteration | Elapsed Time | Training-log_loss | Validation-log_loss |</pre>"
      ],
      "text/plain": [
       "| Iteration | Elapsed Time | Training-log_loss | Validation-log_loss |"
      ]
     },
     "metadata": {},
     "output_type": "display_data"
    },
    {
     "data": {
      "text/html": [
       "<pre>+-----------+--------------+-------------------+---------------------+</pre>"
      ],
      "text/plain": [
       "+-----------+--------------+-------------------+---------------------+"
      ]
     },
     "metadata": {},
     "output_type": "display_data"
    },
    {
     "data": {
      "text/html": [
       "<pre>| 1         | 0.261538     | 0.495180          | 0.494750            |</pre>"
      ],
      "text/plain": [
       "| 1         | 0.261538     | 0.495180          | 0.494750            |"
      ]
     },
     "metadata": {},
     "output_type": "display_data"
    },
    {
     "data": {
      "text/html": [
       "<pre>| 2         | 0.454177     | 0.379411          | 0.380711            |</pre>"
      ],
      "text/plain": [
       "| 2         | 0.454177     | 0.379411          | 0.380711            |"
      ]
     },
     "metadata": {},
     "output_type": "display_data"
    },
    {
     "data": {
      "text/html": [
       "<pre>| 3         | 0.649084     | 0.305457          | 0.308412            |</pre>"
      ],
      "text/plain": [
       "| 3         | 0.649084     | 0.305457          | 0.308412            |"
      ]
     },
     "metadata": {},
     "output_type": "display_data"
    },
    {
     "data": {
      "text/html": [
       "<pre>| 4         | 0.836798     | 0.249541          | 0.255625            |</pre>"
      ],
      "text/plain": [
       "| 4         | 0.836798     | 0.249541          | 0.255625            |"
      ]
     },
     "metadata": {},
     "output_type": "display_data"
    },
    {
     "data": {
      "text/html": [
       "<pre>| 5         | 1.019036     | 0.209401          | 0.217320            |</pre>"
      ],
      "text/plain": [
       "| 5         | 1.019036     | 0.209401          | 0.217320            |"
      ]
     },
     "metadata": {},
     "output_type": "display_data"
    },
    {
     "data": {
      "text/html": [
       "<pre>| 6         | 1.204285     | 0.181017          | 0.191985            |</pre>"
      ],
      "text/plain": [
       "| 6         | 1.204285     | 0.181017          | 0.191985            |"
      ]
     },
     "metadata": {},
     "output_type": "display_data"
    },
    {
     "data": {
      "text/html": [
       "<pre>| 10        | 1.951687     | 0.103837          | 0.118707            |</pre>"
      ],
      "text/plain": [
       "| 10        | 1.951687     | 0.103837          | 0.118707            |"
      ]
     },
     "metadata": {},
     "output_type": "display_data"
    },
    {
     "data": {
      "text/html": [
       "<pre>| 11        | 2.141164     | 0.093562          | 0.108112            |</pre>"
      ],
      "text/plain": [
       "| 11        | 2.141164     | 0.093562          | 0.108112            |"
      ]
     },
     "metadata": {},
     "output_type": "display_data"
    },
    {
     "data": {
      "text/html": [
       "<pre>| 20        | 4.060818     | 0.037537          | 0.058749            |</pre>"
      ],
      "text/plain": [
       "| 20        | 4.060818     | 0.037537          | 0.058749            |"
      ]
     },
     "metadata": {},
     "output_type": "display_data"
    },
    {
     "data": {
      "text/html": [
       "<pre>| 30        | 5.949835     | 0.016373          | 0.039179            |</pre>"
      ],
      "text/plain": [
       "| 30        | 5.949835     | 0.016373          | 0.039179            |"
      ]
     },
     "metadata": {},
     "output_type": "display_data"
    },
    {
     "data": {
      "text/html": [
       "<pre>| 40        | 7.777881     | 0.008550          | 0.033464            |</pre>"
      ],
      "text/plain": [
       "| 40        | 7.777881     | 0.008550          | 0.033464            |"
      ]
     },
     "metadata": {},
     "output_type": "display_data"
    },
    {
     "data": {
      "text/html": [
       "<pre>| 50        | 9.594690     | 0.004444          | 0.028609            |</pre>"
      ],
      "text/plain": [
       "| 50        | 9.594690     | 0.004444          | 0.028609            |"
      ]
     },
     "metadata": {},
     "output_type": "display_data"
    },
    {
     "data": {
      "text/html": [
       "<pre>| 51        | 9.786750     | 0.004287          | 0.028024            |</pre>"
      ],
      "text/plain": [
       "| 51        | 9.786750     | 0.004287          | 0.028024            |"
      ]
     },
     "metadata": {},
     "output_type": "display_data"
    },
    {
     "data": {
      "text/html": [
       "<pre>| 60        | 11.434797    | 0.002687          | 0.026674            |</pre>"
      ],
      "text/plain": [
       "| 60        | 11.434797    | 0.002687          | 0.026674            |"
      ]
     },
     "metadata": {},
     "output_type": "display_data"
    },
    {
     "data": {
      "text/html": [
       "<pre>| 70        | 13.218383    | 0.001709          | 0.023489            |</pre>"
      ],
      "text/plain": [
       "| 70        | 13.218383    | 0.001709          | 0.023489            |"
      ]
     },
     "metadata": {},
     "output_type": "display_data"
    },
    {
     "data": {
      "text/html": [
       "<pre>| 80        | 14.993976    | 0.001148          | 0.022364            |</pre>"
      ],
      "text/plain": [
       "| 80        | 14.993976    | 0.001148          | 0.022364            |"
      ]
     },
     "metadata": {},
     "output_type": "display_data"
    },
    {
     "data": {
      "text/html": [
       "<pre>| 90        | 16.832645    | 0.000841          | 0.022122            |</pre>"
      ],
      "text/plain": [
       "| 90        | 16.832645    | 0.000841          | 0.022122            |"
      ]
     },
     "metadata": {},
     "output_type": "display_data"
    },
    {
     "data": {
      "text/html": [
       "<pre>| 100       | 18.806900    | 0.000643          | 0.021620            |</pre>"
      ],
      "text/plain": [
       "| 100       | 18.806900    | 0.000643          | 0.021620            |"
      ]
     },
     "metadata": {},
     "output_type": "display_data"
    },
    {
     "data": {
      "text/html": [
       "<pre>+-----------+--------------+-------------------+---------------------+</pre>"
      ],
      "text/plain": [
       "+-----------+--------------+-------------------+---------------------+"
      ]
     },
     "metadata": {},
     "output_type": "display_data"
    }
   ],
   "source": [
    "# create c0 binary classifier\n",
    "c0_boost_model = graphlab.boosted_trees_classifier.create(train_imgs_df, target='c0', features=train_features, max_iterations=100,\n",
    "                                                         row_subsample=0.7, column_subsample=0.3, random_seed=10, metric='log_loss')"
   ]
  },
  {
   "cell_type": "code",
   "execution_count": 38,
   "metadata": {
    "collapsed": true
   },
   "outputs": [],
   "source": [
    "def sframe_pivot(sframe):\n",
    "    sframe_df = sframe.to_dataframe()\n",
    "    sframe_pivot = sframe_df.pivot(index='id', columns='class', values='probability')\n",
    "    sframe = graphlab.SFrame(sframe_pivot)\n",
    "    return sframe"
   ]
  },
  {
   "cell_type": "code",
   "execution_count": 75,
   "metadata": {
    "collapsed": false
   },
   "outputs": [],
   "source": [
    "# c0 prediction\n",
    "c0_prediction = c0_boost_model.predict_topk(train_imgs, k=2)\n",
    "c0_prediction_pivot = sframe_pivot(c0_prediction)"
   ]
  },
  {
   "cell_type": "code",
   "execution_count": 76,
   "metadata": {
    "collapsed": false
   },
   "outputs": [
    {
     "name": "stdout",
     "output_type": "stream",
     "text": [
      "PROGRESS: Creating a validation set from 5 percent of training data. This may take a while.\n",
      "          You can set ``validation_set=None`` to disable validation tracking.\n",
      "\n"
     ]
    },
    {
     "data": {
      "text/html": [
       "<pre>Boosted trees classifier:</pre>"
      ],
      "text/plain": [
       "Boosted trees classifier:"
      ]
     },
     "metadata": {},
     "output_type": "display_data"
    },
    {
     "data": {
      "text/html": [
       "<pre>--------------------------------------------------------</pre>"
      ],
      "text/plain": [
       "--------------------------------------------------------"
      ]
     },
     "metadata": {},
     "output_type": "display_data"
    },
    {
     "data": {
      "text/html": [
       "<pre>Number of examples          : 21431</pre>"
      ],
      "text/plain": [
       "Number of examples          : 21431"
      ]
     },
     "metadata": {},
     "output_type": "display_data"
    },
    {
     "data": {
      "text/html": [
       "<pre>Number of classes           : 2</pre>"
      ],
      "text/plain": [
       "Number of classes           : 2"
      ]
     },
     "metadata": {},
     "output_type": "display_data"
    },
    {
     "data": {
      "text/html": [
       "<pre>Number of feature columns   : 593</pre>"
      ],
      "text/plain": [
       "Number of feature columns   : 593"
      ]
     },
     "metadata": {},
     "output_type": "display_data"
    },
    {
     "data": {
      "text/html": [
       "<pre>Number of unpacked features : 593</pre>"
      ],
      "text/plain": [
       "Number of unpacked features : 593"
      ]
     },
     "metadata": {},
     "output_type": "display_data"
    },
    {
     "data": {
      "text/html": [
       "<pre>+-----------+--------------+-------------------+---------------------+</pre>"
      ],
      "text/plain": [
       "+-----------+--------------+-------------------+---------------------+"
      ]
     },
     "metadata": {},
     "output_type": "display_data"
    },
    {
     "data": {
      "text/html": [
       "<pre>| Iteration | Elapsed Time | Training-log_loss | Validation-log_loss |</pre>"
      ],
      "text/plain": [
       "| Iteration | Elapsed Time | Training-log_loss | Validation-log_loss |"
      ]
     },
     "metadata": {},
     "output_type": "display_data"
    },
    {
     "data": {
      "text/html": [
       "<pre>+-----------+--------------+-------------------+---------------------+</pre>"
      ],
      "text/plain": [
       "+-----------+--------------+-------------------+---------------------+"
      ]
     },
     "metadata": {},
     "output_type": "display_data"
    },
    {
     "data": {
      "text/html": [
       "<pre>| 1         | 0.233200     | 0.488584          | 0.494084            |</pre>"
      ],
      "text/plain": [
       "| 1         | 0.233200     | 0.488584          | 0.494084            |"
      ]
     },
     "metadata": {},
     "output_type": "display_data"
    },
    {
     "data": {
      "text/html": [
       "<pre>| 2         | 0.461071     | 0.366149          | 0.379632            |</pre>"
      ],
      "text/plain": [
       "| 2         | 0.461071     | 0.366149          | 0.379632            |"
      ]
     },
     "metadata": {},
     "output_type": "display_data"
    },
    {
     "data": {
      "text/html": [
       "<pre>| 3         | 0.681434     | 0.287352          | 0.300059            |</pre>"
      ],
      "text/plain": [
       "| 3         | 0.681434     | 0.287352          | 0.300059            |"
      ]
     },
     "metadata": {},
     "output_type": "display_data"
    },
    {
     "data": {
      "text/html": [
       "<pre>| 4         | 0.900621     | 0.228862          | 0.240579            |</pre>"
      ],
      "text/plain": [
       "| 4         | 0.900621     | 0.228862          | 0.240579            |"
      ]
     },
     "metadata": {},
     "output_type": "display_data"
    },
    {
     "data": {
      "text/html": [
       "<pre>| 5         | 1.114264     | 0.185622          | 0.198521            |</pre>"
      ],
      "text/plain": [
       "| 5         | 1.114264     | 0.185622          | 0.198521            |"
      ]
     },
     "metadata": {},
     "output_type": "display_data"
    },
    {
     "data": {
      "text/html": [
       "<pre>| 6         | 1.329147     | 0.152710          | 0.167924            |</pre>"
      ],
      "text/plain": [
       "| 6         | 1.329147     | 0.152710          | 0.167924            |"
      ]
     },
     "metadata": {},
     "output_type": "display_data"
    },
    {
     "data": {
      "text/html": [
       "<pre>| 10        | 2.113241     | 0.076990          | 0.094962            |</pre>"
      ],
      "text/plain": [
       "| 10        | 2.113241     | 0.076990          | 0.094962            |"
      ]
     },
     "metadata": {},
     "output_type": "display_data"
    },
    {
     "data": {
      "text/html": [
       "<pre>| 11        | 2.327303     | 0.067802          | 0.086703            |</pre>"
      ],
      "text/plain": [
       "| 11        | 2.327303     | 0.067802          | 0.086703            |"
      ]
     },
     "metadata": {},
     "output_type": "display_data"
    },
    {
     "data": {
      "text/html": [
       "<pre>| 15        | 3.133869     | 0.037813          | 0.052086            |</pre>"
      ],
      "text/plain": [
       "| 15        | 3.133869     | 0.037813          | 0.052086            |"
      ]
     },
     "metadata": {},
     "output_type": "display_data"
    },
    {
     "data": {
      "text/html": [
       "<pre>| 20        | 4.229678     | 0.022255          | 0.034199            |</pre>"
      ],
      "text/plain": [
       "| 20        | 4.229678     | 0.022255          | 0.034199            |"
      ]
     },
     "metadata": {},
     "output_type": "display_data"
    },
    {
     "data": {
      "text/html": [
       "<pre>| 25        | 5.697607     | 0.013316          | 0.023012            |</pre>"
      ],
      "text/plain": [
       "| 25        | 5.697607     | 0.013316          | 0.023012            |"
      ]
     },
     "metadata": {},
     "output_type": "display_data"
    },
    {
     "data": {
      "text/html": [
       "<pre>| 30        | 6.682755     | 0.007692          | 0.015234            |</pre>"
      ],
      "text/plain": [
       "| 30        | 6.682755     | 0.007692          | 0.015234            |"
      ]
     },
     "metadata": {},
     "output_type": "display_data"
    },
    {
     "data": {
      "text/html": [
       "<pre>| 35        | 7.732969     | 0.004695          | 0.011197            |</pre>"
      ],
      "text/plain": [
       "| 35        | 7.732969     | 0.004695          | 0.011197            |"
      ]
     },
     "metadata": {},
     "output_type": "display_data"
    },
    {
     "data": {
      "text/html": [
       "<pre>| 40        | 8.753866     | 0.003104          | 0.009115            |</pre>"
      ],
      "text/plain": [
       "| 40        | 8.753866     | 0.003104          | 0.009115            |"
      ]
     },
     "metadata": {},
     "output_type": "display_data"
    },
    {
     "data": {
      "text/html": [
       "<pre>| 45        | 9.748392     | 0.002174          | 0.007861            |</pre>"
      ],
      "text/plain": [
       "| 45        | 9.748392     | 0.002174          | 0.007861            |"
      ]
     },
     "metadata": {},
     "output_type": "display_data"
    },
    {
     "data": {
      "text/html": [
       "<pre>| 50        | 10.806148    | 0.001549          | 0.006034            |</pre>"
      ],
      "text/plain": [
       "| 50        | 10.806148    | 0.001549          | 0.006034            |"
      ]
     },
     "metadata": {},
     "output_type": "display_data"
    },
    {
     "data": {
      "text/html": [
       "<pre>| 51        | 11.045934    | 0.001457          | 0.005924            |</pre>"
      ],
      "text/plain": [
       "| 51        | 11.045934    | 0.001457          | 0.005924            |"
      ]
     },
     "metadata": {},
     "output_type": "display_data"
    },
    {
     "data": {
      "text/html": [
       "<pre>| 55        | 11.931791    | 0.001150          | 0.005485            |</pre>"
      ],
      "text/plain": [
       "| 55        | 11.931791    | 0.001150          | 0.005485            |"
      ]
     },
     "metadata": {},
     "output_type": "display_data"
    },
    {
     "data": {
      "text/html": [
       "<pre>| 60        | 13.026225    | 0.000894          | 0.004779            |</pre>"
      ],
      "text/plain": [
       "| 60        | 13.026225    | 0.000894          | 0.004779            |"
      ]
     },
     "metadata": {},
     "output_type": "display_data"
    },
    {
     "data": {
      "text/html": [
       "<pre>| 65        | 14.105802    | 0.000709          | 0.004334            |</pre>"
      ],
      "text/plain": [
       "| 65        | 14.105802    | 0.000709          | 0.004334            |"
      ]
     },
     "metadata": {},
     "output_type": "display_data"
    },
    {
     "data": {
      "text/html": [
       "<pre>| 70        | 15.193000    | 0.000580          | 0.004006            |</pre>"
      ],
      "text/plain": [
       "| 70        | 15.193000    | 0.000580          | 0.004006            |"
      ]
     },
     "metadata": {},
     "output_type": "display_data"
    },
    {
     "data": {
      "text/html": [
       "<pre>| 75        | 16.312850    | 0.000485          | 0.003571            |</pre>"
      ],
      "text/plain": [
       "| 75        | 16.312850    | 0.000485          | 0.003571            |"
      ]
     },
     "metadata": {},
     "output_type": "display_data"
    },
    {
     "data": {
      "text/html": [
       "<pre>| 80        | 17.362848    | 0.000418          | 0.003527            |</pre>"
      ],
      "text/plain": [
       "| 80        | 17.362848    | 0.000418          | 0.003527            |"
      ]
     },
     "metadata": {},
     "output_type": "display_data"
    },
    {
     "data": {
      "text/html": [
       "<pre>| 85        | 18.385974    | 0.000365          | 0.003334            |</pre>"
      ],
      "text/plain": [
       "| 85        | 18.385974    | 0.000365          | 0.003334            |"
      ]
     },
     "metadata": {},
     "output_type": "display_data"
    },
    {
     "data": {
      "text/html": [
       "<pre>| 90        | 19.322207    | 0.000318          | 0.003109            |</pre>"
      ],
      "text/plain": [
       "| 90        | 19.322207    | 0.000318          | 0.003109            |"
      ]
     },
     "metadata": {},
     "output_type": "display_data"
    },
    {
     "data": {
      "text/html": [
       "<pre>| 95        | 20.234619    | 0.000284          | 0.003171            |</pre>"
      ],
      "text/plain": [
       "| 95        | 20.234619    | 0.000284          | 0.003171            |"
      ]
     },
     "metadata": {},
     "output_type": "display_data"
    },
    {
     "data": {
      "text/html": [
       "<pre>| 100       | 21.140207    | 0.000257          | 0.002870            |</pre>"
      ],
      "text/plain": [
       "| 100       | 21.140207    | 0.000257          | 0.002870            |"
      ]
     },
     "metadata": {},
     "output_type": "display_data"
    },
    {
     "data": {
      "text/html": [
       "<pre>+-----------+--------------+-------------------+---------------------+</pre>"
      ],
      "text/plain": [
       "+-----------+--------------+-------------------+---------------------+"
      ]
     },
     "metadata": {},
     "output_type": "display_data"
    }
   ],
   "source": [
    "# create c1 binary classifier\n",
    "c1_boost_model = graphlab.boosted_trees_classifier.create(train_imgs_df, target='c1', features=train_features, max_iterations=100,\n",
    "                                                         row_subsample=0.7, column_subsample=0.3, random_seed=10, metric='log_loss')\n",
    "c1_prediction = c1_boost_model.predict_topk(train_imgs, k=2)\n",
    "c1_prediction_pivot = sframe_pivot(c1_prediction)"
   ]
  },
  {
   "cell_type": "code",
   "execution_count": 77,
   "metadata": {
    "collapsed": false
   },
   "outputs": [
    {
     "name": "stdout",
     "output_type": "stream",
     "text": [
      "PROGRESS: Creating a validation set from 5 percent of training data. This may take a while.\n",
      "          You can set ``validation_set=None`` to disable validation tracking.\n",
      "\n"
     ]
    },
    {
     "data": {
      "text/html": [
       "<pre>Boosted trees classifier:</pre>"
      ],
      "text/plain": [
       "Boosted trees classifier:"
      ]
     },
     "metadata": {},
     "output_type": "display_data"
    },
    {
     "data": {
      "text/html": [
       "<pre>--------------------------------------------------------</pre>"
      ],
      "text/plain": [
       "--------------------------------------------------------"
      ]
     },
     "metadata": {},
     "output_type": "display_data"
    },
    {
     "data": {
      "text/html": [
       "<pre>Number of examples          : 21385</pre>"
      ],
      "text/plain": [
       "Number of examples          : 21385"
      ]
     },
     "metadata": {},
     "output_type": "display_data"
    },
    {
     "data": {
      "text/html": [
       "<pre>Number of classes           : 2</pre>"
      ],
      "text/plain": [
       "Number of classes           : 2"
      ]
     },
     "metadata": {},
     "output_type": "display_data"
    },
    {
     "data": {
      "text/html": [
       "<pre>Number of feature columns   : 593</pre>"
      ],
      "text/plain": [
       "Number of feature columns   : 593"
      ]
     },
     "metadata": {},
     "output_type": "display_data"
    },
    {
     "data": {
      "text/html": [
       "<pre>Number of unpacked features : 593</pre>"
      ],
      "text/plain": [
       "Number of unpacked features : 593"
      ]
     },
     "metadata": {},
     "output_type": "display_data"
    },
    {
     "data": {
      "text/html": [
       "<pre>+-----------+--------------+-------------------+---------------------+</pre>"
      ],
      "text/plain": [
       "+-----------+--------------+-------------------+---------------------+"
      ]
     },
     "metadata": {},
     "output_type": "display_data"
    },
    {
     "data": {
      "text/html": [
       "<pre>| Iteration | Elapsed Time | Training-log_loss | Validation-log_loss |</pre>"
      ],
      "text/plain": [
       "| Iteration | Elapsed Time | Training-log_loss | Validation-log_loss |"
      ]
     },
     "metadata": {},
     "output_type": "display_data"
    },
    {
     "data": {
      "text/html": [
       "<pre>+-----------+--------------+-------------------+---------------------+</pre>"
      ],
      "text/plain": [
       "+-----------+--------------+-------------------+---------------------+"
      ]
     },
     "metadata": {},
     "output_type": "display_data"
    },
    {
     "data": {
      "text/html": [
       "<pre>| 1         | 0.222515     | 0.483478          | 0.486803            |</pre>"
      ],
      "text/plain": [
       "| 1         | 0.222515     | 0.483478          | 0.486803            |"
      ]
     },
     "metadata": {},
     "output_type": "display_data"
    },
    {
     "data": {
      "text/html": [
       "<pre>| 2         | 0.421118     | 0.357346          | 0.362574            |</pre>"
      ],
      "text/plain": [
       "| 2         | 0.421118     | 0.357346          | 0.362574            |"
      ]
     },
     "metadata": {},
     "output_type": "display_data"
    },
    {
     "data": {
      "text/html": [
       "<pre>| 3         | 0.614305     | 0.274684          | 0.281570            |</pre>"
      ],
      "text/plain": [
       "| 3         | 0.614305     | 0.274684          | 0.281570            |"
      ]
     },
     "metadata": {},
     "output_type": "display_data"
    },
    {
     "data": {
      "text/html": [
       "<pre>| 4         | 0.811406     | 0.213354          | 0.222457            |</pre>"
      ],
      "text/plain": [
       "| 4         | 0.811406     | 0.213354          | 0.222457            |"
      ]
     },
     "metadata": {},
     "output_type": "display_data"
    },
    {
     "data": {
      "text/html": [
       "<pre>| 5         | 1.024534     | 0.168914          | 0.181052            |</pre>"
      ],
      "text/plain": [
       "| 5         | 1.024534     | 0.168914          | 0.181052            |"
      ]
     },
     "metadata": {},
     "output_type": "display_data"
    },
    {
     "data": {
      "text/html": [
       "<pre>| 6         | 1.260474     | 0.140158          | 0.151755            |</pre>"
      ],
      "text/plain": [
       "| 6         | 1.260474     | 0.140158          | 0.151755            |"
      ]
     },
     "metadata": {},
     "output_type": "display_data"
    },
    {
     "data": {
      "text/html": [
       "<pre>| 10        | 2.078718     | 0.069273          | 0.084845            |</pre>"
      ],
      "text/plain": [
       "| 10        | 2.078718     | 0.069273          | 0.084845            |"
      ]
     },
     "metadata": {},
     "output_type": "display_data"
    },
    {
     "data": {
      "text/html": [
       "<pre>| 11        | 2.295131     | 0.058892          | 0.074346            |</pre>"
      ],
      "text/plain": [
       "| 11        | 2.295131     | 0.058892          | 0.074346            |"
      ]
     },
     "metadata": {},
     "output_type": "display_data"
    },
    {
     "data": {
      "text/html": [
       "<pre>| 15        | 3.094041     | 0.033278          | 0.047970            |</pre>"
      ],
      "text/plain": [
       "| 15        | 3.094041     | 0.033278          | 0.047970            |"
      ]
     },
     "metadata": {},
     "output_type": "display_data"
    },
    {
     "data": {
      "text/html": [
       "<pre>| 20        | 4.093352     | 0.017743          | 0.034307            |</pre>"
      ],
      "text/plain": [
       "| 20        | 4.093352     | 0.017743          | 0.034307            |"
      ]
     },
     "metadata": {},
     "output_type": "display_data"
    },
    {
     "data": {
      "text/html": [
       "<pre>| 25        | 5.047761     | 0.010425          | 0.024000            |</pre>"
      ],
      "text/plain": [
       "| 25        | 5.047761     | 0.010425          | 0.024000            |"
      ]
     },
     "metadata": {},
     "output_type": "display_data"
    },
    {
     "data": {
      "text/html": [
       "<pre>| 30        | 6.004977     | 0.006351          | 0.020280            |</pre>"
      ],
      "text/plain": [
       "| 30        | 6.004977     | 0.006351          | 0.020280            |"
      ]
     },
     "metadata": {},
     "output_type": "display_data"
    },
    {
     "data": {
      "text/html": [
       "<pre>| 35        | 6.970386     | 0.003990          | 0.016976            |</pre>"
      ],
      "text/plain": [
       "| 35        | 6.970386     | 0.003990          | 0.016976            |"
      ]
     },
     "metadata": {},
     "output_type": "display_data"
    },
    {
     "data": {
      "text/html": [
       "<pre>| 40        | 7.960690     | 0.002710          | 0.016063            |</pre>"
      ],
      "text/plain": [
       "| 40        | 7.960690     | 0.002710          | 0.016063            |"
      ]
     },
     "metadata": {},
     "output_type": "display_data"
    },
    {
     "data": {
      "text/html": [
       "<pre>| 45        | 8.899982     | 0.001926          | 0.014118            |</pre>"
      ],
      "text/plain": [
       "| 45        | 8.899982     | 0.001926          | 0.014118            |"
      ]
     },
     "metadata": {},
     "output_type": "display_data"
    },
    {
     "data": {
      "text/html": [
       "<pre>| 50        | 9.869100     | 0.001373          | 0.013647            |</pre>"
      ],
      "text/plain": [
       "| 50        | 9.869100     | 0.001373          | 0.013647            |"
      ]
     },
     "metadata": {},
     "output_type": "display_data"
    },
    {
     "data": {
      "text/html": [
       "<pre>| 51        | 10.061557    | 0.001288          | 0.013473            |</pre>"
      ],
      "text/plain": [
       "| 51        | 10.061557    | 0.001288          | 0.013473            |"
      ]
     },
     "metadata": {},
     "output_type": "display_data"
    },
    {
     "data": {
      "text/html": [
       "<pre>| 55        | 10.826121    | 0.001046          | 0.013270            |</pre>"
      ],
      "text/plain": [
       "| 55        | 10.826121    | 0.001046          | 0.013270            |"
      ]
     },
     "metadata": {},
     "output_type": "display_data"
    },
    {
     "data": {
      "text/html": [
       "<pre>| 60        | 11.804815    | 0.000823          | 0.013035            |</pre>"
      ],
      "text/plain": [
       "| 60        | 11.804815    | 0.000823          | 0.013035            |"
      ]
     },
     "metadata": {},
     "output_type": "display_data"
    },
    {
     "data": {
      "text/html": [
       "<pre>| 65        | 12.783565    | 0.000658          | 0.012466            |</pre>"
      ],
      "text/plain": [
       "| 65        | 12.783565    | 0.000658          | 0.012466            |"
      ]
     },
     "metadata": {},
     "output_type": "display_data"
    },
    {
     "data": {
      "text/html": [
       "<pre>| 70        | 13.743325    | 0.000550          | 0.012100            |</pre>"
      ],
      "text/plain": [
       "| 70        | 13.743325    | 0.000550          | 0.012100            |"
      ]
     },
     "metadata": {},
     "output_type": "display_data"
    },
    {
     "data": {
      "text/html": [
       "<pre>| 75        | 14.674613    | 0.000462          | 0.011836            |</pre>"
      ],
      "text/plain": [
       "| 75        | 14.674613    | 0.000462          | 0.011836            |"
      ]
     },
     "metadata": {},
     "output_type": "display_data"
    },
    {
     "data": {
      "text/html": [
       "<pre>| 80        | 15.625053    | 0.000398          | 0.011372            |</pre>"
      ],
      "text/plain": [
       "| 80        | 15.625053    | 0.000398          | 0.011372            |"
      ]
     },
     "metadata": {},
     "output_type": "display_data"
    },
    {
     "data": {
      "text/html": [
       "<pre>| 85        | 16.519731    | 0.000348          | 0.011381            |</pre>"
      ],
      "text/plain": [
       "| 85        | 16.519731    | 0.000348          | 0.011381            |"
      ]
     },
     "metadata": {},
     "output_type": "display_data"
    },
    {
     "data": {
      "text/html": [
       "<pre>| 90        | 17.401570    | 0.000310          | 0.011169            |</pre>"
      ],
      "text/plain": [
       "| 90        | 17.401570    | 0.000310          | 0.011169            |"
      ]
     },
     "metadata": {},
     "output_type": "display_data"
    },
    {
     "data": {
      "text/html": [
       "<pre>| 95        | 18.315482    | 0.000280          | 0.010936            |</pre>"
      ],
      "text/plain": [
       "| 95        | 18.315482    | 0.000280          | 0.010936            |"
      ]
     },
     "metadata": {},
     "output_type": "display_data"
    },
    {
     "data": {
      "text/html": [
       "<pre>| 100       | 19.270374    | 0.000254          | 0.010661            |</pre>"
      ],
      "text/plain": [
       "| 100       | 19.270374    | 0.000254          | 0.010661            |"
      ]
     },
     "metadata": {},
     "output_type": "display_data"
    },
    {
     "data": {
      "text/html": [
       "<pre>+-----------+--------------+-------------------+---------------------+</pre>"
      ],
      "text/plain": [
       "+-----------+--------------+-------------------+---------------------+"
      ]
     },
     "metadata": {},
     "output_type": "display_data"
    }
   ],
   "source": [
    "# create c2 binary classifier\n",
    "c2_boost_model = graphlab.boosted_trees_classifier.create(train_imgs_df, target='c2', features=train_features, max_iterations=100,\n",
    "                                                         row_subsample=0.7, column_subsample=0.3, random_seed=10, metric='log_loss')\n",
    "c2_prediction = c2_boost_model.predict_topk(train_imgs, k=2)\n",
    "c2_prediction_pivot = sframe_pivot(c2_prediction)"
   ]
  },
  {
   "cell_type": "code",
   "execution_count": 78,
   "metadata": {
    "collapsed": false
   },
   "outputs": [
    {
     "name": "stdout",
     "output_type": "stream",
     "text": [
      "PROGRESS: Creating a validation set from 5 percent of training data. This may take a while.\n",
      "          You can set ``validation_set=None`` to disable validation tracking.\n",
      "\n"
     ]
    },
    {
     "data": {
      "text/html": [
       "<pre>Boosted trees classifier:</pre>"
      ],
      "text/plain": [
       "Boosted trees classifier:"
      ]
     },
     "metadata": {},
     "output_type": "display_data"
    },
    {
     "data": {
      "text/html": [
       "<pre>--------------------------------------------------------</pre>"
      ],
      "text/plain": [
       "--------------------------------------------------------"
      ]
     },
     "metadata": {},
     "output_type": "display_data"
    },
    {
     "data": {
      "text/html": [
       "<pre>Number of examples          : 21298</pre>"
      ],
      "text/plain": [
       "Number of examples          : 21298"
      ]
     },
     "metadata": {},
     "output_type": "display_data"
    },
    {
     "data": {
      "text/html": [
       "<pre>Number of classes           : 2</pre>"
      ],
      "text/plain": [
       "Number of classes           : 2"
      ]
     },
     "metadata": {},
     "output_type": "display_data"
    },
    {
     "data": {
      "text/html": [
       "<pre>Number of feature columns   : 593</pre>"
      ],
      "text/plain": [
       "Number of feature columns   : 593"
      ]
     },
     "metadata": {},
     "output_type": "display_data"
    },
    {
     "data": {
      "text/html": [
       "<pre>Number of unpacked features : 593</pre>"
      ],
      "text/plain": [
       "Number of unpacked features : 593"
      ]
     },
     "metadata": {},
     "output_type": "display_data"
    },
    {
     "data": {
      "text/html": [
       "<pre>+-----------+--------------+-------------------+---------------------+</pre>"
      ],
      "text/plain": [
       "+-----------+--------------+-------------------+---------------------+"
      ]
     },
     "metadata": {},
     "output_type": "display_data"
    },
    {
     "data": {
      "text/html": [
       "<pre>| Iteration | Elapsed Time | Training-log_loss | Validation-log_loss |</pre>"
      ],
      "text/plain": [
       "| Iteration | Elapsed Time | Training-log_loss | Validation-log_loss |"
      ]
     },
     "metadata": {},
     "output_type": "display_data"
    },
    {
     "data": {
      "text/html": [
       "<pre>+-----------+--------------+-------------------+---------------------+</pre>"
      ],
      "text/plain": [
       "+-----------+--------------+-------------------+---------------------+"
      ]
     },
     "metadata": {},
     "output_type": "display_data"
    },
    {
     "data": {
      "text/html": [
       "<pre>| 1         | 0.225670     | 0.484731          | 0.492338            |</pre>"
      ],
      "text/plain": [
       "| 1         | 0.225670     | 0.484731          | 0.492338            |"
      ]
     },
     "metadata": {},
     "output_type": "display_data"
    },
    {
     "data": {
      "text/html": [
       "<pre>| 2         | 0.416358     | 0.362956          | 0.371467            |</pre>"
      ],
      "text/plain": [
       "| 2         | 0.416358     | 0.362956          | 0.371467            |"
      ]
     },
     "metadata": {},
     "output_type": "display_data"
    },
    {
     "data": {
      "text/html": [
       "<pre>| 3         | 0.620292     | 0.277932          | 0.287172            |</pre>"
      ],
      "text/plain": [
       "| 3         | 0.620292     | 0.277932          | 0.287172            |"
      ]
     },
     "metadata": {},
     "output_type": "display_data"
    },
    {
     "data": {
      "text/html": [
       "<pre>| 4         | 0.843008     | 0.218866          | 0.228595            |</pre>"
      ],
      "text/plain": [
       "| 4         | 0.843008     | 0.218866          | 0.228595            |"
      ]
     },
     "metadata": {},
     "output_type": "display_data"
    },
    {
     "data": {
      "text/html": [
       "<pre>| 5         | 1.051442     | 0.173455          | 0.184348            |</pre>"
      ],
      "text/plain": [
       "| 5         | 1.051442     | 0.173455          | 0.184348            |"
      ]
     },
     "metadata": {},
     "output_type": "display_data"
    },
    {
     "data": {
      "text/html": [
       "<pre>| 6         | 1.273076     | 0.140020          | 0.153374            |</pre>"
      ],
      "text/plain": [
       "| 6         | 1.273076     | 0.140020          | 0.153374            |"
      ]
     },
     "metadata": {},
     "output_type": "display_data"
    },
    {
     "data": {
      "text/html": [
       "<pre>| 10        | 2.143943     | 0.067513          | 0.082783            |</pre>"
      ],
      "text/plain": [
       "| 10        | 2.143943     | 0.067513          | 0.082783            |"
      ]
     },
     "metadata": {},
     "output_type": "display_data"
    },
    {
     "data": {
      "text/html": [
       "<pre>| 11        | 2.354072     | 0.057077          | 0.073193            |</pre>"
      ],
      "text/plain": [
       "| 11        | 2.354072     | 0.057077          | 0.073193            |"
      ]
     },
     "metadata": {},
     "output_type": "display_data"
    },
    {
     "data": {
      "text/html": [
       "<pre>| 15        | 3.286536     | 0.031974          | 0.049250            |</pre>"
      ],
      "text/plain": [
       "| 15        | 3.286536     | 0.031974          | 0.049250            |"
      ]
     },
     "metadata": {},
     "output_type": "display_data"
    },
    {
     "data": {
      "text/html": [
       "<pre>| 20        | 4.249846     | 0.018094          | 0.036448            |</pre>"
      ],
      "text/plain": [
       "| 20        | 4.249846     | 0.018094          | 0.036448            |"
      ]
     },
     "metadata": {},
     "output_type": "display_data"
    },
    {
     "data": {
      "text/html": [
       "<pre>| 25        | 5.325374     | 0.010009          | 0.027843            |</pre>"
      ],
      "text/plain": [
       "| 25        | 5.325374     | 0.010009          | 0.027843            |"
      ]
     },
     "metadata": {},
     "output_type": "display_data"
    },
    {
     "data": {
      "text/html": [
       "<pre>| 30        | 6.316938     | 0.006209          | 0.022626            |</pre>"
      ],
      "text/plain": [
       "| 30        | 6.316938     | 0.006209          | 0.022626            |"
      ]
     },
     "metadata": {},
     "output_type": "display_data"
    },
    {
     "data": {
      "text/html": [
       "<pre>| 35        | 7.321632     | 0.003990          | 0.019233            |</pre>"
      ],
      "text/plain": [
       "| 35        | 7.321632     | 0.003990          | 0.019233            |"
      ]
     },
     "metadata": {},
     "output_type": "display_data"
    },
    {
     "data": {
      "text/html": [
       "<pre>| 40        | 8.449485     | 0.002725          | 0.017142            |</pre>"
      ],
      "text/plain": [
       "| 40        | 8.449485     | 0.002725          | 0.017142            |"
      ]
     },
     "metadata": {},
     "output_type": "display_data"
    },
    {
     "data": {
      "text/html": [
       "<pre>| 45        | 9.492078     | 0.001932          | 0.015279            |</pre>"
      ],
      "text/plain": [
       "| 45        | 9.492078     | 0.001932          | 0.015279            |"
      ]
     },
     "metadata": {},
     "output_type": "display_data"
    },
    {
     "data": {
      "text/html": [
       "<pre>| 50        | 10.437566    | 0.001444          | 0.014864            |</pre>"
      ],
      "text/plain": [
       "| 50        | 10.437566    | 0.001444          | 0.014864            |"
      ]
     },
     "metadata": {},
     "output_type": "display_data"
    },
    {
     "data": {
      "text/html": [
       "<pre>| 51        | 10.637785    | 0.001363          | 0.014510            |</pre>"
      ],
      "text/plain": [
       "| 51        | 10.637785    | 0.001363          | 0.014510            |"
      ]
     },
     "metadata": {},
     "output_type": "display_data"
    },
    {
     "data": {
      "text/html": [
       "<pre>| 55        | 11.390861    | 0.001106          | 0.014083            |</pre>"
      ],
      "text/plain": [
       "| 55        | 11.390861    | 0.001106          | 0.014083            |"
      ]
     },
     "metadata": {},
     "output_type": "display_data"
    },
    {
     "data": {
      "text/html": [
       "<pre>| 60        | 12.410343    | 0.000870          | 0.012807            |</pre>"
      ],
      "text/plain": [
       "| 60        | 12.410343    | 0.000870          | 0.012807            |"
      ]
     },
     "metadata": {},
     "output_type": "display_data"
    },
    {
     "data": {
      "text/html": [
       "<pre>| 65        | 13.360250    | 0.000708          | 0.012715            |</pre>"
      ],
      "text/plain": [
       "| 65        | 13.360250    | 0.000708          | 0.012715            |"
      ]
     },
     "metadata": {},
     "output_type": "display_data"
    },
    {
     "data": {
      "text/html": [
       "<pre>| 70        | 14.315439    | 0.000586          | 0.011479            |</pre>"
      ],
      "text/plain": [
       "| 70        | 14.315439    | 0.000586          | 0.011479            |"
      ]
     },
     "metadata": {},
     "output_type": "display_data"
    },
    {
     "data": {
      "text/html": [
       "<pre>| 75        | 15.263981    | 0.000495          | 0.010275            |</pre>"
      ],
      "text/plain": [
       "| 75        | 15.263981    | 0.000495          | 0.010275            |"
      ]
     },
     "metadata": {},
     "output_type": "display_data"
    },
    {
     "data": {
      "text/html": [
       "<pre>| 80        | 16.198391    | 0.000425          | 0.010204            |</pre>"
      ],
      "text/plain": [
       "| 80        | 16.198391    | 0.000425          | 0.010204            |"
      ]
     },
     "metadata": {},
     "output_type": "display_data"
    },
    {
     "data": {
      "text/html": [
       "<pre>| 85        | 17.122125    | 0.000372          | 0.009951            |</pre>"
      ],
      "text/plain": [
       "| 85        | 17.122125    | 0.000372          | 0.009951            |"
      ]
     },
     "metadata": {},
     "output_type": "display_data"
    },
    {
     "data": {
      "text/html": [
       "<pre>| 90        | 18.016046    | 0.000332          | 0.010192            |</pre>"
      ],
      "text/plain": [
       "| 90        | 18.016046    | 0.000332          | 0.010192            |"
      ]
     },
     "metadata": {},
     "output_type": "display_data"
    },
    {
     "data": {
      "text/html": [
       "<pre>| 95        | 18.937312    | 0.000301          | 0.010002            |</pre>"
      ],
      "text/plain": [
       "| 95        | 18.937312    | 0.000301          | 0.010002            |"
      ]
     },
     "metadata": {},
     "output_type": "display_data"
    },
    {
     "data": {
      "text/html": [
       "<pre>| 100       | 19.862890    | 0.000273          | 0.009617            |</pre>"
      ],
      "text/plain": [
       "| 100       | 19.862890    | 0.000273          | 0.009617            |"
      ]
     },
     "metadata": {},
     "output_type": "display_data"
    },
    {
     "data": {
      "text/html": [
       "<pre>+-----------+--------------+-------------------+---------------------+</pre>"
      ],
      "text/plain": [
       "+-----------+--------------+-------------------+---------------------+"
      ]
     },
     "metadata": {},
     "output_type": "display_data"
    }
   ],
   "source": [
    "# create c3 binary classifier\n",
    "c3_boost_model = graphlab.boosted_trees_classifier.create(train_imgs_df, target='c3', features=train_features, max_iterations=100,\n",
    "                                                         row_subsample=0.7, column_subsample=0.3, random_seed=10, metric='log_loss')\n",
    "c3_prediction = c3_boost_model.predict_topk(train_imgs, k=2)\n",
    "c3_prediction_pivot = sframe_pivot(c3_prediction)"
   ]
  },
  {
   "cell_type": "code",
   "execution_count": 79,
   "metadata": {
    "collapsed": false
   },
   "outputs": [
    {
     "name": "stdout",
     "output_type": "stream",
     "text": [
      "PROGRESS: Creating a validation set from 5 percent of training data. This may take a while.\n",
      "          You can set ``validation_set=None`` to disable validation tracking.\n",
      "\n"
     ]
    },
    {
     "data": {
      "text/html": [
       "<pre>Boosted trees classifier:</pre>"
      ],
      "text/plain": [
       "Boosted trees classifier:"
      ]
     },
     "metadata": {},
     "output_type": "display_data"
    },
    {
     "data": {
      "text/html": [
       "<pre>--------------------------------------------------------</pre>"
      ],
      "text/plain": [
       "--------------------------------------------------------"
      ]
     },
     "metadata": {},
     "output_type": "display_data"
    },
    {
     "data": {
      "text/html": [
       "<pre>Number of examples          : 21306</pre>"
      ],
      "text/plain": [
       "Number of examples          : 21306"
      ]
     },
     "metadata": {},
     "output_type": "display_data"
    },
    {
     "data": {
      "text/html": [
       "<pre>Number of classes           : 2</pre>"
      ],
      "text/plain": [
       "Number of classes           : 2"
      ]
     },
     "metadata": {},
     "output_type": "display_data"
    },
    {
     "data": {
      "text/html": [
       "<pre>Number of feature columns   : 593</pre>"
      ],
      "text/plain": [
       "Number of feature columns   : 593"
      ]
     },
     "metadata": {},
     "output_type": "display_data"
    },
    {
     "data": {
      "text/html": [
       "<pre>Number of unpacked features : 593</pre>"
      ],
      "text/plain": [
       "Number of unpacked features : 593"
      ]
     },
     "metadata": {},
     "output_type": "display_data"
    },
    {
     "data": {
      "text/html": [
       "<pre>+-----------+--------------+-------------------+---------------------+</pre>"
      ],
      "text/plain": [
       "+-----------+--------------+-------------------+---------------------+"
      ]
     },
     "metadata": {},
     "output_type": "display_data"
    },
    {
     "data": {
      "text/html": [
       "<pre>| Iteration | Elapsed Time | Training-log_loss | Validation-log_loss |</pre>"
      ],
      "text/plain": [
       "| Iteration | Elapsed Time | Training-log_loss | Validation-log_loss |"
      ]
     },
     "metadata": {},
     "output_type": "display_data"
    },
    {
     "data": {
      "text/html": [
       "<pre>+-----------+--------------+-------------------+---------------------+</pre>"
      ],
      "text/plain": [
       "+-----------+--------------+-------------------+---------------------+"
      ]
     },
     "metadata": {},
     "output_type": "display_data"
    },
    {
     "data": {
      "text/html": [
       "<pre>| 1         | 0.325280     | 0.495244          | 0.501487            |</pre>"
      ],
      "text/plain": [
       "| 1         | 0.325280     | 0.495244          | 0.501487            |"
      ]
     },
     "metadata": {},
     "output_type": "display_data"
    },
    {
     "data": {
      "text/html": [
       "<pre>| 2         | 0.589876     | 0.375451          | 0.388675            |</pre>"
      ],
      "text/plain": [
       "| 2         | 0.589876     | 0.375451          | 0.388675            |"
      ]
     },
     "metadata": {},
     "output_type": "display_data"
    },
    {
     "data": {
      "text/html": [
       "<pre>| 3         | 0.826164     | 0.298521          | 0.315877            |</pre>"
      ],
      "text/plain": [
       "| 3         | 0.826164     | 0.298521          | 0.315877            |"
      ]
     },
     "metadata": {},
     "output_type": "display_data"
    },
    {
     "data": {
      "text/html": [
       "<pre>| 4         | 1.026387     | 0.240132          | 0.256033            |</pre>"
      ],
      "text/plain": [
       "| 4         | 1.026387     | 0.240132          | 0.256033            |"
      ]
     },
     "metadata": {},
     "output_type": "display_data"
    },
    {
     "data": {
      "text/html": [
       "<pre>| 5         | 1.249298     | 0.198710          | 0.219214            |</pre>"
      ],
      "text/plain": [
       "| 5         | 1.249298     | 0.198710          | 0.219214            |"
      ]
     },
     "metadata": {},
     "output_type": "display_data"
    },
    {
     "data": {
      "text/html": [
       "<pre>| 6         | 1.493926     | 0.161805          | 0.184713            |</pre>"
      ],
      "text/plain": [
       "| 6         | 1.493926     | 0.161805          | 0.184713            |"
      ]
     },
     "metadata": {},
     "output_type": "display_data"
    },
    {
     "data": {
      "text/html": [
       "<pre>| 10        | 2.404573     | 0.085542          | 0.113843            |</pre>"
      ],
      "text/plain": [
       "| 10        | 2.404573     | 0.085542          | 0.113843            |"
      ]
     },
     "metadata": {},
     "output_type": "display_data"
    },
    {
     "data": {
      "text/html": [
       "<pre>| 11        | 2.634462     | 0.072635          | 0.101636            |</pre>"
      ],
      "text/plain": [
       "| 11        | 2.634462     | 0.072635          | 0.101636            |"
      ]
     },
     "metadata": {},
     "output_type": "display_data"
    },
    {
     "data": {
      "text/html": [
       "<pre>| 15        | 3.491220     | 0.042489          | 0.070902            |</pre>"
      ],
      "text/plain": [
       "| 15        | 3.491220     | 0.042489          | 0.070902            |"
      ]
     },
     "metadata": {},
     "output_type": "display_data"
    },
    {
     "data": {
      "text/html": [
       "<pre>| 20        | 4.477807     | 0.025190          | 0.053901            |</pre>"
      ],
      "text/plain": [
       "| 20        | 4.477807     | 0.025190          | 0.053901            |"
      ]
     },
     "metadata": {},
     "output_type": "display_data"
    },
    {
     "data": {
      "text/html": [
       "<pre>| 25        | 5.598842     | 0.015859          | 0.041254            |</pre>"
      ],
      "text/plain": [
       "| 25        | 5.598842     | 0.015859          | 0.041254            |"
      ]
     },
     "metadata": {},
     "output_type": "display_data"
    },
    {
     "data": {
      "text/html": [
       "<pre>| 30        | 6.654350     | 0.009980          | 0.033019            |</pre>"
      ],
      "text/plain": [
       "| 30        | 6.654350     | 0.009980          | 0.033019            |"
      ]
     },
     "metadata": {},
     "output_type": "display_data"
    },
    {
     "data": {
      "text/html": [
       "<pre>| 35        | 7.688578     | 0.006356          | 0.027830            |</pre>"
      ],
      "text/plain": [
       "| 35        | 7.688578     | 0.006356          | 0.027830            |"
      ]
     },
     "metadata": {},
     "output_type": "display_data"
    },
    {
     "data": {
      "text/html": [
       "<pre>| 40        | 8.686608     | 0.004279          | 0.023693            |</pre>"
      ],
      "text/plain": [
       "| 40        | 8.686608     | 0.004279          | 0.023693            |"
      ]
     },
     "metadata": {},
     "output_type": "display_data"
    },
    {
     "data": {
      "text/html": [
       "<pre>| 45        | 9.743709     | 0.002932          | 0.020679            |</pre>"
      ],
      "text/plain": [
       "| 45        | 9.743709     | 0.002932          | 0.020679            |"
      ]
     },
     "metadata": {},
     "output_type": "display_data"
    },
    {
     "data": {
      "text/html": [
       "<pre>| 50        | 10.748601    | 0.002125          | 0.018720            |</pre>"
      ],
      "text/plain": [
       "| 50        | 10.748601    | 0.002125          | 0.018720            |"
      ]
     },
     "metadata": {},
     "output_type": "display_data"
    },
    {
     "data": {
      "text/html": [
       "<pre>| 51        | 10.957550    | 0.001999          | 0.018198            |</pre>"
      ],
      "text/plain": [
       "| 51        | 10.957550    | 0.001999          | 0.018198            |"
      ]
     },
     "metadata": {},
     "output_type": "display_data"
    },
    {
     "data": {
      "text/html": [
       "<pre>| 55        | 11.754650    | 0.001627          | 0.016642            |</pre>"
      ],
      "text/plain": [
       "| 55        | 11.754650    | 0.001627          | 0.016642            |"
      ]
     },
     "metadata": {},
     "output_type": "display_data"
    },
    {
     "data": {
      "text/html": [
       "<pre>| 60        | 12.805856    | 0.001228          | 0.015137            |</pre>"
      ],
      "text/plain": [
       "| 60        | 12.805856    | 0.001228          | 0.015137            |"
      ]
     },
     "metadata": {},
     "output_type": "display_data"
    },
    {
     "data": {
      "text/html": [
       "<pre>| 65        | 13.781447    | 0.000956          | 0.013445            |</pre>"
      ],
      "text/plain": [
       "| 65        | 13.781447    | 0.000956          | 0.013445            |"
      ]
     },
     "metadata": {},
     "output_type": "display_data"
    },
    {
     "data": {
      "text/html": [
       "<pre>| 70        | 14.776555    | 0.000784          | 0.013106            |</pre>"
      ],
      "text/plain": [
       "| 70        | 14.776555    | 0.000784          | 0.013106            |"
      ]
     },
     "metadata": {},
     "output_type": "display_data"
    },
    {
     "data": {
      "text/html": [
       "<pre>| 75        | 15.845683    | 0.000650          | 0.012605            |</pre>"
      ],
      "text/plain": [
       "| 75        | 15.845683    | 0.000650          | 0.012605            |"
      ]
     },
     "metadata": {},
     "output_type": "display_data"
    },
    {
     "data": {
      "text/html": [
       "<pre>| 80        | 16.849108    | 0.000549          | 0.011898            |</pre>"
      ],
      "text/plain": [
       "| 80        | 16.849108    | 0.000549          | 0.011898            |"
      ]
     },
     "metadata": {},
     "output_type": "display_data"
    },
    {
     "data": {
      "text/html": [
       "<pre>| 85        | 18.004608    | 0.000473          | 0.011578            |</pre>"
      ],
      "text/plain": [
       "| 85        | 18.004608    | 0.000473          | 0.011578            |"
      ]
     },
     "metadata": {},
     "output_type": "display_data"
    },
    {
     "data": {
      "text/html": [
       "<pre>| 90        | 18.956556    | 0.000414          | 0.011444            |</pre>"
      ],
      "text/plain": [
       "| 90        | 18.956556    | 0.000414          | 0.011444            |"
      ]
     },
     "metadata": {},
     "output_type": "display_data"
    },
    {
     "data": {
      "text/html": [
       "<pre>| 95        | 19.867227    | 0.000370          | 0.011585            |</pre>"
      ],
      "text/plain": [
       "| 95        | 19.867227    | 0.000370          | 0.011585            |"
      ]
     },
     "metadata": {},
     "output_type": "display_data"
    },
    {
     "data": {
      "text/html": [
       "<pre>| 100       | 20.737533    | 0.000333          | 0.010990            |</pre>"
      ],
      "text/plain": [
       "| 100       | 20.737533    | 0.000333          | 0.010990            |"
      ]
     },
     "metadata": {},
     "output_type": "display_data"
    },
    {
     "data": {
      "text/html": [
       "<pre>+-----------+--------------+-------------------+---------------------+</pre>"
      ],
      "text/plain": [
       "+-----------+--------------+-------------------+---------------------+"
      ]
     },
     "metadata": {},
     "output_type": "display_data"
    }
   ],
   "source": [
    "# create c4 binary classifier\n",
    "c4_boost_model = graphlab.boosted_trees_classifier.create(train_imgs_df, target='c4', features=train_features, max_iterations=100,\n",
    "                                                         row_subsample=0.7, column_subsample=0.3, random_seed=10, metric='log_loss')\n",
    "c4_prediction = c4_boost_model.predict_topk(train_imgs, k=2)\n",
    "c4_prediction_pivot = sframe_pivot(c4_prediction)"
   ]
  },
  {
   "cell_type": "code",
   "execution_count": 80,
   "metadata": {
    "collapsed": false
   },
   "outputs": [
    {
     "name": "stdout",
     "output_type": "stream",
     "text": [
      "PROGRESS: Creating a validation set from 5 percent of training data. This may take a while.\n",
      "          You can set ``validation_set=None`` to disable validation tracking.\n",
      "\n"
     ]
    },
    {
     "data": {
      "text/html": [
       "<pre>Boosted trees classifier:</pre>"
      ],
      "text/plain": [
       "Boosted trees classifier:"
      ]
     },
     "metadata": {},
     "output_type": "display_data"
    },
    {
     "data": {
      "text/html": [
       "<pre>--------------------------------------------------------</pre>"
      ],
      "text/plain": [
       "--------------------------------------------------------"
      ]
     },
     "metadata": {},
     "output_type": "display_data"
    },
    {
     "data": {
      "text/html": [
       "<pre>Number of examples          : 21348</pre>"
      ],
      "text/plain": [
       "Number of examples          : 21348"
      ]
     },
     "metadata": {},
     "output_type": "display_data"
    },
    {
     "data": {
      "text/html": [
       "<pre>Number of classes           : 2</pre>"
      ],
      "text/plain": [
       "Number of classes           : 2"
      ]
     },
     "metadata": {},
     "output_type": "display_data"
    },
    {
     "data": {
      "text/html": [
       "<pre>Number of feature columns   : 593</pre>"
      ],
      "text/plain": [
       "Number of feature columns   : 593"
      ]
     },
     "metadata": {},
     "output_type": "display_data"
    },
    {
     "data": {
      "text/html": [
       "<pre>Number of unpacked features : 593</pre>"
      ],
      "text/plain": [
       "Number of unpacked features : 593"
      ]
     },
     "metadata": {},
     "output_type": "display_data"
    },
    {
     "data": {
      "text/html": [
       "<pre>+-----------+--------------+-------------------+---------------------+</pre>"
      ],
      "text/plain": [
       "+-----------+--------------+-------------------+---------------------+"
      ]
     },
     "metadata": {},
     "output_type": "display_data"
    },
    {
     "data": {
      "text/html": [
       "<pre>| Iteration | Elapsed Time | Training-log_loss | Validation-log_loss |</pre>"
      ],
      "text/plain": [
       "| Iteration | Elapsed Time | Training-log_loss | Validation-log_loss |"
      ]
     },
     "metadata": {},
     "output_type": "display_data"
    },
    {
     "data": {
      "text/html": [
       "<pre>+-----------+--------------+-------------------+---------------------+</pre>"
      ],
      "text/plain": [
       "+-----------+--------------+-------------------+---------------------+"
      ]
     },
     "metadata": {},
     "output_type": "display_data"
    },
    {
     "data": {
      "text/html": [
       "<pre>| 1         | 0.287612     | 0.479048          | 0.484462            |</pre>"
      ],
      "text/plain": [
       "| 1         | 0.287612     | 0.479048          | 0.484462            |"
      ]
     },
     "metadata": {},
     "output_type": "display_data"
    },
    {
     "data": {
      "text/html": [
       "<pre>| 2         | 0.516585     | 0.358399          | 0.368626            |</pre>"
      ],
      "text/plain": [
       "| 2         | 0.516585     | 0.358399          | 0.368626            |"
      ]
     },
     "metadata": {},
     "output_type": "display_data"
    },
    {
     "data": {
      "text/html": [
       "<pre>| 3         | 0.795477     | 0.278831          | 0.291152            |</pre>"
      ],
      "text/plain": [
       "| 3         | 0.795477     | 0.278831          | 0.291152            |"
      ]
     },
     "metadata": {},
     "output_type": "display_data"
    },
    {
     "data": {
      "text/html": [
       "<pre>| 4         | 1.035231     | 0.222096          | 0.236540            |</pre>"
      ],
      "text/plain": [
       "| 4         | 1.035231     | 0.222096          | 0.236540            |"
      ]
     },
     "metadata": {},
     "output_type": "display_data"
    },
    {
     "data": {
      "text/html": [
       "<pre>| 5         | 1.262364     | 0.183695          | 0.197567            |</pre>"
      ],
      "text/plain": [
       "| 5         | 1.262364     | 0.183695          | 0.197567            |"
      ]
     },
     "metadata": {},
     "output_type": "display_data"
    },
    {
     "data": {
      "text/html": [
       "<pre>| 6         | 1.468474     | 0.150429          | 0.165321            |</pre>"
      ],
      "text/plain": [
       "| 6         | 1.468474     | 0.150429          | 0.165321            |"
      ]
     },
     "metadata": {},
     "output_type": "display_data"
    },
    {
     "data": {
      "text/html": [
       "<pre>| 10        | 2.226237     | 0.073949          | 0.093579            |</pre>"
      ],
      "text/plain": [
       "| 10        | 2.226237     | 0.073949          | 0.093579            |"
      ]
     },
     "metadata": {},
     "output_type": "display_data"
    },
    {
     "data": {
      "text/html": [
       "<pre>| 11        | 2.420498     | 0.063439          | 0.083999            |</pre>"
      ],
      "text/plain": [
       "| 11        | 2.420498     | 0.063439          | 0.083999            |"
      ]
     },
     "metadata": {},
     "output_type": "display_data"
    },
    {
     "data": {
      "text/html": [
       "<pre>| 15        | 3.173085     | 0.036071          | 0.057242            |</pre>"
      ],
      "text/plain": [
       "| 15        | 3.173085     | 0.036071          | 0.057242            |"
      ]
     },
     "metadata": {},
     "output_type": "display_data"
    },
    {
     "data": {
      "text/html": [
       "<pre>| 20        | 4.094545     | 0.019737          | 0.039407            |</pre>"
      ],
      "text/plain": [
       "| 20        | 4.094545     | 0.019737          | 0.039407            |"
      ]
     },
     "metadata": {},
     "output_type": "display_data"
    },
    {
     "data": {
      "text/html": [
       "<pre>| 25        | 5.003223     | 0.011250          | 0.027653            |</pre>"
      ],
      "text/plain": [
       "| 25        | 5.003223     | 0.011250          | 0.027653            |"
      ]
     },
     "metadata": {},
     "output_type": "display_data"
    },
    {
     "data": {
      "text/html": [
       "<pre>| 30        | 5.913481     | 0.006522          | 0.019921            |</pre>"
      ],
      "text/plain": [
       "| 30        | 5.913481     | 0.006522          | 0.019921            |"
      ]
     },
     "metadata": {},
     "output_type": "display_data"
    },
    {
     "data": {
      "text/html": [
       "<pre>| 35        | 6.841183     | 0.004060          | 0.016164            |</pre>"
      ],
      "text/plain": [
       "| 35        | 6.841183     | 0.004060          | 0.016164            |"
      ]
     },
     "metadata": {},
     "output_type": "display_data"
    },
    {
     "data": {
      "text/html": [
       "<pre>| 40        | 7.753914     | 0.002709          | 0.013522            |</pre>"
      ],
      "text/plain": [
       "| 40        | 7.753914     | 0.002709          | 0.013522            |"
      ]
     },
     "metadata": {},
     "output_type": "display_data"
    },
    {
     "data": {
      "text/html": [
       "<pre>| 45        | 8.653289     | 0.001917          | 0.011060            |</pre>"
      ],
      "text/plain": [
       "| 45        | 8.653289     | 0.001917          | 0.011060            |"
      ]
     },
     "metadata": {},
     "output_type": "display_data"
    },
    {
     "data": {
      "text/html": [
       "<pre>| 50        | 9.601943     | 0.001394          | 0.009546            |</pre>"
      ],
      "text/plain": [
       "| 50        | 9.601943     | 0.001394          | 0.009546            |"
      ]
     },
     "metadata": {},
     "output_type": "display_data"
    },
    {
     "data": {
      "text/html": [
       "<pre>| 51        | 9.793581     | 0.001303          | 0.009256            |</pre>"
      ],
      "text/plain": [
       "| 51        | 9.793581     | 0.001303          | 0.009256            |"
      ]
     },
     "metadata": {},
     "output_type": "display_data"
    },
    {
     "data": {
      "text/html": [
       "<pre>| 55        | 10.531171    | 0.001049          | 0.008289            |</pre>"
      ],
      "text/plain": [
       "| 55        | 10.531171    | 0.001049          | 0.008289            |"
      ]
     },
     "metadata": {},
     "output_type": "display_data"
    },
    {
     "data": {
      "text/html": [
       "<pre>| 60        | 11.612602    | 0.000815          | 0.008222            |</pre>"
      ],
      "text/plain": [
       "| 60        | 11.612602    | 0.000815          | 0.008222            |"
      ]
     },
     "metadata": {},
     "output_type": "display_data"
    },
    {
     "data": {
      "text/html": [
       "<pre>| 65        | 12.536831    | 0.000659          | 0.007450            |</pre>"
      ],
      "text/plain": [
       "| 65        | 12.536831    | 0.000659          | 0.007450            |"
      ]
     },
     "metadata": {},
     "output_type": "display_data"
    },
    {
     "data": {
      "text/html": [
       "<pre>| 70        | 13.559053    | 0.000546          | 0.007020            |</pre>"
      ],
      "text/plain": [
       "| 70        | 13.559053    | 0.000546          | 0.007020            |"
      ]
     },
     "metadata": {},
     "output_type": "display_data"
    },
    {
     "data": {
      "text/html": [
       "<pre>| 75        | 14.563320    | 0.000456          | 0.006777            |</pre>"
      ],
      "text/plain": [
       "| 75        | 14.563320    | 0.000456          | 0.006777            |"
      ]
     },
     "metadata": {},
     "output_type": "display_data"
    },
    {
     "data": {
      "text/html": [
       "<pre>| 80        | 15.592630    | 0.000391          | 0.006711            |</pre>"
      ],
      "text/plain": [
       "| 80        | 15.592630    | 0.000391          | 0.006711            |"
      ]
     },
     "metadata": {},
     "output_type": "display_data"
    },
    {
     "data": {
      "text/html": [
       "<pre>| 85        | 16.508939    | 0.000341          | 0.006509            |</pre>"
      ],
      "text/plain": [
       "| 85        | 16.508939    | 0.000341          | 0.006509            |"
      ]
     },
     "metadata": {},
     "output_type": "display_data"
    },
    {
     "data": {
      "text/html": [
       "<pre>| 90        | 17.422857    | 0.000301          | 0.006264            |</pre>"
      ],
      "text/plain": [
       "| 90        | 17.422857    | 0.000301          | 0.006264            |"
      ]
     },
     "metadata": {},
     "output_type": "display_data"
    },
    {
     "data": {
      "text/html": [
       "<pre>| 95        | 18.304462    | 0.000270          | 0.005925            |</pre>"
      ],
      "text/plain": [
       "| 95        | 18.304462    | 0.000270          | 0.005925            |"
      ]
     },
     "metadata": {},
     "output_type": "display_data"
    },
    {
     "data": {
      "text/html": [
       "<pre>| 100       | 19.179470    | 0.000246          | 0.005707            |</pre>"
      ],
      "text/plain": [
       "| 100       | 19.179470    | 0.000246          | 0.005707            |"
      ]
     },
     "metadata": {},
     "output_type": "display_data"
    },
    {
     "data": {
      "text/html": [
       "<pre>+-----------+--------------+-------------------+---------------------+</pre>"
      ],
      "text/plain": [
       "+-----------+--------------+-------------------+---------------------+"
      ]
     },
     "metadata": {},
     "output_type": "display_data"
    }
   ],
   "source": [
    "# create c5 binary classifier\n",
    "c5_boost_model = graphlab.boosted_trees_classifier.create(train_imgs_df, target='c5', features=train_features, max_iterations=100,\n",
    "                                                         row_subsample=0.7, column_subsample=0.3, random_seed=10, metric='log_loss')\n",
    "c5_prediction = c5_boost_model.predict_topk(train_imgs, k=2)\n",
    "c5_prediction_pivot = sframe_pivot(c5_prediction)"
   ]
  },
  {
   "cell_type": "code",
   "execution_count": 81,
   "metadata": {
    "collapsed": false
   },
   "outputs": [
    {
     "name": "stdout",
     "output_type": "stream",
     "text": [
      "PROGRESS: Creating a validation set from 5 percent of training data. This may take a while.\n",
      "          You can set ``validation_set=None`` to disable validation tracking.\n",
      "\n"
     ]
    },
    {
     "data": {
      "text/html": [
       "<pre>Boosted trees classifier:</pre>"
      ],
      "text/plain": [
       "Boosted trees classifier:"
      ]
     },
     "metadata": {},
     "output_type": "display_data"
    },
    {
     "data": {
      "text/html": [
       "<pre>--------------------------------------------------------</pre>"
      ],
      "text/plain": [
       "--------------------------------------------------------"
      ]
     },
     "metadata": {},
     "output_type": "display_data"
    },
    {
     "data": {
      "text/html": [
       "<pre>Number of examples          : 21271</pre>"
      ],
      "text/plain": [
       "Number of examples          : 21271"
      ]
     },
     "metadata": {},
     "output_type": "display_data"
    },
    {
     "data": {
      "text/html": [
       "<pre>Number of classes           : 2</pre>"
      ],
      "text/plain": [
       "Number of classes           : 2"
      ]
     },
     "metadata": {},
     "output_type": "display_data"
    },
    {
     "data": {
      "text/html": [
       "<pre>Number of feature columns   : 593</pre>"
      ],
      "text/plain": [
       "Number of feature columns   : 593"
      ]
     },
     "metadata": {},
     "output_type": "display_data"
    },
    {
     "data": {
      "text/html": [
       "<pre>Number of unpacked features : 593</pre>"
      ],
      "text/plain": [
       "Number of unpacked features : 593"
      ]
     },
     "metadata": {},
     "output_type": "display_data"
    },
    {
     "data": {
      "text/html": [
       "<pre>+-----------+--------------+-------------------+---------------------+</pre>"
      ],
      "text/plain": [
       "+-----------+--------------+-------------------+---------------------+"
      ]
     },
     "metadata": {},
     "output_type": "display_data"
    },
    {
     "data": {
      "text/html": [
       "<pre>| Iteration | Elapsed Time | Training-log_loss | Validation-log_loss |</pre>"
      ],
      "text/plain": [
       "| Iteration | Elapsed Time | Training-log_loss | Validation-log_loss |"
      ]
     },
     "metadata": {},
     "output_type": "display_data"
    },
    {
     "data": {
      "text/html": [
       "<pre>+-----------+--------------+-------------------+---------------------+</pre>"
      ],
      "text/plain": [
       "+-----------+--------------+-------------------+---------------------+"
      ]
     },
     "metadata": {},
     "output_type": "display_data"
    },
    {
     "data": {
      "text/html": [
       "<pre>| 1         | 0.276154     | 0.492735          | 0.497979            |</pre>"
      ],
      "text/plain": [
       "| 1         | 0.276154     | 0.492735          | 0.497979            |"
      ]
     },
     "metadata": {},
     "output_type": "display_data"
    },
    {
     "data": {
      "text/html": [
       "<pre>| 2         | 0.467506     | 0.376792          | 0.388272            |</pre>"
      ],
      "text/plain": [
       "| 2         | 0.467506     | 0.376792          | 0.388272            |"
      ]
     },
     "metadata": {},
     "output_type": "display_data"
    },
    {
     "data": {
      "text/html": [
       "<pre>| 3         | 0.784228     | 0.296097          | 0.311632            |</pre>"
      ],
      "text/plain": [
       "| 3         | 0.784228     | 0.296097          | 0.311632            |"
      ]
     },
     "metadata": {},
     "output_type": "display_data"
    },
    {
     "data": {
      "text/html": [
       "<pre>| 4         | 1.135756     | 0.239983          | 0.260126            |</pre>"
      ],
      "text/plain": [
       "| 4         | 1.135756     | 0.239983          | 0.260126            |"
      ]
     },
     "metadata": {},
     "output_type": "display_data"
    },
    {
     "data": {
      "text/html": [
       "<pre>| 5         | 1.350425     | 0.197637          | 0.220087            |</pre>"
      ],
      "text/plain": [
       "| 5         | 1.350425     | 0.197637          | 0.220087            |"
      ]
     },
     "metadata": {},
     "output_type": "display_data"
    },
    {
     "data": {
      "text/html": [
       "<pre>| 6         | 1.539568     | 0.162708          | 0.186416            |</pre>"
      ],
      "text/plain": [
       "| 6         | 1.539568     | 0.162708          | 0.186416            |"
      ]
     },
     "metadata": {},
     "output_type": "display_data"
    },
    {
     "data": {
      "text/html": [
       "<pre>| 10        | 2.440218     | 0.083560          | 0.108751            |</pre>"
      ],
      "text/plain": [
       "| 10        | 2.440218     | 0.083560          | 0.108751            |"
      ]
     },
     "metadata": {},
     "output_type": "display_data"
    },
    {
     "data": {
      "text/html": [
       "<pre>| 11        | 2.655959     | 0.072829          | 0.099373            |</pre>"
      ],
      "text/plain": [
       "| 11        | 2.655959     | 0.072829          | 0.099373            |"
      ]
     },
     "metadata": {},
     "output_type": "display_data"
    },
    {
     "data": {
      "text/html": [
       "<pre>| 15        | 3.434034     | 0.043773          | 0.071781            |</pre>"
      ],
      "text/plain": [
       "| 15        | 3.434034     | 0.043773          | 0.071781            |"
      ]
     },
     "metadata": {},
     "output_type": "display_data"
    },
    {
     "data": {
      "text/html": [
       "<pre>| 20        | 4.511657     | 0.026158          | 0.054957            |</pre>"
      ],
      "text/plain": [
       "| 20        | 4.511657     | 0.026158          | 0.054957            |"
      ]
     },
     "metadata": {},
     "output_type": "display_data"
    },
    {
     "data": {
      "text/html": [
       "<pre>| 25        | 5.484216     | 0.015694          | 0.044778            |</pre>"
      ],
      "text/plain": [
       "| 25        | 5.484216     | 0.015694          | 0.044778            |"
      ]
     },
     "metadata": {},
     "output_type": "display_data"
    },
    {
     "data": {
      "text/html": [
       "<pre>| 30        | 6.405622     | 0.009842          | 0.040282            |</pre>"
      ],
      "text/plain": [
       "| 30        | 6.405622     | 0.009842          | 0.040282            |"
      ]
     },
     "metadata": {},
     "output_type": "display_data"
    },
    {
     "data": {
      "text/html": [
       "<pre>| 35        | 7.332988     | 0.006584          | 0.036701            |</pre>"
      ],
      "text/plain": [
       "| 35        | 7.332988     | 0.006584          | 0.036701            |"
      ]
     },
     "metadata": {},
     "output_type": "display_data"
    },
    {
     "data": {
      "text/html": [
       "<pre>| 40        | 8.297662     | 0.004657          | 0.033923            |</pre>"
      ],
      "text/plain": [
       "| 40        | 8.297662     | 0.004657          | 0.033923            |"
      ]
     },
     "metadata": {},
     "output_type": "display_data"
    },
    {
     "data": {
      "text/html": [
       "<pre>| 45        | 9.375881     | 0.003281          | 0.030963            |</pre>"
      ],
      "text/plain": [
       "| 45        | 9.375881     | 0.003281          | 0.030963            |"
      ]
     },
     "metadata": {},
     "output_type": "display_data"
    },
    {
     "data": {
      "text/html": [
       "<pre>| 50        | 10.357103    | 0.002345          | 0.027575            |</pre>"
      ],
      "text/plain": [
       "| 50        | 10.357103    | 0.002345          | 0.027575            |"
      ]
     },
     "metadata": {},
     "output_type": "display_data"
    },
    {
     "data": {
      "text/html": [
       "<pre>| 51        | 10.566545    | 0.002214          | 0.026885            |</pre>"
      ],
      "text/plain": [
       "| 51        | 10.566545    | 0.002214          | 0.026885            |"
      ]
     },
     "metadata": {},
     "output_type": "display_data"
    },
    {
     "data": {
      "text/html": [
       "<pre>| 55        | 11.400236    | 0.001782          | 0.025420            |</pre>"
      ],
      "text/plain": [
       "| 55        | 11.400236    | 0.001782          | 0.025420            |"
      ]
     },
     "metadata": {},
     "output_type": "display_data"
    },
    {
     "data": {
      "text/html": [
       "<pre>| 60        | 12.627808    | 0.001393          | 0.024680            |</pre>"
      ],
      "text/plain": [
       "| 60        | 12.627808    | 0.001393          | 0.024680            |"
      ]
     },
     "metadata": {},
     "output_type": "display_data"
    },
    {
     "data": {
      "text/html": [
       "<pre>| 65        | 13.649739    | 0.001110          | 0.023850            |</pre>"
      ],
      "text/plain": [
       "| 65        | 13.649739    | 0.001110          | 0.023850            |"
      ]
     },
     "metadata": {},
     "output_type": "display_data"
    },
    {
     "data": {
      "text/html": [
       "<pre>| 70        | 14.585508    | 0.000909          | 0.022830            |</pre>"
      ],
      "text/plain": [
       "| 70        | 14.585508    | 0.000909          | 0.022830            |"
      ]
     },
     "metadata": {},
     "output_type": "display_data"
    },
    {
     "data": {
      "text/html": [
       "<pre>| 75        | 15.514927    | 0.000773          | 0.021743            |</pre>"
      ],
      "text/plain": [
       "| 75        | 15.514927    | 0.000773          | 0.021743            |"
      ]
     },
     "metadata": {},
     "output_type": "display_data"
    },
    {
     "data": {
      "text/html": [
       "<pre>| 80        | 16.446867    | 0.000658          | 0.021378            |</pre>"
      ],
      "text/plain": [
       "| 80        | 16.446867    | 0.000658          | 0.021378            |"
      ]
     },
     "metadata": {},
     "output_type": "display_data"
    },
    {
     "data": {
      "text/html": [
       "<pre>| 85        | 17.325060    | 0.000567          | 0.020530            |</pre>"
      ],
      "text/plain": [
       "| 85        | 17.325060    | 0.000567          | 0.020530            |"
      ]
     },
     "metadata": {},
     "output_type": "display_data"
    },
    {
     "data": {
      "text/html": [
       "<pre>| 90        | 18.232060    | 0.000490          | 0.020539            |</pre>"
      ],
      "text/plain": [
       "| 90        | 18.232060    | 0.000490          | 0.020539            |"
      ]
     },
     "metadata": {},
     "output_type": "display_data"
    },
    {
     "data": {
      "text/html": [
       "<pre>| 95        | 19.134205    | 0.000431          | 0.020197            |</pre>"
      ],
      "text/plain": [
       "| 95        | 19.134205    | 0.000431          | 0.020197            |"
      ]
     },
     "metadata": {},
     "output_type": "display_data"
    },
    {
     "data": {
      "text/html": [
       "<pre>| 100       | 20.001216    | 0.000389          | 0.019337            |</pre>"
      ],
      "text/plain": [
       "| 100       | 20.001216    | 0.000389          | 0.019337            |"
      ]
     },
     "metadata": {},
     "output_type": "display_data"
    },
    {
     "data": {
      "text/html": [
       "<pre>+-----------+--------------+-------------------+---------------------+</pre>"
      ],
      "text/plain": [
       "+-----------+--------------+-------------------+---------------------+"
      ]
     },
     "metadata": {},
     "output_type": "display_data"
    }
   ],
   "source": [
    "# create c6 binary classifier\n",
    "c6_boost_model = graphlab.boosted_trees_classifier.create(train_imgs_df, target='c6', features=train_features, max_iterations=100,\n",
    "                                                         row_subsample=0.7, column_subsample=0.3, random_seed=10, metric='log_loss')\n",
    "c6_prediction = c6_boost_model.predict_topk(train_imgs, k=2)\n",
    "c6_prediction_pivot = sframe_pivot(c6_prediction)"
   ]
  },
  {
   "cell_type": "code",
   "execution_count": 82,
   "metadata": {
    "collapsed": false
   },
   "outputs": [
    {
     "name": "stdout",
     "output_type": "stream",
     "text": [
      "PROGRESS: Creating a validation set from 5 percent of training data. This may take a while.\n",
      "          You can set ``validation_set=None`` to disable validation tracking.\n",
      "\n"
     ]
    },
    {
     "data": {
      "text/html": [
       "<pre>Boosted trees classifier:</pre>"
      ],
      "text/plain": [
       "Boosted trees classifier:"
      ]
     },
     "metadata": {},
     "output_type": "display_data"
    },
    {
     "data": {
      "text/html": [
       "<pre>--------------------------------------------------------</pre>"
      ],
      "text/plain": [
       "--------------------------------------------------------"
      ]
     },
     "metadata": {},
     "output_type": "display_data"
    },
    {
     "data": {
      "text/html": [
       "<pre>Number of examples          : 21334</pre>"
      ],
      "text/plain": [
       "Number of examples          : 21334"
      ]
     },
     "metadata": {},
     "output_type": "display_data"
    },
    {
     "data": {
      "text/html": [
       "<pre>Number of classes           : 2</pre>"
      ],
      "text/plain": [
       "Number of classes           : 2"
      ]
     },
     "metadata": {},
     "output_type": "display_data"
    },
    {
     "data": {
      "text/html": [
       "<pre>Number of feature columns   : 593</pre>"
      ],
      "text/plain": [
       "Number of feature columns   : 593"
      ]
     },
     "metadata": {},
     "output_type": "display_data"
    },
    {
     "data": {
      "text/html": [
       "<pre>Number of unpacked features : 593</pre>"
      ],
      "text/plain": [
       "Number of unpacked features : 593"
      ]
     },
     "metadata": {},
     "output_type": "display_data"
    },
    {
     "data": {
      "text/html": [
       "<pre>+-----------+--------------+-------------------+---------------------+</pre>"
      ],
      "text/plain": [
       "+-----------+--------------+-------------------+---------------------+"
      ]
     },
     "metadata": {},
     "output_type": "display_data"
    },
    {
     "data": {
      "text/html": [
       "<pre>| Iteration | Elapsed Time | Training-log_loss | Validation-log_loss |</pre>"
      ],
      "text/plain": [
       "| Iteration | Elapsed Time | Training-log_loss | Validation-log_loss |"
      ]
     },
     "metadata": {},
     "output_type": "display_data"
    },
    {
     "data": {
      "text/html": [
       "<pre>+-----------+--------------+-------------------+---------------------+</pre>"
      ],
      "text/plain": [
       "+-----------+--------------+-------------------+---------------------+"
      ]
     },
     "metadata": {},
     "output_type": "display_data"
    },
    {
     "data": {
      "text/html": [
       "<pre>| 1         | 0.245555     | 0.481587          | 0.485850            |</pre>"
      ],
      "text/plain": [
       "| 1         | 0.245555     | 0.481587          | 0.485850            |"
      ]
     },
     "metadata": {},
     "output_type": "display_data"
    },
    {
     "data": {
      "text/html": [
       "<pre>| 2         | 0.437820     | 0.354134          | 0.357095            |</pre>"
      ],
      "text/plain": [
       "| 2         | 0.437820     | 0.354134          | 0.357095            |"
      ]
     },
     "metadata": {},
     "output_type": "display_data"
    },
    {
     "data": {
      "text/html": [
       "<pre>| 3         | 0.626579     | 0.270813          | 0.275583            |</pre>"
      ],
      "text/plain": [
       "| 3         | 0.626579     | 0.270813          | 0.275583            |"
      ]
     },
     "metadata": {},
     "output_type": "display_data"
    },
    {
     "data": {
      "text/html": [
       "<pre>| 4         | 0.814689     | 0.212178          | 0.219093            |</pre>"
      ],
      "text/plain": [
       "| 4         | 0.814689     | 0.212178          | 0.219093            |"
      ]
     },
     "metadata": {},
     "output_type": "display_data"
    },
    {
     "data": {
      "text/html": [
       "<pre>| 5         | 1.013078     | 0.169423          | 0.176664            |</pre>"
      ],
      "text/plain": [
       "| 5         | 1.013078     | 0.169423          | 0.176664            |"
      ]
     },
     "metadata": {},
     "output_type": "display_data"
    },
    {
     "data": {
      "text/html": [
       "<pre>| 6         | 1.210744     | 0.136928          | 0.145547            |</pre>"
      ],
      "text/plain": [
       "| 6         | 1.210744     | 0.136928          | 0.145547            |"
      ]
     },
     "metadata": {},
     "output_type": "display_data"
    },
    {
     "data": {
      "text/html": [
       "<pre>| 10        | 1.947717     | 0.064490          | 0.074290            |</pre>"
      ],
      "text/plain": [
       "| 10        | 1.947717     | 0.064490          | 0.074290            |"
      ]
     },
     "metadata": {},
     "output_type": "display_data"
    },
    {
     "data": {
      "text/html": [
       "<pre>| 11        | 2.142563     | 0.054620          | 0.064109            |</pre>"
      ],
      "text/plain": [
       "| 11        | 2.142563     | 0.054620          | 0.064109            |"
      ]
     },
     "metadata": {},
     "output_type": "display_data"
    },
    {
     "data": {
      "text/html": [
       "<pre>| 20        | 3.817231     | 0.014913          | 0.023681            |</pre>"
      ],
      "text/plain": [
       "| 20        | 3.817231     | 0.014913          | 0.023681            |"
      ]
     },
     "metadata": {},
     "output_type": "display_data"
    },
    {
     "data": {
      "text/html": [
       "<pre>| 30        | 5.674880     | 0.004693          | 0.012670            |</pre>"
      ],
      "text/plain": [
       "| 30        | 5.674880     | 0.004693          | 0.012670            |"
      ]
     },
     "metadata": {},
     "output_type": "display_data"
    },
    {
     "data": {
      "text/html": [
       "<pre>| 40        | 7.475734     | 0.001851          | 0.009432            |</pre>"
      ],
      "text/plain": [
       "| 40        | 7.475734     | 0.001851          | 0.009432            |"
      ]
     },
     "metadata": {},
     "output_type": "display_data"
    },
    {
     "data": {
      "text/html": [
       "<pre>| 50        | 9.285748     | 0.000954          | 0.007832            |</pre>"
      ],
      "text/plain": [
       "| 50        | 9.285748     | 0.000954          | 0.007832            |"
      ]
     },
     "metadata": {},
     "output_type": "display_data"
    },
    {
     "data": {
      "text/html": [
       "<pre>| 51        | 9.476893     | 0.000905          | 0.007837            |</pre>"
      ],
      "text/plain": [
       "| 51        | 9.476893     | 0.000905          | 0.007837            |"
      ]
     },
     "metadata": {},
     "output_type": "display_data"
    },
    {
     "data": {
      "text/html": [
       "<pre>| 60        | 11.104409    | 0.000588          | 0.007151            |</pre>"
      ],
      "text/plain": [
       "| 60        | 11.104409    | 0.000588          | 0.007151            |"
      ]
     },
     "metadata": {},
     "output_type": "display_data"
    },
    {
     "data": {
      "text/html": [
       "<pre>| 70        | 12.873097    | 0.000406          | 0.006212            |</pre>"
      ],
      "text/plain": [
       "| 70        | 12.873097    | 0.000406          | 0.006212            |"
      ]
     },
     "metadata": {},
     "output_type": "display_data"
    },
    {
     "data": {
      "text/html": [
       "<pre>| 80        | 14.580682    | 0.000304          | 0.006302            |</pre>"
      ],
      "text/plain": [
       "| 80        | 14.580682    | 0.000304          | 0.006302            |"
      ]
     },
     "metadata": {},
     "output_type": "display_data"
    },
    {
     "data": {
      "text/html": [
       "<pre>| 90        | 16.259130    | 0.000239          | 0.006085            |</pre>"
      ],
      "text/plain": [
       "| 90        | 16.259130    | 0.000239          | 0.006085            |"
      ]
     },
     "metadata": {},
     "output_type": "display_data"
    },
    {
     "data": {
      "text/html": [
       "<pre>| 100       | 17.910343    | 0.000195          | 0.005820            |</pre>"
      ],
      "text/plain": [
       "| 100       | 17.910343    | 0.000195          | 0.005820            |"
      ]
     },
     "metadata": {},
     "output_type": "display_data"
    },
    {
     "data": {
      "text/html": [
       "<pre>+-----------+--------------+-------------------+---------------------+</pre>"
      ],
      "text/plain": [
       "+-----------+--------------+-------------------+---------------------+"
      ]
     },
     "metadata": {},
     "output_type": "display_data"
    }
   ],
   "source": [
    "# create c7 binary classifier\n",
    "c7_boost_model = graphlab.boosted_trees_classifier.create(train_imgs_df, target='c7', features=train_features, max_iterations=100,\n",
    "                                                         row_subsample=0.7, column_subsample=0.3, random_seed=10, metric='log_loss')\n",
    "c7_prediction = c7_boost_model.predict_topk(train_imgs, k=2)\n",
    "c7_prediction_pivot = sframe_pivot(c7_prediction)"
   ]
  },
  {
   "cell_type": "code",
   "execution_count": 83,
   "metadata": {
    "collapsed": false
   },
   "outputs": [
    {
     "name": "stdout",
     "output_type": "stream",
     "text": [
      "PROGRESS: Creating a validation set from 5 percent of training data. This may take a while.\n",
      "          You can set ``validation_set=None`` to disable validation tracking.\n",
      "\n"
     ]
    },
    {
     "data": {
      "text/html": [
       "<pre>Boosted trees classifier:</pre>"
      ],
      "text/plain": [
       "Boosted trees classifier:"
      ]
     },
     "metadata": {},
     "output_type": "display_data"
    },
    {
     "data": {
      "text/html": [
       "<pre>--------------------------------------------------------</pre>"
      ],
      "text/plain": [
       "--------------------------------------------------------"
      ]
     },
     "metadata": {},
     "output_type": "display_data"
    },
    {
     "data": {
      "text/html": [
       "<pre>Number of examples          : 21321</pre>"
      ],
      "text/plain": [
       "Number of examples          : 21321"
      ]
     },
     "metadata": {},
     "output_type": "display_data"
    },
    {
     "data": {
      "text/html": [
       "<pre>Number of classes           : 2</pre>"
      ],
      "text/plain": [
       "Number of classes           : 2"
      ]
     },
     "metadata": {},
     "output_type": "display_data"
    },
    {
     "data": {
      "text/html": [
       "<pre>Number of feature columns   : 593</pre>"
      ],
      "text/plain": [
       "Number of feature columns   : 593"
      ]
     },
     "metadata": {},
     "output_type": "display_data"
    },
    {
     "data": {
      "text/html": [
       "<pre>Number of unpacked features : 593</pre>"
      ],
      "text/plain": [
       "Number of unpacked features : 593"
      ]
     },
     "metadata": {},
     "output_type": "display_data"
    },
    {
     "data": {
      "text/html": [
       "<pre>+-----------+--------------+-------------------+---------------------+</pre>"
      ],
      "text/plain": [
       "+-----------+--------------+-------------------+---------------------+"
      ]
     },
     "metadata": {},
     "output_type": "display_data"
    },
    {
     "data": {
      "text/html": [
       "<pre>| Iteration | Elapsed Time | Training-log_loss | Validation-log_loss |</pre>"
      ],
      "text/plain": [
       "| Iteration | Elapsed Time | Training-log_loss | Validation-log_loss |"
      ]
     },
     "metadata": {},
     "output_type": "display_data"
    },
    {
     "data": {
      "text/html": [
       "<pre>+-----------+--------------+-------------------+---------------------+</pre>"
      ],
      "text/plain": [
       "+-----------+--------------+-------------------+---------------------+"
      ]
     },
     "metadata": {},
     "output_type": "display_data"
    },
    {
     "data": {
      "text/html": [
       "<pre>| 1         | 0.234344     | 0.496900          | 0.498109            |</pre>"
      ],
      "text/plain": [
       "| 1         | 0.234344     | 0.496900          | 0.498109            |"
      ]
     },
     "metadata": {},
     "output_type": "display_data"
    },
    {
     "data": {
      "text/html": [
       "<pre>| 2         | 0.420073     | 0.386210          | 0.387838            |</pre>"
      ],
      "text/plain": [
       "| 2         | 0.420073     | 0.386210          | 0.387838            |"
      ]
     },
     "metadata": {},
     "output_type": "display_data"
    },
    {
     "data": {
      "text/html": [
       "<pre>| 3         | 0.595488     | 0.315666          | 0.318812            |</pre>"
      ],
      "text/plain": [
       "| 3         | 0.595488     | 0.315666          | 0.318812            |"
      ]
     },
     "metadata": {},
     "output_type": "display_data"
    },
    {
     "data": {
      "text/html": [
       "<pre>| 4         | 0.781416     | 0.259062          | 0.265292            |</pre>"
      ],
      "text/plain": [
       "| 4         | 0.781416     | 0.259062          | 0.265292            |"
      ]
     },
     "metadata": {},
     "output_type": "display_data"
    },
    {
     "data": {
      "text/html": [
       "<pre>| 5         | 0.965116     | 0.220730          | 0.228817            |</pre>"
      ],
      "text/plain": [
       "| 5         | 0.965116     | 0.220730          | 0.228817            |"
      ]
     },
     "metadata": {},
     "output_type": "display_data"
    },
    {
     "data": {
      "text/html": [
       "<pre>| 6         | 1.161420     | 0.194747          | 0.206123            |</pre>"
      ],
      "text/plain": [
       "| 6         | 1.161420     | 0.194747          | 0.206123            |"
      ]
     },
     "metadata": {},
     "output_type": "display_data"
    },
    {
     "data": {
      "text/html": [
       "<pre>| 10        | 1.883044     | 0.123354          | 0.143089            |</pre>"
      ],
      "text/plain": [
       "| 10        | 1.883044     | 0.123354          | 0.143089            |"
      ]
     },
     "metadata": {},
     "output_type": "display_data"
    },
    {
     "data": {
      "text/html": [
       "<pre>| 11        | 2.070017     | 0.110864          | 0.133688            |</pre>"
      ],
      "text/plain": [
       "| 11        | 2.070017     | 0.110864          | 0.133688            |"
      ]
     },
     "metadata": {},
     "output_type": "display_data"
    },
    {
     "data": {
      "text/html": [
       "<pre>| 20        | 3.737383     | 0.051136          | 0.081527            |</pre>"
      ],
      "text/plain": [
       "| 20        | 3.737383     | 0.051136          | 0.081527            |"
      ]
     },
     "metadata": {},
     "output_type": "display_data"
    },
    {
     "data": {
      "text/html": [
       "<pre>| 30        | 5.628271     | 0.025476          | 0.057163            |</pre>"
      ],
      "text/plain": [
       "| 30        | 5.628271     | 0.025476          | 0.057163            |"
      ]
     },
     "metadata": {},
     "output_type": "display_data"
    },
    {
     "data": {
      "text/html": [
       "<pre>| 40        | 7.487274     | 0.012752          | 0.050879            |</pre>"
      ],
      "text/plain": [
       "| 40        | 7.487274     | 0.012752          | 0.050879            |"
      ]
     },
     "metadata": {},
     "output_type": "display_data"
    },
    {
     "data": {
      "text/html": [
       "<pre>| 50        | 9.276747     | 0.007300          | 0.044662            |</pre>"
      ],
      "text/plain": [
       "| 50        | 9.276747     | 0.007300          | 0.044662            |"
      ]
     },
     "metadata": {},
     "output_type": "display_data"
    },
    {
     "data": {
      "text/html": [
       "<pre>| 51        | 9.461100     | 0.006840          | 0.044414            |</pre>"
      ],
      "text/plain": [
       "| 51        | 9.461100     | 0.006840          | 0.044414            |"
      ]
     },
     "metadata": {},
     "output_type": "display_data"
    },
    {
     "data": {
      "text/html": [
       "<pre>| 60        | 11.423818    | 0.004303          | 0.039831            |</pre>"
      ],
      "text/plain": [
       "| 60        | 11.423818    | 0.004303          | 0.039831            |"
      ]
     },
     "metadata": {},
     "output_type": "display_data"
    },
    {
     "data": {
      "text/html": [
       "<pre>| 70        | 13.303263    | 0.002705          | 0.037016            |</pre>"
      ],
      "text/plain": [
       "| 70        | 13.303263    | 0.002705          | 0.037016            |"
      ]
     },
     "metadata": {},
     "output_type": "display_data"
    },
    {
     "data": {
      "text/html": [
       "<pre>| 80        | 15.127148    | 0.001842          | 0.035544            |</pre>"
      ],
      "text/plain": [
       "| 80        | 15.127148    | 0.001842          | 0.035544            |"
      ]
     },
     "metadata": {},
     "output_type": "display_data"
    },
    {
     "data": {
      "text/html": [
       "<pre>| 90        | 16.920106    | 0.001300          | 0.033216            |</pre>"
      ],
      "text/plain": [
       "| 90        | 16.920106    | 0.001300          | 0.033216            |"
      ]
     },
     "metadata": {},
     "output_type": "display_data"
    },
    {
     "data": {
      "text/html": [
       "<pre>| 100       | 18.709059    | 0.000979          | 0.031904            |</pre>"
      ],
      "text/plain": [
       "| 100       | 18.709059    | 0.000979          | 0.031904            |"
      ]
     },
     "metadata": {},
     "output_type": "display_data"
    },
    {
     "data": {
      "text/html": [
       "<pre>+-----------+--------------+-------------------+---------------------+</pre>"
      ],
      "text/plain": [
       "+-----------+--------------+-------------------+---------------------+"
      ]
     },
     "metadata": {},
     "output_type": "display_data"
    }
   ],
   "source": [
    "# create c8 binary classifier\n",
    "c8_boost_model = graphlab.boosted_trees_classifier.create(train_imgs_df, target='c8', features=train_features, max_iterations=100,\n",
    "                                                         row_subsample=0.7, column_subsample=0.3, random_seed=10, metric='log_loss')\n",
    "c8_prediction = c8_boost_model.predict_topk(train_imgs, k=2)\n",
    "c8_prediction_pivot = sframe_pivot(c8_prediction)"
   ]
  },
  {
   "cell_type": "code",
   "execution_count": 84,
   "metadata": {
    "collapsed": false
   },
   "outputs": [
    {
     "name": "stdout",
     "output_type": "stream",
     "text": [
      "PROGRESS: Creating a validation set from 5 percent of training data. This may take a while.\n",
      "          You can set ``validation_set=None`` to disable validation tracking.\n",
      "\n"
     ]
    },
    {
     "data": {
      "text/html": [
       "<pre>Boosted trees classifier:</pre>"
      ],
      "text/plain": [
       "Boosted trees classifier:"
      ]
     },
     "metadata": {},
     "output_type": "display_data"
    },
    {
     "data": {
      "text/html": [
       "<pre>--------------------------------------------------------</pre>"
      ],
      "text/plain": [
       "--------------------------------------------------------"
      ]
     },
     "metadata": {},
     "output_type": "display_data"
    },
    {
     "data": {
      "text/html": [
       "<pre>Number of examples          : 21265</pre>"
      ],
      "text/plain": [
       "Number of examples          : 21265"
      ]
     },
     "metadata": {},
     "output_type": "display_data"
    },
    {
     "data": {
      "text/html": [
       "<pre>Number of classes           : 2</pre>"
      ],
      "text/plain": [
       "Number of classes           : 2"
      ]
     },
     "metadata": {},
     "output_type": "display_data"
    },
    {
     "data": {
      "text/html": [
       "<pre>Number of feature columns   : 593</pre>"
      ],
      "text/plain": [
       "Number of feature columns   : 593"
      ]
     },
     "metadata": {},
     "output_type": "display_data"
    },
    {
     "data": {
      "text/html": [
       "<pre>Number of unpacked features : 593</pre>"
      ],
      "text/plain": [
       "Number of unpacked features : 593"
      ]
     },
     "metadata": {},
     "output_type": "display_data"
    },
    {
     "data": {
      "text/html": [
       "<pre>+-----------+--------------+-------------------+---------------------+</pre>"
      ],
      "text/plain": [
       "+-----------+--------------+-------------------+---------------------+"
      ]
     },
     "metadata": {},
     "output_type": "display_data"
    },
    {
     "data": {
      "text/html": [
       "<pre>| Iteration | Elapsed Time | Training-log_loss | Validation-log_loss |</pre>"
      ],
      "text/plain": [
       "| Iteration | Elapsed Time | Training-log_loss | Validation-log_loss |"
      ]
     },
     "metadata": {},
     "output_type": "display_data"
    },
    {
     "data": {
      "text/html": [
       "<pre>+-----------+--------------+-------------------+---------------------+</pre>"
      ],
      "text/plain": [
       "+-----------+--------------+-------------------+---------------------+"
      ]
     },
     "metadata": {},
     "output_type": "display_data"
    },
    {
     "data": {
      "text/html": [
       "<pre>| 1         | 0.230845     | 0.493477          | 0.495552            |</pre>"
      ],
      "text/plain": [
       "| 1         | 0.230845     | 0.493477          | 0.495552            |"
      ]
     },
     "metadata": {},
     "output_type": "display_data"
    },
    {
     "data": {
      "text/html": [
       "<pre>| 2         | 0.414908     | 0.376232          | 0.380815            |</pre>"
      ],
      "text/plain": [
       "| 2         | 0.414908     | 0.376232          | 0.380815            |"
      ]
     },
     "metadata": {},
     "output_type": "display_data"
    },
    {
     "data": {
      "text/html": [
       "<pre>| 3         | 0.605063     | 0.297648          | 0.302185            |</pre>"
      ],
      "text/plain": [
       "| 3         | 0.605063     | 0.297648          | 0.302185            |"
      ]
     },
     "metadata": {},
     "output_type": "display_data"
    },
    {
     "data": {
      "text/html": [
       "<pre>| 4         | 0.786661     | 0.243772          | 0.250030            |</pre>"
      ],
      "text/plain": [
       "| 4         | 0.786661     | 0.243772          | 0.250030            |"
      ]
     },
     "metadata": {},
     "output_type": "display_data"
    },
    {
     "data": {
      "text/html": [
       "<pre>| 5         | 0.968765     | 0.205906          | 0.215134            |</pre>"
      ],
      "text/plain": [
       "| 5         | 0.968765     | 0.205906          | 0.215134            |"
      ]
     },
     "metadata": {},
     "output_type": "display_data"
    },
    {
     "data": {
      "text/html": [
       "<pre>| 6         | 1.168641     | 0.175534          | 0.185588            |</pre>"
      ],
      "text/plain": [
       "| 6         | 1.168641     | 0.175534          | 0.185588            |"
      ]
     },
     "metadata": {},
     "output_type": "display_data"
    },
    {
     "data": {
      "text/html": [
       "<pre>| 10        | 1.938362     | 0.095510          | 0.104336            |</pre>"
      ],
      "text/plain": [
       "| 10        | 1.938362     | 0.095510          | 0.104336            |"
      ]
     },
     "metadata": {},
     "output_type": "display_data"
    },
    {
     "data": {
      "text/html": [
       "<pre>| 11        | 2.127541     | 0.085087          | 0.093787            |</pre>"
      ],
      "text/plain": [
       "| 11        | 2.127541     | 0.085087          | 0.093787            |"
      ]
     },
     "metadata": {},
     "output_type": "display_data"
    },
    {
     "data": {
      "text/html": [
       "<pre>| 20        | 3.777669     | 0.034821          | 0.048936            |</pre>"
      ],
      "text/plain": [
       "| 20        | 3.777669     | 0.034821          | 0.048936            |"
      ]
     },
     "metadata": {},
     "output_type": "display_data"
    },
    {
     "data": {
      "text/html": [
       "<pre>| 30        | 5.628263     | 0.015691          | 0.034244            |</pre>"
      ],
      "text/plain": [
       "| 30        | 5.628263     | 0.015691          | 0.034244            |"
      ]
     },
     "metadata": {},
     "output_type": "display_data"
    },
    {
     "data": {
      "text/html": [
       "<pre>| 40        | 7.466342     | 0.008357          | 0.027513            |</pre>"
      ],
      "text/plain": [
       "| 40        | 7.466342     | 0.008357          | 0.027513            |"
      ]
     },
     "metadata": {},
     "output_type": "display_data"
    },
    {
     "data": {
      "text/html": [
       "<pre>| 50        | 9.340994     | 0.004563          | 0.022520            |</pre>"
      ],
      "text/plain": [
       "| 50        | 9.340994     | 0.004563          | 0.022520            |"
      ]
     },
     "metadata": {},
     "output_type": "display_data"
    },
    {
     "data": {
      "text/html": [
       "<pre>| 51        | 9.542167     | 0.004260          | 0.022162            |</pre>"
      ],
      "text/plain": [
       "| 51        | 9.542167     | 0.004260          | 0.022162            |"
      ]
     },
     "metadata": {},
     "output_type": "display_data"
    },
    {
     "data": {
      "text/html": [
       "<pre>| 60        | 11.172498    | 0.002519          | 0.019203            |</pre>"
      ],
      "text/plain": [
       "| 60        | 11.172498    | 0.002519          | 0.019203            |"
      ]
     },
     "metadata": {},
     "output_type": "display_data"
    },
    {
     "data": {
      "text/html": [
       "<pre>| 70        | 13.159928    | 0.001576          | 0.019292            |</pre>"
      ],
      "text/plain": [
       "| 70        | 13.159928    | 0.001576          | 0.019292            |"
      ]
     },
     "metadata": {},
     "output_type": "display_data"
    },
    {
     "data": {
      "text/html": [
       "<pre>| 80        | 15.629438    | 0.001049          | 0.018516            |</pre>"
      ],
      "text/plain": [
       "| 80        | 15.629438    | 0.001049          | 0.018516            |"
      ]
     },
     "metadata": {},
     "output_type": "display_data"
    },
    {
     "data": {
      "text/html": [
       "<pre>| 90        | 18.106878    | 0.000763          | 0.018058            |</pre>"
      ],
      "text/plain": [
       "| 90        | 18.106878    | 0.000763          | 0.018058            |"
      ]
     },
     "metadata": {},
     "output_type": "display_data"
    },
    {
     "data": {
      "text/html": [
       "<pre>| 100       | 20.460793    | 0.000578          | 0.018453            |</pre>"
      ],
      "text/plain": [
       "| 100       | 20.460793    | 0.000578          | 0.018453            |"
      ]
     },
     "metadata": {},
     "output_type": "display_data"
    },
    {
     "data": {
      "text/html": [
       "<pre>+-----------+--------------+-------------------+---------------------+</pre>"
      ],
      "text/plain": [
       "+-----------+--------------+-------------------+---------------------+"
      ]
     },
     "metadata": {},
     "output_type": "display_data"
    }
   ],
   "source": [
    "# create c9 binary classifier\n",
    "c9_boost_model = graphlab.boosted_trees_classifier.create(train_imgs_df, target='c9', features=train_features, max_iterations=100,\n",
    "                                                         row_subsample=0.7, column_subsample=0.3, random_seed=10, metric='log_loss')\n",
    "c9_prediction = c9_boost_model.predict_topk(train_imgs, k=2)\n",
    "c9_prediction_pivot = sframe_pivot(c9_prediction)"
   ]
  },
  {
   "cell_type": "code",
   "execution_count": 85,
   "metadata": {
    "collapsed": false
   },
   "outputs": [],
   "source": [
    "threshold = 0.4\n",
    "c0_pred = [1 if prob > threshold else 0 for prob in list(c0_prediction_pivot['1'])]\n",
    "c1_pred = [1 if prob > threshold else 0 for prob in list(c1_prediction_pivot['1'])]\n",
    "c2_pred = [1 if prob > threshold else 0 for prob in list(c2_prediction_pivot['1'])]\n",
    "c3_pred = [1 if prob > threshold else 0 for prob in list(c3_prediction_pivot['1'])]\n",
    "c4_pred = [1 if prob > threshold else 0 for prob in list(c4_prediction_pivot['1'])]\n",
    "c5_pred = [1 if prob > threshold else 0 for prob in list(c5_prediction_pivot['1'])]\n",
    "c6_pred = [1 if prob > threshold else 0 for prob in list(c6_prediction_pivot['1'])]\n",
    "c7_pred = [1 if prob > threshold else 0 for prob in list(c7_prediction_pivot['1'])]\n",
    "c8_pred = [1 if prob > threshold else 0 for prob in list(c8_prediction_pivot['1'])]\n",
    "c9_pred = [1 if prob > threshold else 0 for prob in list(c9_prediction_pivot['1'])]\n",
    "dummy_pred_unensemble = graphlab.SFrame({'c0':c0_pred, 'c1':c1_pred, 'c2':c2_pred, 'c3':c3_pred, 'c4':c4_pred, 'c5':c5_pred,\n",
    "                                    'c6':c6_pred, 'c7':c7_pred, 'c8':c8_pred, 'c9':c9_pred})"
   ]
  },
  {
   "cell_type": "code",
   "execution_count": 68,
   "metadata": {
    "collapsed": false
   },
   "outputs": [],
   "source": [
    "dummy_pred_unensemble.save('../output/9_binary_classifier.csv')"
   ]
  },
  {
   "cell_type": "code",
   "execution_count": 97,
   "metadata": {
    "collapsed": false
   },
   "outputs": [
    {
     "data": {
      "text/html": [
       "<div style=\"max-height:1000px;max-width:1500px;overflow:auto;\"><table frame=\"box\" rules=\"cols\">\n",
       "    <tr>\n",
       "        <th style=\"padding-left: 1em; padding-right: 1em; text-align: center\">c0</th>\n",
       "        <th style=\"padding-left: 1em; padding-right: 1em; text-align: center\">c1</th>\n",
       "        <th style=\"padding-left: 1em; padding-right: 1em; text-align: center\">c2</th>\n",
       "        <th style=\"padding-left: 1em; padding-right: 1em; text-align: center\">c3</th>\n",
       "        <th style=\"padding-left: 1em; padding-right: 1em; text-align: center\">c4</th>\n",
       "        <th style=\"padding-left: 1em; padding-right: 1em; text-align: center\">c5</th>\n",
       "        <th style=\"padding-left: 1em; padding-right: 1em; text-align: center\">c6</th>\n",
       "        <th style=\"padding-left: 1em; padding-right: 1em; text-align: center\">c7</th>\n",
       "        <th style=\"padding-left: 1em; padding-right: 1em; text-align: center\">c8</th>\n",
       "        <th style=\"padding-left: 1em; padding-right: 1em; text-align: center\">c9</th>\n",
       "    </tr>\n",
       "    <tr>\n",
       "        <td style=\"padding-left: 1em; padding-right: 1em; text-align: center; vertical-align: top\">0</td>\n",
       "        <td style=\"padding-left: 1em; padding-right: 1em; text-align: center; vertical-align: top\">0</td>\n",
       "        <td style=\"padding-left: 1em; padding-right: 1em; text-align: center; vertical-align: top\">1</td>\n",
       "        <td style=\"padding-left: 1em; padding-right: 1em; text-align: center; vertical-align: top\">0</td>\n",
       "        <td style=\"padding-left: 1em; padding-right: 1em; text-align: center; vertical-align: top\">0</td>\n",
       "        <td style=\"padding-left: 1em; padding-right: 1em; text-align: center; vertical-align: top\">0</td>\n",
       "        <td style=\"padding-left: 1em; padding-right: 1em; text-align: center; vertical-align: top\">0</td>\n",
       "        <td style=\"padding-left: 1em; padding-right: 1em; text-align: center; vertical-align: top\">0</td>\n",
       "        <td style=\"padding-left: 1em; padding-right: 1em; text-align: center; vertical-align: top\">0</td>\n",
       "        <td style=\"padding-left: 1em; padding-right: 1em; text-align: center; vertical-align: top\">0</td>\n",
       "    </tr>\n",
       "    <tr>\n",
       "        <td style=\"padding-left: 1em; padding-right: 1em; text-align: center; vertical-align: top\">0</td>\n",
       "        <td style=\"padding-left: 1em; padding-right: 1em; text-align: center; vertical-align: top\">0</td>\n",
       "        <td style=\"padding-left: 1em; padding-right: 1em; text-align: center; vertical-align: top\">0</td>\n",
       "        <td style=\"padding-left: 1em; padding-right: 1em; text-align: center; vertical-align: top\">0</td>\n",
       "        <td style=\"padding-left: 1em; padding-right: 1em; text-align: center; vertical-align: top\">0</td>\n",
       "        <td style=\"padding-left: 1em; padding-right: 1em; text-align: center; vertical-align: top\">0</td>\n",
       "        <td style=\"padding-left: 1em; padding-right: 1em; text-align: center; vertical-align: top\">0</td>\n",
       "        <td style=\"padding-left: 1em; padding-right: 1em; text-align: center; vertical-align: top\">0</td>\n",
       "        <td style=\"padding-left: 1em; padding-right: 1em; text-align: center; vertical-align: top\">1</td>\n",
       "        <td style=\"padding-left: 1em; padding-right: 1em; text-align: center; vertical-align: top\">0</td>\n",
       "    </tr>\n",
       "    <tr>\n",
       "        <td style=\"padding-left: 1em; padding-right: 1em; text-align: center; vertical-align: top\">0</td>\n",
       "        <td style=\"padding-left: 1em; padding-right: 1em; text-align: center; vertical-align: top\">0</td>\n",
       "        <td style=\"padding-left: 1em; padding-right: 1em; text-align: center; vertical-align: top\">0</td>\n",
       "        <td style=\"padding-left: 1em; padding-right: 1em; text-align: center; vertical-align: top\">0</td>\n",
       "        <td style=\"padding-left: 1em; padding-right: 1em; text-align: center; vertical-align: top\">1</td>\n",
       "        <td style=\"padding-left: 1em; padding-right: 1em; text-align: center; vertical-align: top\">0</td>\n",
       "        <td style=\"padding-left: 1em; padding-right: 1em; text-align: center; vertical-align: top\">0</td>\n",
       "        <td style=\"padding-left: 1em; padding-right: 1em; text-align: center; vertical-align: top\">0</td>\n",
       "        <td style=\"padding-left: 1em; padding-right: 1em; text-align: center; vertical-align: top\">0</td>\n",
       "        <td style=\"padding-left: 1em; padding-right: 1em; text-align: center; vertical-align: top\">0</td>\n",
       "    </tr>\n",
       "    <tr>\n",
       "        <td style=\"padding-left: 1em; padding-right: 1em; text-align: center; vertical-align: top\">0</td>\n",
       "        <td style=\"padding-left: 1em; padding-right: 1em; text-align: center; vertical-align: top\">0</td>\n",
       "        <td style=\"padding-left: 1em; padding-right: 1em; text-align: center; vertical-align: top\">1</td>\n",
       "        <td style=\"padding-left: 1em; padding-right: 1em; text-align: center; vertical-align: top\">0</td>\n",
       "        <td style=\"padding-left: 1em; padding-right: 1em; text-align: center; vertical-align: top\">0</td>\n",
       "        <td style=\"padding-left: 1em; padding-right: 1em; text-align: center; vertical-align: top\">0</td>\n",
       "        <td style=\"padding-left: 1em; padding-right: 1em; text-align: center; vertical-align: top\">0</td>\n",
       "        <td style=\"padding-left: 1em; padding-right: 1em; text-align: center; vertical-align: top\">0</td>\n",
       "        <td style=\"padding-left: 1em; padding-right: 1em; text-align: center; vertical-align: top\">0</td>\n",
       "        <td style=\"padding-left: 1em; padding-right: 1em; text-align: center; vertical-align: top\">0</td>\n",
       "    </tr>\n",
       "    <tr>\n",
       "        <td style=\"padding-left: 1em; padding-right: 1em; text-align: center; vertical-align: top\">0</td>\n",
       "        <td style=\"padding-left: 1em; padding-right: 1em; text-align: center; vertical-align: top\">0</td>\n",
       "        <td style=\"padding-left: 1em; padding-right: 1em; text-align: center; vertical-align: top\">0</td>\n",
       "        <td style=\"padding-left: 1em; padding-right: 1em; text-align: center; vertical-align: top\">1</td>\n",
       "        <td style=\"padding-left: 1em; padding-right: 1em; text-align: center; vertical-align: top\">0</td>\n",
       "        <td style=\"padding-left: 1em; padding-right: 1em; text-align: center; vertical-align: top\">0</td>\n",
       "        <td style=\"padding-left: 1em; padding-right: 1em; text-align: center; vertical-align: top\">0</td>\n",
       "        <td style=\"padding-left: 1em; padding-right: 1em; text-align: center; vertical-align: top\">0</td>\n",
       "        <td style=\"padding-left: 1em; padding-right: 1em; text-align: center; vertical-align: top\">0</td>\n",
       "        <td style=\"padding-left: 1em; padding-right: 1em; text-align: center; vertical-align: top\">0</td>\n",
       "    </tr>\n",
       "    <tr>\n",
       "        <td style=\"padding-left: 1em; padding-right: 1em; text-align: center; vertical-align: top\">0</td>\n",
       "        <td style=\"padding-left: 1em; padding-right: 1em; text-align: center; vertical-align: top\">0</td>\n",
       "        <td style=\"padding-left: 1em; padding-right: 1em; text-align: center; vertical-align: top\">0</td>\n",
       "        <td style=\"padding-left: 1em; padding-right: 1em; text-align: center; vertical-align: top\">0</td>\n",
       "        <td style=\"padding-left: 1em; padding-right: 1em; text-align: center; vertical-align: top\">0</td>\n",
       "        <td style=\"padding-left: 1em; padding-right: 1em; text-align: center; vertical-align: top\">0</td>\n",
       "        <td style=\"padding-left: 1em; padding-right: 1em; text-align: center; vertical-align: top\">1</td>\n",
       "        <td style=\"padding-left: 1em; padding-right: 1em; text-align: center; vertical-align: top\">0</td>\n",
       "        <td style=\"padding-left: 1em; padding-right: 1em; text-align: center; vertical-align: top\">0</td>\n",
       "        <td style=\"padding-left: 1em; padding-right: 1em; text-align: center; vertical-align: top\">0</td>\n",
       "    </tr>\n",
       "    <tr>\n",
       "        <td style=\"padding-left: 1em; padding-right: 1em; text-align: center; vertical-align: top\">0</td>\n",
       "        <td style=\"padding-left: 1em; padding-right: 1em; text-align: center; vertical-align: top\">0</td>\n",
       "        <td style=\"padding-left: 1em; padding-right: 1em; text-align: center; vertical-align: top\">0</td>\n",
       "        <td style=\"padding-left: 1em; padding-right: 1em; text-align: center; vertical-align: top\">0</td>\n",
       "        <td style=\"padding-left: 1em; padding-right: 1em; text-align: center; vertical-align: top\">0</td>\n",
       "        <td style=\"padding-left: 1em; padding-right: 1em; text-align: center; vertical-align: top\">1</td>\n",
       "        <td style=\"padding-left: 1em; padding-right: 1em; text-align: center; vertical-align: top\">0</td>\n",
       "        <td style=\"padding-left: 1em; padding-right: 1em; text-align: center; vertical-align: top\">0</td>\n",
       "        <td style=\"padding-left: 1em; padding-right: 1em; text-align: center; vertical-align: top\">0</td>\n",
       "        <td style=\"padding-left: 1em; padding-right: 1em; text-align: center; vertical-align: top\">0</td>\n",
       "    </tr>\n",
       "    <tr>\n",
       "        <td style=\"padding-left: 1em; padding-right: 1em; text-align: center; vertical-align: top\">0</td>\n",
       "        <td style=\"padding-left: 1em; padding-right: 1em; text-align: center; vertical-align: top\">0</td>\n",
       "        <td style=\"padding-left: 1em; padding-right: 1em; text-align: center; vertical-align: top\">0</td>\n",
       "        <td style=\"padding-left: 1em; padding-right: 1em; text-align: center; vertical-align: top\">0</td>\n",
       "        <td style=\"padding-left: 1em; padding-right: 1em; text-align: center; vertical-align: top\">0</td>\n",
       "        <td style=\"padding-left: 1em; padding-right: 1em; text-align: center; vertical-align: top\">1</td>\n",
       "        <td style=\"padding-left: 1em; padding-right: 1em; text-align: center; vertical-align: top\">0</td>\n",
       "        <td style=\"padding-left: 1em; padding-right: 1em; text-align: center; vertical-align: top\">0</td>\n",
       "        <td style=\"padding-left: 1em; padding-right: 1em; text-align: center; vertical-align: top\">0</td>\n",
       "        <td style=\"padding-left: 1em; padding-right: 1em; text-align: center; vertical-align: top\">0</td>\n",
       "    </tr>\n",
       "    <tr>\n",
       "        <td style=\"padding-left: 1em; padding-right: 1em; text-align: center; vertical-align: top\">0</td>\n",
       "        <td style=\"padding-left: 1em; padding-right: 1em; text-align: center; vertical-align: top\">0</td>\n",
       "        <td style=\"padding-left: 1em; padding-right: 1em; text-align: center; vertical-align: top\">0</td>\n",
       "        <td style=\"padding-left: 1em; padding-right: 1em; text-align: center; vertical-align: top\">0</td>\n",
       "        <td style=\"padding-left: 1em; padding-right: 1em; text-align: center; vertical-align: top\">0</td>\n",
       "        <td style=\"padding-left: 1em; padding-right: 1em; text-align: center; vertical-align: top\">1</td>\n",
       "        <td style=\"padding-left: 1em; padding-right: 1em; text-align: center; vertical-align: top\">0</td>\n",
       "        <td style=\"padding-left: 1em; padding-right: 1em; text-align: center; vertical-align: top\">0</td>\n",
       "        <td style=\"padding-left: 1em; padding-right: 1em; text-align: center; vertical-align: top\">0</td>\n",
       "        <td style=\"padding-left: 1em; padding-right: 1em; text-align: center; vertical-align: top\">0</td>\n",
       "    </tr>\n",
       "    <tr>\n",
       "        <td style=\"padding-left: 1em; padding-right: 1em; text-align: center; vertical-align: top\">0</td>\n",
       "        <td style=\"padding-left: 1em; padding-right: 1em; text-align: center; vertical-align: top\">0</td>\n",
       "        <td style=\"padding-left: 1em; padding-right: 1em; text-align: center; vertical-align: top\">1</td>\n",
       "        <td style=\"padding-left: 1em; padding-right: 1em; text-align: center; vertical-align: top\">0</td>\n",
       "        <td style=\"padding-left: 1em; padding-right: 1em; text-align: center; vertical-align: top\">0</td>\n",
       "        <td style=\"padding-left: 1em; padding-right: 1em; text-align: center; vertical-align: top\">0</td>\n",
       "        <td style=\"padding-left: 1em; padding-right: 1em; text-align: center; vertical-align: top\">0</td>\n",
       "        <td style=\"padding-left: 1em; padding-right: 1em; text-align: center; vertical-align: top\">0</td>\n",
       "        <td style=\"padding-left: 1em; padding-right: 1em; text-align: center; vertical-align: top\">0</td>\n",
       "        <td style=\"padding-left: 1em; padding-right: 1em; text-align: center; vertical-align: top\">0</td>\n",
       "    </tr>\n",
       "</table>\n",
       "[22424 rows x 10 columns]<br/>Note: Only the head of the SFrame is printed.<br/>You can use print_rows(num_rows=m, num_columns=n) to print more rows and columns.\n",
       "</div>"
      ],
      "text/plain": [
       "Columns:\n",
       "\tc0\tint\n",
       "\tc1\tint\n",
       "\tc2\tint\n",
       "\tc3\tint\n",
       "\tc4\tint\n",
       "\tc5\tint\n",
       "\tc6\tint\n",
       "\tc7\tint\n",
       "\tc8\tint\n",
       "\tc9\tint\n",
       "\n",
       "Rows: 22424\n",
       "\n",
       "Data:\n",
       "+----+----+----+----+----+----+----+----+----+----+\n",
       "| c0 | c1 | c2 | c3 | c4 | c5 | c6 | c7 | c8 | c9 |\n",
       "+----+----+----+----+----+----+----+----+----+----+\n",
       "| 0  | 0  | 1  | 0  | 0  | 0  | 0  | 0  | 0  | 0  |\n",
       "| 0  | 0  | 0  | 0  | 0  | 0  | 0  | 0  | 1  | 0  |\n",
       "| 0  | 0  | 0  | 0  | 1  | 0  | 0  | 0  | 0  | 0  |\n",
       "| 0  | 0  | 1  | 0  | 0  | 0  | 0  | 0  | 0  | 0  |\n",
       "| 0  | 0  | 0  | 1  | 0  | 0  | 0  | 0  | 0  | 0  |\n",
       "| 0  | 0  | 0  | 0  | 0  | 0  | 1  | 0  | 0  | 0  |\n",
       "| 0  | 0  | 0  | 0  | 0  | 1  | 0  | 0  | 0  | 0  |\n",
       "| 0  | 0  | 0  | 0  | 0  | 1  | 0  | 0  | 0  | 0  |\n",
       "| 0  | 0  | 0  | 0  | 0  | 1  | 0  | 0  | 0  | 0  |\n",
       "| 0  | 0  | 1  | 0  | 0  | 0  | 0  | 0  | 0  | 0  |\n",
       "+----+----+----+----+----+----+----+----+----+----+\n",
       "[22424 rows x 10 columns]\n",
       "Note: Only the head of the SFrame is printed.\n",
       "You can use print_rows(num_rows=m, num_columns=n) to print more rows and columns."
      ]
     },
     "execution_count": 97,
     "metadata": {},
     "output_type": "execute_result"
    }
   ],
   "source": [
    "dummy_pred_unensemble"
   ]
  },
  {
   "cell_type": "code",
   "execution_count": 96,
   "metadata": {
    "collapsed": false
   },
   "outputs": [
    {
     "data": {
      "text/plain": [
       "0.009241556295463079"
      ]
     },
     "execution_count": 96,
     "metadata": {},
     "output_type": "execute_result"
    }
   ],
   "source": [
    "graphlab.evaluation.log_loss(graphlab.SArray(dummy_variable_sf['c9']), graphlab.SArray(c9_pred))"
   ]
  },
  {
   "cell_type": "code",
   "execution_count": 16,
   "metadata": {
    "collapsed": false
   },
   "outputs": [],
   "source": [
    "folds = graphlab.cross_validation.KFold(train_imgs_df, 5)"
   ]
  },
  {
   "cell_type": "code",
   "execution_count": 17,
   "metadata": {
    "collapsed": false,
    "scrolled": false
   },
   "outputs": [],
   "source": [
    "#for train, test in folds:\n",
    "    # create c0 binary classifier\n",
    "    #c0_boost_model = graphlab.boosted_trees_classifier.create(train, target='c0', features=train_features, max_iterations=100, max_depth=6, step_size=0.3, min_child_weight=0.3, min_loss_reduction=0,\n",
    "                                                         #row_subsample=0.1, column_subsample=0.2, random_seed=10, metric='log_loss', validation_set=None, verbose=False)\n",
    "    # c0 prediction\n",
    "    #eva = c0_boost_model.evaluate(test)\n",
    "    #print eva['log_loss']\n",
    "    #print eva['confusion_matrix']\n",
    "    "
   ]
  },
  {
   "cell_type": "code",
   "execution_count": null,
   "metadata": {
    "collapsed": false,
    "scrolled": false
   },
   "outputs": [
    {
     "name": "stderr",
     "output_type": "stream",
     "text": [
      "2016-04-24 02:05:29,192 [ERROR] graphlab.toolkits._main, 66: Toolkit error: Canceled by user\n"
     ]
    },
    {
     "ename": "ToolkitError",
     "evalue": "Canceled by user",
     "output_type": "error",
     "traceback": [
      "\u001b[0;31m---------------------------------------------------------------------------\u001b[0m",
      "\u001b[0;31mToolkitError\u001b[0m                              Traceback (most recent call last)",
      "\u001b[0;32m<ipython-input-37-94c711c6df35>\u001b[0m in \u001b[0;36m<module>\u001b[0;34m()\u001b[0m\n\u001b[1;32m      5\u001b[0m         \u001b[0;31m# create c3 binary classifier\u001b[0m\u001b[0;34m\u001b[0m\u001b[0;34m\u001b[0m\u001b[0m\n\u001b[1;32m      6\u001b[0m         c9_boost_model = graphlab.boosted_trees_classifier.create(train, target='c9', features=train_features, max_iterations=100, max_depth=10, step_size=0.2, min_child_weight=0.1, min_loss_reduction=i,\n\u001b[0;32m----> 7\u001b[0;31m                                                                  class_weights={0:1, 1:50}, row_subsample= 0.7, column_subsample=0.7, random_seed=10, metric='log_loss', validation_set=None, verbose=False)\n\u001b[0m\u001b[1;32m      8\u001b[0m         \u001b[0;31m# c0 prediction\u001b[0m\u001b[0;34m\u001b[0m\u001b[0;34m\u001b[0m\u001b[0m\n\u001b[1;32m      9\u001b[0m         \u001b[0meva\u001b[0m \u001b[0;34m=\u001b[0m \u001b[0mc9_boost_model\u001b[0m\u001b[0;34m.\u001b[0m\u001b[0mevaluate\u001b[0m\u001b[0;34m(\u001b[0m\u001b[0mtest\u001b[0m\u001b[0;34m)\u001b[0m\u001b[0;34m\u001b[0m\u001b[0m\n",
      "\u001b[0;32m/Users/voelunteer/anaconda/lib/python2.7/site-packages/graphlab/toolkits/classifier/boosted_trees_classifier.pyc\u001b[0m in \u001b[0;36mcreate\u001b[0;34m(dataset, target, features, max_iterations, validation_set, class_weights, max_depth, step_size, min_loss_reduction, min_child_weight, row_subsample, column_subsample, verbose, random_seed, metric, **kwargs)\u001b[0m\n\u001b[1;32m    666\u001b[0m                         \u001b[0mverbose\u001b[0m \u001b[0;34m=\u001b[0m \u001b[0mverbose\u001b[0m\u001b[0;34m,\u001b[0m\u001b[0;34m\u001b[0m\u001b[0m\n\u001b[1;32m    667\u001b[0m                         \u001b[0mmetric\u001b[0m \u001b[0;34m=\u001b[0m \u001b[0mmetric\u001b[0m\u001b[0;34m,\u001b[0m\u001b[0;34m\u001b[0m\u001b[0m\n\u001b[0;32m--> 668\u001b[0;31m                         **kwargs)\n\u001b[0m\u001b[1;32m    669\u001b[0m     \u001b[0;32mreturn\u001b[0m \u001b[0mBoostedTreesClassifier\u001b[0m\u001b[0;34m(\u001b[0m\u001b[0mmodel\u001b[0m\u001b[0;34m.\u001b[0m\u001b[0m__proxy__\u001b[0m\u001b[0;34m)\u001b[0m\u001b[0;34m\u001b[0m\u001b[0m\n",
      "\u001b[0;32m/Users/voelunteer/anaconda/lib/python2.7/site-packages/graphlab/toolkits/_supervised_learning.pyc\u001b[0m in \u001b[0;36mcreate\u001b[0;34m(dataset, target, model_name, features, validation_set, verbose, distributed, **kwargs)\u001b[0m\n\u001b[1;32m    451\u001b[0m     \u001b[0;32melse\u001b[0m\u001b[0;34m:\u001b[0m\u001b[0;34m\u001b[0m\u001b[0m\n\u001b[1;32m    452\u001b[0m         ret = _graphlab.toolkits._main.run(\"supervised_learning_train\",\n\u001b[0;32m--> 453\u001b[0;31m                                            options, verbose)\n\u001b[0m\u001b[1;32m    454\u001b[0m         \u001b[0mmodel\u001b[0m \u001b[0;34m=\u001b[0m \u001b[0mSupervisedLearningModel\u001b[0m\u001b[0;34m(\u001b[0m\u001b[0mret\u001b[0m\u001b[0;34m[\u001b[0m\u001b[0;34m'model'\u001b[0m\u001b[0;34m]\u001b[0m\u001b[0;34m,\u001b[0m \u001b[0mmodel_name\u001b[0m\u001b[0;34m)\u001b[0m\u001b[0;34m\u001b[0m\u001b[0m\n\u001b[1;32m    455\u001b[0m \u001b[0;34m\u001b[0m\u001b[0m\n",
      "\u001b[0;32m/Users/voelunteer/anaconda/lib/python2.7/site-packages/graphlab/toolkits/_main.pyc\u001b[0m in \u001b[0;36mrun\u001b[0;34m(toolkit_name, options, verbose, show_progress)\u001b[0m\n\u001b[1;32m     87\u001b[0m         \u001b[0m_get_metric_tracker\u001b[0m\u001b[0;34m(\u001b[0m\u001b[0;34m)\u001b[0m\u001b[0;34m.\u001b[0m\u001b[0mtrack\u001b[0m\u001b[0;34m(\u001b[0m\u001b[0mmetric_name\u001b[0m\u001b[0;34m,\u001b[0m \u001b[0mvalue\u001b[0m\u001b[0;34m=\u001b[0m\u001b[0;36m1\u001b[0m\u001b[0;34m,\u001b[0m \u001b[0mproperties\u001b[0m\u001b[0;34m=\u001b[0m\u001b[0mtrack_props\u001b[0m\u001b[0;34m,\u001b[0m \u001b[0msend_sys_info\u001b[0m\u001b[0;34m=\u001b[0m\u001b[0mFalse\u001b[0m\u001b[0;34m)\u001b[0m\u001b[0;34m\u001b[0m\u001b[0m\n\u001b[1;32m     88\u001b[0m \u001b[0;34m\u001b[0m\u001b[0m\n\u001b[0;32m---> 89\u001b[0;31m         \u001b[0;32mraise\u001b[0m \u001b[0mToolkitError\u001b[0m\u001b[0;34m(\u001b[0m\u001b[0mstr\u001b[0m\u001b[0;34m(\u001b[0m\u001b[0mmessage\u001b[0m\u001b[0;34m)\u001b[0m\u001b[0;34m)\u001b[0m\u001b[0;34m\u001b[0m\u001b[0m\n\u001b[0m",
      "\u001b[0;31mToolkitError\u001b[0m: Canceled by user"
     ]
    },
    {
     "name": "stderr",
     "output_type": "stream",
     "text": [
      "2016-04-24 02:05:29,321 [ERROR] tornado.general, 417: Uncaught exception, closing connection.\n",
      "Traceback (most recent call last):\n",
      "  File \"/Users/voelunteer/anaconda/lib/python2.7/site-packages/zmq/eventloop/zmqstream.py\", line 414, in _run_callback\n",
      "    callback(*args, **kwargs)\n",
      "  File \"/Users/voelunteer/anaconda/lib/python2.7/site-packages/tornado/stack_context.py\", line 275, in null_wrapper\n",
      "    return fn(*args, **kwargs)\n",
      "  File \"/Users/voelunteer/anaconda/lib/python2.7/site-packages/ipykernel/kernelbase.py\", line 276, in dispatcher\n",
      "    return self.dispatch_shell(stream, msg)\n",
      "  File \"/Users/voelunteer/anaconda/lib/python2.7/site-packages/ipykernel/kernelbase.py\", line 228, in dispatch_shell\n",
      "    handler(stream, idents, msg)\n",
      "  File \"/Users/voelunteer/anaconda/lib/python2.7/site-packages/ipykernel/kernelbase.py\", line 413, in execute_request\n",
      "    self._abort_queues()\n",
      "  File \"/Users/voelunteer/anaconda/lib/python2.7/site-packages/ipykernel/kernelbase.py\", line 626, in _abort_queues\n",
      "    self._abort_queue(stream)\n",
      "  File \"/Users/voelunteer/anaconda/lib/python2.7/site-packages/ipykernel/kernelbase.py\", line 649, in _abort_queue\n",
      "    poller.poll(50)\n",
      "  File \"/Users/voelunteer/anaconda/lib/python2.7/site-packages/zmq/sugar/poll.py\", line 99, in poll\n",
      "    return zmq_poll(self.sockets, timeout=timeout)\n",
      "  File \"zmq/backend/cython/_poll.pyx\", line 115, in zmq.backend.cython._poll.zmq_poll (zmq/backend/cython/_poll.c:1705)\n",
      "  File \"zmq/backend/cython/checkrc.pxd\", line 12, in zmq.backend.cython.checkrc._check_rc (zmq/backend/cython/_poll.c:2084)\n",
      "    PyErr_CheckSignals()\n",
      "KeyboardInterrupt\n",
      "2016-04-24 02:05:29,335 [ERROR] tornado.general, 452: Uncaught exception, closing connection.\n",
      "Traceback (most recent call last):\n",
      "  File \"/Users/voelunteer/anaconda/lib/python2.7/site-packages/zmq/eventloop/zmqstream.py\", line 440, in _handle_events\n",
      "    self._handle_recv()\n",
      "  File \"/Users/voelunteer/anaconda/lib/python2.7/site-packages/zmq/eventloop/zmqstream.py\", line 472, in _handle_recv\n",
      "    self._run_callback(callback, msg)\n",
      "  File \"/Users/voelunteer/anaconda/lib/python2.7/site-packages/zmq/eventloop/zmqstream.py\", line 414, in _run_callback\n",
      "    callback(*args, **kwargs)\n",
      "  File \"/Users/voelunteer/anaconda/lib/python2.7/site-packages/tornado/stack_context.py\", line 275, in null_wrapper\n",
      "    return fn(*args, **kwargs)\n",
      "  File \"/Users/voelunteer/anaconda/lib/python2.7/site-packages/ipykernel/kernelbase.py\", line 276, in dispatcher\n",
      "    return self.dispatch_shell(stream, msg)\n",
      "  File \"/Users/voelunteer/anaconda/lib/python2.7/site-packages/ipykernel/kernelbase.py\", line 228, in dispatch_shell\n",
      "    handler(stream, idents, msg)\n",
      "  File \"/Users/voelunteer/anaconda/lib/python2.7/site-packages/ipykernel/kernelbase.py\", line 413, in execute_request\n",
      "    self._abort_queues()\n",
      "  File \"/Users/voelunteer/anaconda/lib/python2.7/site-packages/ipykernel/kernelbase.py\", line 626, in _abort_queues\n",
      "    self._abort_queue(stream)\n",
      "  File \"/Users/voelunteer/anaconda/lib/python2.7/site-packages/ipykernel/kernelbase.py\", line 649, in _abort_queue\n",
      "    poller.poll(50)\n",
      "  File \"/Users/voelunteer/anaconda/lib/python2.7/site-packages/zmq/sugar/poll.py\", line 99, in poll\n",
      "    return zmq_poll(self.sockets, timeout=timeout)\n",
      "  File \"zmq/backend/cython/_poll.pyx\", line 115, in zmq.backend.cython._poll.zmq_poll (zmq/backend/cython/_poll.c:1705)\n",
      "  File \"zmq/backend/cython/checkrc.pxd\", line 12, in zmq.backend.cython.checkrc._check_rc (zmq/backend/cython/_poll.c:2084)\n",
      "    PyErr_CheckSignals()\n",
      "KeyboardInterrupt\n"
     ]
    }
   ],
   "source": [
    "for i in [0, 0.01, 0.1, 0.25, 0.5, 1, 10, 100]:\n",
    "    log_loss = {}\n",
    "    log_loss[i] = 0\n",
    "    for train, test in folds:\n",
    "        # create c3 binary classifier\n",
    "        c9_boost_model = graphlab.boosted_trees_classifier.create(train, target='c9', features=train_features, max_iterations=100, max_depth=10, step_size=0.2, min_child_weight=0.1, min_loss_reduction=i,\n",
    "                                                                 class_weights={0:1, 1:50}, row_subsample= 0.7, column_subsample=0.7, random_seed=10, metric='log_loss', validation_set=None, verbose=False)\n",
    "        # c0 prediction\n",
    "        eva = c9_boost_model.evaluate(test)\n",
    "        log_loss[i] += eva['log_loss']\n",
    "    print \"###########\"\n",
    "    print i\n",
    "    print log_loss[i]\n",
    "        \n",
    "        "
   ]
  },
  {
   "cell_type": "code",
   "execution_count": null,
   "metadata": {
    "collapsed": true
   },
   "outputs": [],
   "source": []
  }
 ],
 "metadata": {
  "kernelspec": {
   "display_name": "Python 2",
   "language": "python",
   "name": "python2"
  },
  "language_info": {
   "codemirror_mode": {
    "name": "ipython",
    "version": 2
   },
   "file_extension": ".py",
   "mimetype": "text/x-python",
   "name": "python",
   "nbconvert_exporter": "python",
   "pygments_lexer": "ipython2",
   "version": "2.7.11"
  }
 },
 "nbformat": 4,
 "nbformat_minor": 0
}
