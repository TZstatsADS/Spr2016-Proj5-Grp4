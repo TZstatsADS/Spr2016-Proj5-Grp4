{
 "cells": [
  {
   "cell_type": "code",
   "execution_count": 1,
   "metadata": {
    "collapsed": true
   },
   "outputs": [],
   "source": [
    "import graphlab"
   ]
  },
  {
   "cell_type": "code",
   "execution_count": 2,
   "metadata": {
    "collapsed": true
   },
   "outputs": [],
   "source": [
    "import pandas as pd"
   ]
  },
  {
   "cell_type": "code",
   "execution_count": 3,
   "metadata": {
    "collapsed": false
   },
   "outputs": [
    {
     "name": "stderr",
     "output_type": "stream",
     "text": [
      "2016-04-21 13:53:55,159 [INFO] graphlab.cython.cy_server, 176: GraphLab Create v1.8.5 started. Logging: /tmp/graphlab_server_1461261233.log\n"
     ]
    },
    {
     "name": "stdout",
     "output_type": "stream",
     "text": [
      "This non-commercial license of GraphLab Create is assigned to voelunteer@gmail.com and will expire on December 23, 2016. For commercial licensing options, visit https://dato.com/buy/.\n"
     ]
    },
    {
     "data": {
      "text/html": [
       "<pre>Finished parsing file /Users/voelunteer/Project/Kaggle/StateFarm/output/test_imgs.csv</pre>"
      ],
      "text/plain": [
       "Finished parsing file /Users/voelunteer/Project/Kaggle/StateFarm/output/test_imgs.csv"
      ]
     },
     "metadata": {},
     "output_type": "display_data"
    },
    {
     "data": {
      "text/html": [
       "<pre>Parsing completed. Parsed 100 lines in 1.48231 secs.</pre>"
      ],
      "text/plain": [
       "Parsing completed. Parsed 100 lines in 1.48231 secs."
      ]
     },
     "metadata": {},
     "output_type": "display_data"
    },
    {
     "name": "stdout",
     "output_type": "stream",
     "text": [
      "------------------------------------------------------\n",
      "Inferred types from first line of file as \n",
      "column_type_hints=[str,str,str,array]\n",
      "If parsing fails due to incorrect types, you can correct\n",
      "the inferred type list above and pass it to read_csv in\n",
      "the column_type_hints argument\n",
      "------------------------------------------------------\n"
     ]
    },
    {
     "data": {
      "text/html": [
       "<pre>Read 3304 lines. Lines per second: 940.099</pre>"
      ],
      "text/plain": [
       "Read 3304 lines. Lines per second: 940.099"
      ]
     },
     "metadata": {},
     "output_type": "display_data"
    },
    {
     "data": {
      "text/html": [
       "<pre>Read 13209 lines. Lines per second: 1314.8</pre>"
      ],
      "text/plain": [
       "Read 13209 lines. Lines per second: 1314.8"
      ]
     },
     "metadata": {},
     "output_type": "display_data"
    },
    {
     "data": {
      "text/html": [
       "<pre>Read 23118 lines. Lines per second: 1396.61</pre>"
      ],
      "text/plain": [
       "Read 23118 lines. Lines per second: 1396.61"
      ]
     },
     "metadata": {},
     "output_type": "display_data"
    },
    {
     "data": {
      "text/html": [
       "<pre>Read 33022 lines. Lines per second: 1427.21</pre>"
      ],
      "text/plain": [
       "Read 33022 lines. Lines per second: 1427.21"
      ]
     },
     "metadata": {},
     "output_type": "display_data"
    },
    {
     "data": {
      "text/html": [
       "<pre>Read 42939 lines. Lines per second: 1441.27</pre>"
      ],
      "text/plain": [
       "Read 42939 lines. Lines per second: 1441.27"
      ]
     },
     "metadata": {},
     "output_type": "display_data"
    },
    {
     "data": {
      "text/html": [
       "<pre>Read 52844 lines. Lines per second: 1448.33</pre>"
      ],
      "text/plain": [
       "Read 52844 lines. Lines per second: 1448.33"
      ]
     },
     "metadata": {},
     "output_type": "display_data"
    },
    {
     "data": {
      "text/html": [
       "<pre>Read 62749 lines. Lines per second: 1432.64</pre>"
      ],
      "text/plain": [
       "Read 62749 lines. Lines per second: 1432.64"
      ]
     },
     "metadata": {},
     "output_type": "display_data"
    },
    {
     "data": {
      "text/html": [
       "<pre>Read 72658 lines. Lines per second: 1428.49</pre>"
      ],
      "text/plain": [
       "Read 72658 lines. Lines per second: 1428.49"
      ]
     },
     "metadata": {},
     "output_type": "display_data"
    },
    {
     "data": {
      "text/html": [
       "<pre>Finished parsing file /Users/voelunteer/Project/Kaggle/StateFarm/output/test_imgs.csv</pre>"
      ],
      "text/plain": [
       "Finished parsing file /Users/voelunteer/Project/Kaggle/StateFarm/output/test_imgs.csv"
      ]
     },
     "metadata": {},
     "output_type": "display_data"
    },
    {
     "data": {
      "text/html": [
       "<pre>Parsing completed. Parsed 79726 lines in 55.4411 secs.</pre>"
      ],
      "text/plain": [
       "Parsing completed. Parsed 79726 lines in 55.4411 secs."
      ]
     },
     "metadata": {},
     "output_type": "display_data"
    }
   ],
   "source": [
    "# train_imgs = graphlab.SFrame('../output/train_imgs.csv')\n",
    "test_imgs = graphlab.SFrame('../output/test_imgs.csv')"
   ]
  },
  {
   "cell_type": "code",
   "execution_count": 4,
   "metadata": {
    "collapsed": true
   },
   "outputs": [],
   "source": [
    "# folds = graphlab.cross_validation.KFold(train_imgs, 5)"
   ]
  },
  {
   "cell_type": "code",
   "execution_count": 5,
   "metadata": {
    "collapsed": false
   },
   "outputs": [],
   "source": [
    "# for train, valid in folds:\n",
    "    # model = graphlab.random_forest_classifier.create(train_imgs, target='label', features=['deep_features'], num_trees=1000,\n",
    "                                                    # validation_set=None, row_subsample=0.3, column_subsample=0.5, random_seed=10)\n",
    "    # print model.evaluate(valid)"
   ]
  },
  {
   "cell_type": "code",
   "execution_count": 6,
   "metadata": {
    "collapsed": true
   },
   "outputs": [],
   "source": [
    "boost_model = graphlab.load_model('../output/boost model')"
   ]
  },
  {
   "cell_type": "code",
   "execution_count": 7,
   "metadata": {
    "collapsed": false
   },
   "outputs": [
    {
     "data": {
      "text/html": [
       "<pre>External memory mode: 5 batches</pre>"
      ],
      "text/plain": [
       "External memory mode: 5 batches"
      ]
     },
     "metadata": {},
     "output_type": "display_data"
    }
   ],
   "source": [
    "prediction = boost_model.predict_topk(test_imgs, k=10)"
   ]
  },
  {
   "cell_type": "code",
   "execution_count": 8,
   "metadata": {
    "collapsed": false
   },
   "outputs": [],
   "source": [
    "prediction['probability'] = prediction['probability'].apply(lambda prob: round(prob, 2))"
   ]
  },
  {
   "cell_type": "code",
   "execution_count": 9,
   "metadata": {
    "collapsed": false
   },
   "outputs": [],
   "source": [
    "# prediction.save('../output/boost_prediction.csv')"
   ]
  },
  {
   "cell_type": "code",
   "execution_count": 10,
   "metadata": {
    "collapsed": true
   },
   "outputs": [],
   "source": [
    "prediction_df = prediction.to_dataframe()"
   ]
  },
  {
   "cell_type": "code",
   "execution_count": 11,
   "metadata": {
    "collapsed": false
   },
   "outputs": [
    {
     "data": {
      "text/html": [
       "<div>\n",
       "<table border=\"1\" class=\"dataframe\">\n",
       "  <thead>\n",
       "    <tr style=\"text-align: right;\">\n",
       "      <th></th>\n",
       "      <th>id</th>\n",
       "      <th>class</th>\n",
       "      <th>probability</th>\n",
       "    </tr>\n",
       "  </thead>\n",
       "  <tbody>\n",
       "    <tr>\n",
       "      <th>0</th>\n",
       "      <td>0</td>\n",
       "      <td>c5</td>\n",
       "      <td>0.70</td>\n",
       "    </tr>\n",
       "    <tr>\n",
       "      <th>1</th>\n",
       "      <td>0</td>\n",
       "      <td>c1</td>\n",
       "      <td>0.07</td>\n",
       "    </tr>\n",
       "    <tr>\n",
       "      <th>2</th>\n",
       "      <td>0</td>\n",
       "      <td>c8</td>\n",
       "      <td>0.21</td>\n",
       "    </tr>\n",
       "    <tr>\n",
       "      <th>3</th>\n",
       "      <td>0</td>\n",
       "      <td>c3</td>\n",
       "      <td>0.01</td>\n",
       "    </tr>\n",
       "    <tr>\n",
       "      <th>4</th>\n",
       "      <td>0</td>\n",
       "      <td>c4</td>\n",
       "      <td>0.00</td>\n",
       "    </tr>\n",
       "    <tr>\n",
       "      <th>5</th>\n",
       "      <td>0</td>\n",
       "      <td>c7</td>\n",
       "      <td>0.00</td>\n",
       "    </tr>\n",
       "    <tr>\n",
       "      <th>6</th>\n",
       "      <td>0</td>\n",
       "      <td>c6</td>\n",
       "      <td>0.01</td>\n",
       "    </tr>\n",
       "    <tr>\n",
       "      <th>7</th>\n",
       "      <td>0</td>\n",
       "      <td>c0</td>\n",
       "      <td>0.00</td>\n",
       "    </tr>\n",
       "    <tr>\n",
       "      <th>8</th>\n",
       "      <td>0</td>\n",
       "      <td>c9</td>\n",
       "      <td>0.00</td>\n",
       "    </tr>\n",
       "    <tr>\n",
       "      <th>9</th>\n",
       "      <td>0</td>\n",
       "      <td>c2</td>\n",
       "      <td>0.00</td>\n",
       "    </tr>\n",
       "    <tr>\n",
       "      <th>10</th>\n",
       "      <td>1</td>\n",
       "      <td>c5</td>\n",
       "      <td>0.08</td>\n",
       "    </tr>\n",
       "    <tr>\n",
       "      <th>11</th>\n",
       "      <td>1</td>\n",
       "      <td>c8</td>\n",
       "      <td>0.26</td>\n",
       "    </tr>\n",
       "    <tr>\n",
       "      <th>12</th>\n",
       "      <td>1</td>\n",
       "      <td>c2</td>\n",
       "      <td>0.06</td>\n",
       "    </tr>\n",
       "    <tr>\n",
       "      <th>13</th>\n",
       "      <td>1</td>\n",
       "      <td>c3</td>\n",
       "      <td>0.47</td>\n",
       "    </tr>\n",
       "    <tr>\n",
       "      <th>14</th>\n",
       "      <td>1</td>\n",
       "      <td>c0</td>\n",
       "      <td>0.04</td>\n",
       "    </tr>\n",
       "    <tr>\n",
       "      <th>15</th>\n",
       "      <td>1</td>\n",
       "      <td>c4</td>\n",
       "      <td>0.04</td>\n",
       "    </tr>\n",
       "    <tr>\n",
       "      <th>16</th>\n",
       "      <td>1</td>\n",
       "      <td>c6</td>\n",
       "      <td>0.02</td>\n",
       "    </tr>\n",
       "    <tr>\n",
       "      <th>17</th>\n",
       "      <td>1</td>\n",
       "      <td>c1</td>\n",
       "      <td>0.01</td>\n",
       "    </tr>\n",
       "    <tr>\n",
       "      <th>18</th>\n",
       "      <td>1</td>\n",
       "      <td>c7</td>\n",
       "      <td>0.00</td>\n",
       "    </tr>\n",
       "    <tr>\n",
       "      <th>19</th>\n",
       "      <td>1</td>\n",
       "      <td>c9</td>\n",
       "      <td>0.00</td>\n",
       "    </tr>\n",
       "    <tr>\n",
       "      <th>20</th>\n",
       "      <td>2</td>\n",
       "      <td>c0</td>\n",
       "      <td>0.24</td>\n",
       "    </tr>\n",
       "    <tr>\n",
       "      <th>21</th>\n",
       "      <td>2</td>\n",
       "      <td>c1</td>\n",
       "      <td>0.70</td>\n",
       "    </tr>\n",
       "    <tr>\n",
       "      <th>22</th>\n",
       "      <td>2</td>\n",
       "      <td>c9</td>\n",
       "      <td>0.04</td>\n",
       "    </tr>\n",
       "    <tr>\n",
       "      <th>23</th>\n",
       "      <td>2</td>\n",
       "      <td>c8</td>\n",
       "      <td>0.01</td>\n",
       "    </tr>\n",
       "    <tr>\n",
       "      <th>24</th>\n",
       "      <td>2</td>\n",
       "      <td>c7</td>\n",
       "      <td>0.00</td>\n",
       "    </tr>\n",
       "    <tr>\n",
       "      <th>25</th>\n",
       "      <td>2</td>\n",
       "      <td>c5</td>\n",
       "      <td>0.00</td>\n",
       "    </tr>\n",
       "    <tr>\n",
       "      <th>26</th>\n",
       "      <td>2</td>\n",
       "      <td>c3</td>\n",
       "      <td>0.00</td>\n",
       "    </tr>\n",
       "    <tr>\n",
       "      <th>27</th>\n",
       "      <td>2</td>\n",
       "      <td>c2</td>\n",
       "      <td>0.00</td>\n",
       "    </tr>\n",
       "    <tr>\n",
       "      <th>28</th>\n",
       "      <td>2</td>\n",
       "      <td>c6</td>\n",
       "      <td>0.00</td>\n",
       "    </tr>\n",
       "    <tr>\n",
       "      <th>29</th>\n",
       "      <td>2</td>\n",
       "      <td>c4</td>\n",
       "      <td>0.00</td>\n",
       "    </tr>\n",
       "    <tr>\n",
       "      <th>...</th>\n",
       "      <td>...</td>\n",
       "      <td>...</td>\n",
       "      <td>...</td>\n",
       "    </tr>\n",
       "    <tr>\n",
       "      <th>797230</th>\n",
       "      <td>79723</td>\n",
       "      <td>c5</td>\n",
       "      <td>0.48</td>\n",
       "    </tr>\n",
       "    <tr>\n",
       "      <th>797231</th>\n",
       "      <td>79723</td>\n",
       "      <td>c1</td>\n",
       "      <td>0.02</td>\n",
       "    </tr>\n",
       "    <tr>\n",
       "      <th>797232</th>\n",
       "      <td>79723</td>\n",
       "      <td>c8</td>\n",
       "      <td>0.03</td>\n",
       "    </tr>\n",
       "    <tr>\n",
       "      <th>797233</th>\n",
       "      <td>79723</td>\n",
       "      <td>c3</td>\n",
       "      <td>0.44</td>\n",
       "    </tr>\n",
       "    <tr>\n",
       "      <th>797234</th>\n",
       "      <td>79723</td>\n",
       "      <td>c4</td>\n",
       "      <td>0.02</td>\n",
       "    </tr>\n",
       "    <tr>\n",
       "      <th>797235</th>\n",
       "      <td>79723</td>\n",
       "      <td>c9</td>\n",
       "      <td>0.00</td>\n",
       "    </tr>\n",
       "    <tr>\n",
       "      <th>797236</th>\n",
       "      <td>79723</td>\n",
       "      <td>c7</td>\n",
       "      <td>0.00</td>\n",
       "    </tr>\n",
       "    <tr>\n",
       "      <th>797237</th>\n",
       "      <td>79723</td>\n",
       "      <td>c0</td>\n",
       "      <td>0.00</td>\n",
       "    </tr>\n",
       "    <tr>\n",
       "      <th>797238</th>\n",
       "      <td>79723</td>\n",
       "      <td>c6</td>\n",
       "      <td>0.00</td>\n",
       "    </tr>\n",
       "    <tr>\n",
       "      <th>797239</th>\n",
       "      <td>79723</td>\n",
       "      <td>c2</td>\n",
       "      <td>0.00</td>\n",
       "    </tr>\n",
       "    <tr>\n",
       "      <th>797240</th>\n",
       "      <td>79724</td>\n",
       "      <td>c5</td>\n",
       "      <td>0.05</td>\n",
       "    </tr>\n",
       "    <tr>\n",
       "      <th>797241</th>\n",
       "      <td>79724</td>\n",
       "      <td>c1</td>\n",
       "      <td>0.69</td>\n",
       "    </tr>\n",
       "    <tr>\n",
       "      <th>797242</th>\n",
       "      <td>79724</td>\n",
       "      <td>c8</td>\n",
       "      <td>0.18</td>\n",
       "    </tr>\n",
       "    <tr>\n",
       "      <th>797243</th>\n",
       "      <td>79724</td>\n",
       "      <td>c9</td>\n",
       "      <td>0.04</td>\n",
       "    </tr>\n",
       "    <tr>\n",
       "      <th>797244</th>\n",
       "      <td>79724</td>\n",
       "      <td>c6</td>\n",
       "      <td>0.03</td>\n",
       "    </tr>\n",
       "    <tr>\n",
       "      <th>797245</th>\n",
       "      <td>79724</td>\n",
       "      <td>c7</td>\n",
       "      <td>0.01</td>\n",
       "    </tr>\n",
       "    <tr>\n",
       "      <th>797246</th>\n",
       "      <td>79724</td>\n",
       "      <td>c0</td>\n",
       "      <td>0.00</td>\n",
       "    </tr>\n",
       "    <tr>\n",
       "      <th>797247</th>\n",
       "      <td>79724</td>\n",
       "      <td>c2</td>\n",
       "      <td>0.00</td>\n",
       "    </tr>\n",
       "    <tr>\n",
       "      <th>797248</th>\n",
       "      <td>79724</td>\n",
       "      <td>c3</td>\n",
       "      <td>0.00</td>\n",
       "    </tr>\n",
       "    <tr>\n",
       "      <th>797249</th>\n",
       "      <td>79724</td>\n",
       "      <td>c4</td>\n",
       "      <td>0.00</td>\n",
       "    </tr>\n",
       "    <tr>\n",
       "      <th>797250</th>\n",
       "      <td>79725</td>\n",
       "      <td>c0</td>\n",
       "      <td>0.05</td>\n",
       "    </tr>\n",
       "    <tr>\n",
       "      <th>797251</th>\n",
       "      <td>79725</td>\n",
       "      <td>c1</td>\n",
       "      <td>0.01</td>\n",
       "    </tr>\n",
       "    <tr>\n",
       "      <th>797252</th>\n",
       "      <td>79725</td>\n",
       "      <td>c2</td>\n",
       "      <td>0.07</td>\n",
       "    </tr>\n",
       "    <tr>\n",
       "      <th>797253</th>\n",
       "      <td>79725</td>\n",
       "      <td>c8</td>\n",
       "      <td>0.85</td>\n",
       "    </tr>\n",
       "    <tr>\n",
       "      <th>797254</th>\n",
       "      <td>79725</td>\n",
       "      <td>c5</td>\n",
       "      <td>0.01</td>\n",
       "    </tr>\n",
       "    <tr>\n",
       "      <th>797255</th>\n",
       "      <td>79725</td>\n",
       "      <td>c6</td>\n",
       "      <td>0.01</td>\n",
       "    </tr>\n",
       "    <tr>\n",
       "      <th>797256</th>\n",
       "      <td>79725</td>\n",
       "      <td>c4</td>\n",
       "      <td>0.00</td>\n",
       "    </tr>\n",
       "    <tr>\n",
       "      <th>797257</th>\n",
       "      <td>79725</td>\n",
       "      <td>c3</td>\n",
       "      <td>0.00</td>\n",
       "    </tr>\n",
       "    <tr>\n",
       "      <th>797258</th>\n",
       "      <td>79725</td>\n",
       "      <td>c9</td>\n",
       "      <td>0.00</td>\n",
       "    </tr>\n",
       "    <tr>\n",
       "      <th>797259</th>\n",
       "      <td>79725</td>\n",
       "      <td>c7</td>\n",
       "      <td>0.00</td>\n",
       "    </tr>\n",
       "  </tbody>\n",
       "</table>\n",
       "<p>797260 rows × 3 columns</p>\n",
       "</div>"
      ],
      "text/plain": [
       "           id class  probability\n",
       "0           0    c5         0.70\n",
       "1           0    c1         0.07\n",
       "2           0    c8         0.21\n",
       "3           0    c3         0.01\n",
       "4           0    c4         0.00\n",
       "5           0    c7         0.00\n",
       "6           0    c6         0.01\n",
       "7           0    c0         0.00\n",
       "8           0    c9         0.00\n",
       "9           0    c2         0.00\n",
       "10          1    c5         0.08\n",
       "11          1    c8         0.26\n",
       "12          1    c2         0.06\n",
       "13          1    c3         0.47\n",
       "14          1    c0         0.04\n",
       "15          1    c4         0.04\n",
       "16          1    c6         0.02\n",
       "17          1    c1         0.01\n",
       "18          1    c7         0.00\n",
       "19          1    c9         0.00\n",
       "20          2    c0         0.24\n",
       "21          2    c1         0.70\n",
       "22          2    c9         0.04\n",
       "23          2    c8         0.01\n",
       "24          2    c7         0.00\n",
       "25          2    c5         0.00\n",
       "26          2    c3         0.00\n",
       "27          2    c2         0.00\n",
       "28          2    c6         0.00\n",
       "29          2    c4         0.00\n",
       "...       ...   ...          ...\n",
       "797230  79723    c5         0.48\n",
       "797231  79723    c1         0.02\n",
       "797232  79723    c8         0.03\n",
       "797233  79723    c3         0.44\n",
       "797234  79723    c4         0.02\n",
       "797235  79723    c9         0.00\n",
       "797236  79723    c7         0.00\n",
       "797237  79723    c0         0.00\n",
       "797238  79723    c6         0.00\n",
       "797239  79723    c2         0.00\n",
       "797240  79724    c5         0.05\n",
       "797241  79724    c1         0.69\n",
       "797242  79724    c8         0.18\n",
       "797243  79724    c9         0.04\n",
       "797244  79724    c6         0.03\n",
       "797245  79724    c7         0.01\n",
       "797246  79724    c0         0.00\n",
       "797247  79724    c2         0.00\n",
       "797248  79724    c3         0.00\n",
       "797249  79724    c4         0.00\n",
       "797250  79725    c0         0.05\n",
       "797251  79725    c1         0.01\n",
       "797252  79725    c2         0.07\n",
       "797253  79725    c8         0.85\n",
       "797254  79725    c5         0.01\n",
       "797255  79725    c6         0.01\n",
       "797256  79725    c4         0.00\n",
       "797257  79725    c3         0.00\n",
       "797258  79725    c9         0.00\n",
       "797259  79725    c7         0.00\n",
       "\n",
       "[797260 rows x 3 columns]"
      ]
     },
     "execution_count": 11,
     "metadata": {},
     "output_type": "execute_result"
    }
   ],
   "source": [
    "prediction_df"
   ]
  },
  {
   "cell_type": "code",
   "execution_count": 12,
   "metadata": {
    "collapsed": true
   },
   "outputs": [],
   "source": [
    "prediction_df = prediction_df.pivot(index='id', columns='class', values='probability')"
   ]
  },
  {
   "cell_type": "code",
   "execution_count": 13,
   "metadata": {
    "collapsed": false
   },
   "outputs": [],
   "source": [
    "prediction_sf = graphlab.SFrame(prediction_df)"
   ]
  },
  {
   "cell_type": "code",
   "execution_count": 96,
   "metadata": {
    "collapsed": false
   },
   "outputs": [
    {
     "data": {
      "text/plain": [
       "{'c0': 0.2,\n",
       " 'c1': 0.8,\n",
       " 'c2': 0.0,\n",
       " 'c3': 0.0,\n",
       " 'c4': 0.0,\n",
       " 'c5': 0.0,\n",
       " 'c6': 0.0,\n",
       " 'c7': 0.0,\n",
       " 'c8': 0.0,\n",
       " 'c9': 0.0}"
      ]
     },
     "execution_count": 96,
     "metadata": {},
     "output_type": "execute_result"
    }
   ],
   "source": [
    "# prediction_sf[2]"
   ]
  },
  {
   "cell_type": "code",
   "execution_count": 80,
   "metadata": {
    "collapsed": true
   },
   "outputs": [],
   "source": [
    "#def modify(row):\n",
    "#    print row\n",
    "#    values = row.values()\n",
    "#    if sum(values) < 1:\n",
    "#        res = 1 - sum(values)\n",
    "#        key = max(row, key=row.get)\n",
    "#        row[key] += res\n",
    "#    return row\n",
    "        "
   ]
  },
  {
   "cell_type": "code",
   "execution_count": 14,
   "metadata": {
    "collapsed": false
   },
   "outputs": [],
   "source": [
    "result = test_imgs.add_columns(prediction_sf)"
   ]
  },
  {
   "cell_type": "code",
   "execution_count": 15,
   "metadata": {
    "collapsed": false
   },
   "outputs": [],
   "source": [
    "result = result.remove_columns(['image', 'label', 'deep_features'])"
   ]
  },
  {
   "cell_type": "code",
   "execution_count": 16,
   "metadata": {
    "collapsed": false
   },
   "outputs": [],
   "source": [
    "result = result.sort('img_name')"
   ]
  },
  {
   "cell_type": "code",
   "execution_count": 17,
   "metadata": {
    "collapsed": false
   },
   "outputs": [],
   "source": [
    "result.save('boost_result.csv')"
   ]
  },
  {
   "cell_type": "code",
   "execution_count": 30,
   "metadata": {
    "collapsed": false
   },
   "outputs": [],
   "source": [
    "result = result.remove_column('X11')"
   ]
  },
  {
   "cell_type": "code",
   "execution_count": 60,
   "metadata": {
    "collapsed": false
   },
   "outputs": [],
   "source": [
    "test = prediction_sf[2]"
   ]
  },
  {
   "cell_type": "code",
   "execution_count": 61,
   "metadata": {
    "collapsed": false
   },
   "outputs": [
    {
     "data": {
      "text/plain": [
       "{'c0': 0.2,\n",
       " 'c1': 0.7,\n",
       " 'c2': 0.0,\n",
       " 'c3': 0.0,\n",
       " 'c4': 0.0,\n",
       " 'c5': 0.0,\n",
       " 'c6': 0.0,\n",
       " 'c7': 0.0,\n",
       " 'c8': 0.0,\n",
       " 'c9': 0.0}"
      ]
     },
     "execution_count": 61,
     "metadata": {},
     "output_type": "execute_result"
    }
   ],
   "source": [
    "test"
   ]
  },
  {
   "cell_type": "code",
   "execution_count": 63,
   "metadata": {
    "collapsed": false
   },
   "outputs": [
    {
     "name": "stdout",
     "output_type": "stream",
     "text": [
      "c1\n",
      "{'c9': 0.0, 'c8': 0.0, 'c3': 0.0, 'c2': 0.0, 'c1': 0.8, 'c0': 0.2, 'c7': 0.0, 'c6': 0.0, 'c5': 0.0, 'c4': 0.0}\n"
     ]
    }
   ],
   "source": [
    "print modify(test)"
   ]
  },
  {
   "cell_type": "code",
   "execution_count": null,
   "metadata": {
    "collapsed": true
   },
   "outputs": [],
   "source": []
  }
 ],
 "metadata": {
  "kernelspec": {
   "display_name": "Python 2",
   "language": "python",
   "name": "python2"
  },
  "language_info": {
   "codemirror_mode": {
    "name": "ipython",
    "version": 2
   },
   "file_extension": ".py",
   "mimetype": "text/x-python",
   "name": "python",
   "nbconvert_exporter": "python",
   "pygments_lexer": "ipython2",
   "version": "2.7.11"
  }
 },
 "nbformat": 4,
 "nbformat_minor": 0
}
