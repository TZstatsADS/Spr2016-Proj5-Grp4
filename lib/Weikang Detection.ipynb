{
 "cells": [
  {
   "cell_type": "code",
   "execution_count": 1,
   "metadata": {
    "collapsed": true
   },
   "outputs": [],
   "source": [
    "import graphlab"
   ]
  },
  {
   "cell_type": "code",
   "execution_count": 6,
   "metadata": {
    "collapsed": false
   },
   "outputs": [
    {
     "data": {
      "text/html": [
       "<pre>Unsupported image format. Supported formats are JPG and PNG\t file: /Users/voelunteer/Courses/Applied-Data-Science/finalproject-group4/figs/Playground/0/.DS_Store</pre>"
      ],
      "text/plain": [
       "Unsupported image format. Supported formats are JPG and PNG\t file: /Users/voelunteer/Courses/Applied-Data-Science/finalproject-group4/figs/Playground/0/.DS_Store"
      ]
     },
     "metadata": {},
     "output_type": "display_data"
    },
    {
     "data": {
      "text/html": [
       "<pre>Unsupported image format. Supported formats are JPG and PNG\t file: /Users/voelunteer/Courses/Applied-Data-Science/finalproject-group4/figs/Playground/.DS_Store</pre>"
      ],
      "text/plain": [
       "Unsupported image format. Supported formats are JPG and PNG\t file: /Users/voelunteer/Courses/Applied-Data-Science/finalproject-group4/figs/Playground/.DS_Store"
      ]
     },
     "metadata": {},
     "output_type": "display_data"
    },
    {
     "data": {
      "text/html": [
       "<pre>Unsupported image format. Supported formats are JPG and PNG\t file: /Users/voelunteer/Courses/Applied-Data-Science/finalproject-group4/figs/Playground/1/.DS_Store</pre>"
      ],
      "text/plain": [
       "Unsupported image format. Supported formats are JPG and PNG\t file: /Users/voelunteer/Courses/Applied-Data-Science/finalproject-group4/figs/Playground/1/.DS_Store"
      ]
     },
     "metadata": {},
     "output_type": "display_data"
    },
    {
     "data": {
      "text/html": [
       "<pre>Images being resized.</pre>"
      ],
      "text/plain": [
       "Images being resized."
      ]
     },
     "metadata": {},
     "output_type": "display_data"
    }
   ],
   "source": [
    "fake_driving_imgs = graphlab.image_analysis.load_images('../figs/Playground')\n",
    "deep_learning_model = graphlab.load_model('http://s3.amazonaws.com/GraphLab-Datasets/deeplearning/imagenet_model_iter45')\n",
    "fake_driving_imgs['deep_features'] = deep_learning_model.extract_features(fake_driving_imgs)"
   ]
  },
  {
   "cell_type": "code",
   "execution_count": 4,
   "metadata": {
    "collapsed": false
   },
   "outputs": [],
   "source": [
    "# fake_driving_imgs = fake_driving_imgs.unpack('deep_features')"
   ]
  },
  {
   "cell_type": "code",
   "execution_count": 5,
   "metadata": {
    "collapsed": true
   },
   "outputs": [],
   "source": [
    "# fake_driving_imgs.save('../output/playground.csv')"
   ]
  },
  {
   "cell_type": "code",
   "execution_count": 8,
   "metadata": {
    "collapsed": false
   },
   "outputs": [],
   "source": [
    "def label(path):\n",
    "    return path.split('/')[-2]"
   ]
  },
  {
   "cell_type": "code",
   "execution_count": 10,
   "metadata": {
    "collapsed": false
   },
   "outputs": [],
   "source": [
    "fake_driving_imgs['label'] = fake_driving_imgs['path'].apply(lambda x: label(x))"
   ]
  },
  {
   "cell_type": "code",
   "execution_count": 13,
   "metadata": {
    "collapsed": false
   },
   "outputs": [
    {
     "name": "stdout",
     "output_type": "stream",
     "text": [
      "PROGRESS: Creating a validation set from 5 percent of training data. This may take a while.\n",
      "          You can set ``validation_set=None`` to disable validation tracking.\n",
      "\n"
     ]
    },
    {
     "data": {
      "text/html": [
       "<pre>WARNING: The number of feature dimensions in this problem is very large in comparison with the number of examples. Unless an appropriate regularization value is set, this model may not provide accurate predictions for a validation/test set.</pre>"
      ],
      "text/plain": [
       "WARNING: The number of feature dimensions in this problem is very large in comparison with the number of examples. Unless an appropriate regularization value is set, this model may not provide accurate predictions for a validation/test set."
      ]
     },
     "metadata": {},
     "output_type": "display_data"
    },
    {
     "data": {
      "text/html": [
       "<pre>WARNING: Detected extremely low variance for feature(s) 'deep_features' because all entries are nearly the same.\n",
       "Proceeding with model training using all features. If the model does not provide results of adequate quality, exclude the above mentioned feature(s) from the input dataset.</pre>"
      ],
      "text/plain": [
       "WARNING: Detected extremely low variance for feature(s) 'deep_features' because all entries are nearly the same.\n",
       "Proceeding with model training using all features. If the model does not provide results of adequate quality, exclude the above mentioned feature(s) from the input dataset."
      ]
     },
     "metadata": {},
     "output_type": "display_data"
    },
    {
     "data": {
      "text/html": [
       "<pre>Boosted trees classifier:</pre>"
      ],
      "text/plain": [
       "Boosted trees classifier:"
      ]
     },
     "metadata": {},
     "output_type": "display_data"
    },
    {
     "data": {
      "text/html": [
       "<pre>--------------------------------------------------------</pre>"
      ],
      "text/plain": [
       "--------------------------------------------------------"
      ]
     },
     "metadata": {},
     "output_type": "display_data"
    },
    {
     "data": {
      "text/html": [
       "<pre>Number of examples          : 99</pre>"
      ],
      "text/plain": [
       "Number of examples          : 99"
      ]
     },
     "metadata": {},
     "output_type": "display_data"
    },
    {
     "data": {
      "text/html": [
       "<pre>Number of classes           : 2</pre>"
      ],
      "text/plain": [
       "Number of classes           : 2"
      ]
     },
     "metadata": {},
     "output_type": "display_data"
    },
    {
     "data": {
      "text/html": [
       "<pre>Number of feature columns   : 1</pre>"
      ],
      "text/plain": [
       "Number of feature columns   : 1"
      ]
     },
     "metadata": {},
     "output_type": "display_data"
    },
    {
     "data": {
      "text/html": [
       "<pre>Number of unpacked features : 4096</pre>"
      ],
      "text/plain": [
       "Number of unpacked features : 4096"
      ]
     },
     "metadata": {},
     "output_type": "display_data"
    },
    {
     "data": {
      "text/html": [
       "<pre>+-----------+--------------+-------------------+-------------------+---------------------+---------------------+</pre>"
      ],
      "text/plain": [
       "+-----------+--------------+-------------------+-------------------+---------------------+---------------------+"
      ]
     },
     "metadata": {},
     "output_type": "display_data"
    },
    {
     "data": {
      "text/html": [
       "<pre>| Iteration | Elapsed Time | Training-accuracy | Training-log_loss | Validation-accuracy | Validation-log_loss |</pre>"
      ],
      "text/plain": [
       "| Iteration | Elapsed Time | Training-accuracy | Training-log_loss | Validation-accuracy | Validation-log_loss |"
      ]
     },
     "metadata": {},
     "output_type": "display_data"
    },
    {
     "data": {
      "text/html": [
       "<pre>+-----------+--------------+-------------------+-------------------+---------------------+---------------------+</pre>"
      ],
      "text/plain": [
       "+-----------+--------------+-------------------+-------------------+---------------------+---------------------+"
      ]
     },
     "metadata": {},
     "output_type": "display_data"
    },
    {
     "data": {
      "text/html": [
       "<pre>| 1         | 0.043157     | 1.000000          | 0.470795          | 0.833333            | 0.575625            |</pre>"
      ],
      "text/plain": [
       "| 1         | 0.043157     | 1.000000          | 0.470795          | 0.833333            | 0.575625            |"
      ]
     },
     "metadata": {},
     "output_type": "display_data"
    },
    {
     "data": {
      "text/html": [
       "<pre>| 2         | 0.077791     | 1.000000          | 0.338503          | 0.833333            | 0.410801            |</pre>"
      ],
      "text/plain": [
       "| 2         | 0.077791     | 1.000000          | 0.338503          | 0.833333            | 0.410801            |"
      ]
     },
     "metadata": {},
     "output_type": "display_data"
    },
    {
     "data": {
      "text/html": [
       "<pre>| 3         | 0.109163     | 1.000000          | 0.251963          | 0.833333            | 0.380982            |</pre>"
      ],
      "text/plain": [
       "| 3         | 0.109163     | 1.000000          | 0.251963          | 0.833333            | 0.380982            |"
      ]
     },
     "metadata": {},
     "output_type": "display_data"
    },
    {
     "data": {
      "text/html": [
       "<pre>| 4         | 0.138553     | 1.000000          | 0.190882          | 0.833333            | 0.290463            |</pre>"
      ],
      "text/plain": [
       "| 4         | 0.138553     | 1.000000          | 0.190882          | 0.833333            | 0.290463            |"
      ]
     },
     "metadata": {},
     "output_type": "display_data"
    },
    {
     "data": {
      "text/html": [
       "<pre>| 5         | 0.169209     | 1.000000          | 0.148425          | 0.833333            | 0.287643            |</pre>"
      ],
      "text/plain": [
       "| 5         | 0.169209     | 1.000000          | 0.148425          | 0.833333            | 0.287643            |"
      ]
     },
     "metadata": {},
     "output_type": "display_data"
    },
    {
     "data": {
      "text/html": [
       "<pre>| 6         | 0.204957     | 1.000000          | 0.116404          | 0.833333            | 0.235613            |</pre>"
      ],
      "text/plain": [
       "| 6         | 0.204957     | 1.000000          | 0.116404          | 0.833333            | 0.235613            |"
      ]
     },
     "metadata": {},
     "output_type": "display_data"
    },
    {
     "data": {
      "text/html": [
       "<pre>| 11        | 0.313943     | 1.000000          | 0.044294          | 1.000000            | 0.134480            |</pre>"
      ],
      "text/plain": [
       "| 11        | 0.313943     | 1.000000          | 0.044294          | 1.000000            | 0.134480            |"
      ]
     },
     "metadata": {},
     "output_type": "display_data"
    },
    {
     "data": {
      "text/html": [
       "<pre>| 50        | 1.003312     | 1.000000          | 0.004660          | 1.000000            | 0.025568            |</pre>"
      ],
      "text/plain": [
       "| 50        | 1.003312     | 1.000000          | 0.004660          | 1.000000            | 0.025568            |"
      ]
     },
     "metadata": {},
     "output_type": "display_data"
    },
    {
     "data": {
      "text/html": [
       "<pre>| 51        | 1.038540     | 1.000000          | 0.004572          | 1.000000            | 0.025351            |</pre>"
      ],
      "text/plain": [
       "| 51        | 1.038540     | 1.000000          | 0.004572          | 1.000000            | 0.025351            |"
      ]
     },
     "metadata": {},
     "output_type": "display_data"
    },
    {
     "data": {
      "text/html": [
       "<pre>| 100       | 1.736936     | 1.000000          | 0.002660          | 1.000000            | 0.015879            |</pre>"
      ],
      "text/plain": [
       "| 100       | 1.736936     | 1.000000          | 0.002660          | 1.000000            | 0.015879            |"
      ]
     },
     "metadata": {},
     "output_type": "display_data"
    },
    {
     "data": {
      "text/html": [
       "<pre>| 101       | 1.751829     | 1.000000          | 0.002642          | 1.000000            | 0.016103            |</pre>"
      ],
      "text/plain": [
       "| 101       | 1.751829     | 1.000000          | 0.002642          | 1.000000            | 0.016103            |"
      ]
     },
     "metadata": {},
     "output_type": "display_data"
    },
    {
     "data": {
      "text/html": [
       "<pre>| 150       | 2.333568     | 1.000000          | 0.002026          | 1.000000            | 0.014512            |</pre>"
      ],
      "text/plain": [
       "| 150       | 2.333568     | 1.000000          | 0.002026          | 1.000000            | 0.014512            |"
      ]
     },
     "metadata": {},
     "output_type": "display_data"
    },
    {
     "data": {
      "text/html": [
       "<pre>| 200       | 2.693419     | 1.000000          | 0.002026          | 1.000000            | 0.014445            |</pre>"
      ],
      "text/plain": [
       "| 200       | 2.693419     | 1.000000          | 0.002026          | 1.000000            | 0.014445            |"
      ]
     },
     "metadata": {},
     "output_type": "display_data"
    },
    {
     "data": {
      "text/html": [
       "<pre>| 250       | 3.091435     | 1.000000          | 0.002026          | 1.000000            | 0.014439            |</pre>"
      ],
      "text/plain": [
       "| 250       | 3.091435     | 1.000000          | 0.002026          | 1.000000            | 0.014439            |"
      ]
     },
     "metadata": {},
     "output_type": "display_data"
    },
    {
     "data": {
      "text/html": [
       "<pre>| 300       | 3.491952     | 1.000000          | 0.002026          | 1.000000            | 0.014439            |</pre>"
      ],
      "text/plain": [
       "| 300       | 3.491952     | 1.000000          | 0.002026          | 1.000000            | 0.014439            |"
      ]
     },
     "metadata": {},
     "output_type": "display_data"
    },
    {
     "data": {
      "text/html": [
       "<pre>| 350       | 3.867690     | 1.000000          | 0.002026          | 1.000000            | 0.014439            |</pre>"
      ],
      "text/plain": [
       "| 350       | 3.867690     | 1.000000          | 0.002026          | 1.000000            | 0.014439            |"
      ]
     },
     "metadata": {},
     "output_type": "display_data"
    },
    {
     "data": {
      "text/html": [
       "<pre>| 400       | 4.237633     | 1.000000          | 0.002026          | 1.000000            | 0.014439            |</pre>"
      ],
      "text/plain": [
       "| 400       | 4.237633     | 1.000000          | 0.002026          | 1.000000            | 0.014439            |"
      ]
     },
     "metadata": {},
     "output_type": "display_data"
    },
    {
     "data": {
      "text/html": [
       "<pre>| 450       | 4.592877     | 1.000000          | 0.002026          | 1.000000            | 0.014439            |</pre>"
      ],
      "text/plain": [
       "| 450       | 4.592877     | 1.000000          | 0.002026          | 1.000000            | 0.014439            |"
      ]
     },
     "metadata": {},
     "output_type": "display_data"
    },
    {
     "data": {
      "text/html": [
       "<pre>| 500       | 4.927909     | 1.000000          | 0.002026          | 1.000000            | 0.014439            |</pre>"
      ],
      "text/plain": [
       "| 500       | 4.927909     | 1.000000          | 0.002026          | 1.000000            | 0.014439            |"
      ]
     },
     "metadata": {},
     "output_type": "display_data"
    },
    {
     "data": {
      "text/html": [
       "<pre>| 501       | 4.934307     | 1.000000          | 0.002026          | 1.000000            | 0.014439            |</pre>"
      ],
      "text/plain": [
       "| 501       | 4.934307     | 1.000000          | 0.002026          | 1.000000            | 0.014439            |"
      ]
     },
     "metadata": {},
     "output_type": "display_data"
    },
    {
     "data": {
      "text/html": [
       "<pre>| 550       | 5.259483     | 1.000000          | 0.002026          | 1.000000            | 0.014438            |</pre>"
      ],
      "text/plain": [
       "| 550       | 5.259483     | 1.000000          | 0.002026          | 1.000000            | 0.014438            |"
      ]
     },
     "metadata": {},
     "output_type": "display_data"
    },
    {
     "data": {
      "text/html": [
       "<pre>| 600       | 5.620098     | 1.000000          | 0.002026          | 1.000000            | 0.014438            |</pre>"
      ],
      "text/plain": [
       "| 600       | 5.620098     | 1.000000          | 0.002026          | 1.000000            | 0.014438            |"
      ]
     },
     "metadata": {},
     "output_type": "display_data"
    },
    {
     "data": {
      "text/html": [
       "<pre>| 650       | 5.983372     | 1.000000          | 0.002026          | 1.000000            | 0.014438            |</pre>"
      ],
      "text/plain": [
       "| 650       | 5.983372     | 1.000000          | 0.002026          | 1.000000            | 0.014438            |"
      ]
     },
     "metadata": {},
     "output_type": "display_data"
    },
    {
     "data": {
      "text/html": [
       "<pre>| 700       | 6.315591     | 1.000000          | 0.002026          | 1.000000            | 0.014438            |</pre>"
      ],
      "text/plain": [
       "| 700       | 6.315591     | 1.000000          | 0.002026          | 1.000000            | 0.014438            |"
      ]
     },
     "metadata": {},
     "output_type": "display_data"
    },
    {
     "data": {
      "text/html": [
       "<pre>| 750       | 6.645874     | 1.000000          | 0.002026          | 1.000000            | 0.014438            |</pre>"
      ],
      "text/plain": [
       "| 750       | 6.645874     | 1.000000          | 0.002026          | 1.000000            | 0.014438            |"
      ]
     },
     "metadata": {},
     "output_type": "display_data"
    },
    {
     "data": {
      "text/html": [
       "<pre>| 800       | 7.016141     | 1.000000          | 0.002026          | 1.000000            | 0.014438            |</pre>"
      ],
      "text/plain": [
       "| 800       | 7.016141     | 1.000000          | 0.002026          | 1.000000            | 0.014438            |"
      ]
     },
     "metadata": {},
     "output_type": "display_data"
    },
    {
     "data": {
      "text/html": [
       "<pre>| 850       | 7.394296     | 1.000000          | 0.002026          | 1.000000            | 0.014438            |</pre>"
      ],
      "text/plain": [
       "| 850       | 7.394296     | 1.000000          | 0.002026          | 1.000000            | 0.014438            |"
      ]
     },
     "metadata": {},
     "output_type": "display_data"
    },
    {
     "data": {
      "text/html": [
       "<pre>| 900       | 7.723896     | 1.000000          | 0.002026          | 1.000000            | 0.014437            |</pre>"
      ],
      "text/plain": [
       "| 900       | 7.723896     | 1.000000          | 0.002026          | 1.000000            | 0.014437            |"
      ]
     },
     "metadata": {},
     "output_type": "display_data"
    },
    {
     "data": {
      "text/html": [
       "<pre>| 950       | 8.005996     | 1.000000          | 0.002026          | 1.000000            | 0.014437            |</pre>"
      ],
      "text/plain": [
       "| 950       | 8.005996     | 1.000000          | 0.002026          | 1.000000            | 0.014437            |"
      ]
     },
     "metadata": {},
     "output_type": "display_data"
    },
    {
     "data": {
      "text/html": [
       "<pre>| 1000      | 8.295130     | 1.000000          | 0.002026          | 1.000000            | 0.014437            |</pre>"
      ],
      "text/plain": [
       "| 1000      | 8.295130     | 1.000000          | 0.002026          | 1.000000            | 0.014437            |"
      ]
     },
     "metadata": {},
     "output_type": "display_data"
    },
    {
     "data": {
      "text/html": [
       "<pre>+-----------+--------------+-------------------+-------------------+---------------------+---------------------+</pre>"
      ],
      "text/plain": [
       "+-----------+--------------+-------------------+-------------------+---------------------+---------------------+"
      ]
     },
     "metadata": {},
     "output_type": "display_data"
    }
   ],
   "source": [
    "boost_model = graphlab.boosted_trees_classifier.create(fake_driving_imgs, target='label', features=['deep_features'], max_iterations=1000)"
   ]
  },
  {
   "cell_type": "code",
   "execution_count": 14,
   "metadata": {
    "collapsed": true
   },
   "outputs": [],
   "source": [
    "prediction = boost_model.predict_topk(fake_driving_imgs, k=2)"
   ]
  },
  {
   "cell_type": "code",
   "execution_count": 15,
   "metadata": {
    "collapsed": false
   },
   "outputs": [
    {
     "data": {
      "text/html": [
       "<div style=\"max-height:1000px;max-width:1500px;overflow:auto;\"><table frame=\"box\" rules=\"cols\">\n",
       "    <tr>\n",
       "        <th style=\"padding-left: 1em; padding-right: 1em; text-align: center\">id</th>\n",
       "        <th style=\"padding-left: 1em; padding-right: 1em; text-align: center\">class</th>\n",
       "        <th style=\"padding-left: 1em; padding-right: 1em; text-align: center\">probability</th>\n",
       "    </tr>\n",
       "    <tr>\n",
       "        <td style=\"padding-left: 1em; padding-right: 1em; text-align: center; vertical-align: top\">0</td>\n",
       "        <td style=\"padding-left: 1em; padding-right: 1em; text-align: center; vertical-align: top\">1</td>\n",
       "        <td style=\"padding-left: 1em; padding-right: 1em; text-align: center; vertical-align: top\">0.999213576317</td>\n",
       "    </tr>\n",
       "    <tr>\n",
       "        <td style=\"padding-left: 1em; padding-right: 1em; text-align: center; vertical-align: top\">0</td>\n",
       "        <td style=\"padding-left: 1em; padding-right: 1em; text-align: center; vertical-align: top\">0</td>\n",
       "        <td style=\"padding-left: 1em; padding-right: 1em; text-align: center; vertical-align: top\">0.000786423683167</td>\n",
       "    </tr>\n",
       "    <tr>\n",
       "        <td style=\"padding-left: 1em; padding-right: 1em; text-align: center; vertical-align: top\">1</td>\n",
       "        <td style=\"padding-left: 1em; padding-right: 1em; text-align: center; vertical-align: top\">0</td>\n",
       "        <td style=\"padding-left: 1em; padding-right: 1em; text-align: center; vertical-align: top\">0.999076247215</td>\n",
       "    </tr>\n",
       "    <tr>\n",
       "        <td style=\"padding-left: 1em; padding-right: 1em; text-align: center; vertical-align: top\">1</td>\n",
       "        <td style=\"padding-left: 1em; padding-right: 1em; text-align: center; vertical-align: top\">1</td>\n",
       "        <td style=\"padding-left: 1em; padding-right: 1em; text-align: center; vertical-align: top\">0.000923765357584</td>\n",
       "    </tr>\n",
       "    <tr>\n",
       "        <td style=\"padding-left: 1em; padding-right: 1em; text-align: center; vertical-align: top\">2</td>\n",
       "        <td style=\"padding-left: 1em; padding-right: 1em; text-align: center; vertical-align: top\">0</td>\n",
       "        <td style=\"padding-left: 1em; padding-right: 1em; text-align: center; vertical-align: top\">0.998699784279</td>\n",
       "    </tr>\n",
       "    <tr>\n",
       "        <td style=\"padding-left: 1em; padding-right: 1em; text-align: center; vertical-align: top\">2</td>\n",
       "        <td style=\"padding-left: 1em; padding-right: 1em; text-align: center; vertical-align: top\">1</td>\n",
       "        <td style=\"padding-left: 1em; padding-right: 1em; text-align: center; vertical-align: top\">0.0013002086198</td>\n",
       "    </tr>\n",
       "    <tr>\n",
       "        <td style=\"padding-left: 1em; padding-right: 1em; text-align: center; vertical-align: top\">3</td>\n",
       "        <td style=\"padding-left: 1em; padding-right: 1em; text-align: center; vertical-align: top\">1</td>\n",
       "        <td style=\"padding-left: 1em; padding-right: 1em; text-align: center; vertical-align: top\">0.99673718214</td>\n",
       "    </tr>\n",
       "    <tr>\n",
       "        <td style=\"padding-left: 1em; padding-right: 1em; text-align: center; vertical-align: top\">3</td>\n",
       "        <td style=\"padding-left: 1em; padding-right: 1em; text-align: center; vertical-align: top\">0</td>\n",
       "        <td style=\"padding-left: 1em; padding-right: 1em; text-align: center; vertical-align: top\">0.00326281785965</td>\n",
       "    </tr>\n",
       "    <tr>\n",
       "        <td style=\"padding-left: 1em; padding-right: 1em; text-align: center; vertical-align: top\">4</td>\n",
       "        <td style=\"padding-left: 1em; padding-right: 1em; text-align: center; vertical-align: top\">1</td>\n",
       "        <td style=\"padding-left: 1em; padding-right: 1em; text-align: center; vertical-align: top\">0.998535990715</td>\n",
       "    </tr>\n",
       "    <tr>\n",
       "        <td style=\"padding-left: 1em; padding-right: 1em; text-align: center; vertical-align: top\">4</td>\n",
       "        <td style=\"padding-left: 1em; padding-right: 1em; text-align: center; vertical-align: top\">0</td>\n",
       "        <td style=\"padding-left: 1em; padding-right: 1em; text-align: center; vertical-align: top\">0.00146400928497</td>\n",
       "    </tr>\n",
       "</table>\n",
       "[210 rows x 3 columns]<br/>Note: Only the head of the SFrame is printed.<br/>You can use print_rows(num_rows=m, num_columns=n) to print more rows and columns.\n",
       "</div>"
      ],
      "text/plain": [
       "Columns:\n",
       "\tid\tint\n",
       "\tclass\tstr\n",
       "\tprobability\tfloat\n",
       "\n",
       "Rows: 210\n",
       "\n",
       "Data:\n",
       "+----+-------+-------------------+\n",
       "| id | class |    probability    |\n",
       "+----+-------+-------------------+\n",
       "| 0  |   1   |   0.999213576317  |\n",
       "| 0  |   0   | 0.000786423683167 |\n",
       "| 1  |   0   |   0.999076247215  |\n",
       "| 1  |   1   | 0.000923765357584 |\n",
       "| 2  |   0   |   0.998699784279  |\n",
       "| 2  |   1   |  0.0013002086198  |\n",
       "| 3  |   1   |   0.99673718214   |\n",
       "| 3  |   0   |  0.00326281785965 |\n",
       "| 4  |   1   |   0.998535990715  |\n",
       "| 4  |   0   |  0.00146400928497 |\n",
       "+----+-------+-------------------+\n",
       "[210 rows x 3 columns]\n",
       "Note: Only the head of the SFrame is printed.\n",
       "You can use print_rows(num_rows=m, num_columns=n) to print more rows and columns."
      ]
     },
     "execution_count": 15,
     "metadata": {},
     "output_type": "execute_result"
    }
   ],
   "source": [
    "prediction"
   ]
  },
  {
   "cell_type": "code",
   "execution_count": null,
   "metadata": {
    "collapsed": true
   },
   "outputs": [],
   "source": []
  }
 ],
 "metadata": {
  "kernelspec": {
   "display_name": "Python 2",
   "language": "python",
   "name": "python2"
  },
  "language_info": {
   "codemirror_mode": {
    "name": "ipython",
    "version": 2
   },
   "file_extension": ".py",
   "mimetype": "text/x-python",
   "name": "python",
   "nbconvert_exporter": "python",
   "pygments_lexer": "ipython2",
   "version": "2.7.11"
  }
 },
 "nbformat": 4,
 "nbformat_minor": 0
}
